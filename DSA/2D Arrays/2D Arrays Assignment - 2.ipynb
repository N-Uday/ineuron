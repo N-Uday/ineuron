{
 "cells": [
  {
   "cell_type": "markdown",
   "id": "a92ba1c1",
   "metadata": {},
   "source": [
    "# 2D Arrays Assignment - 2    "
   ]
  },
  {
   "cell_type": "markdown",
   "id": "503fe8e5",
   "metadata": {},
   "source": [
    "## Question - 1\n",
    "    "
   ]
  },
  {
   "cell_type": "code",
   "execution_count": 1,
   "id": "dc5a1659",
   "metadata": {},
   "outputs": [
    {
     "name": "stdout",
     "output_type": "stream",
     "text": [
      "[[1, 2], [3, 4]]\n"
     ]
    }
   ],
   "source": [
    "'Q1. '\n",
    "\n",
    "def Convert1Dto2D(original, m, n):\n",
    "    totalElements = m * n\n",
    "\n",
    "    if len(original) != totalElements:\n",
    "        return []\n",
    "\n",
    "    result = [[0] * n for _ in range(m)]\n",
    "\n",
    "    for i in range(totalElements):\n",
    "        row = i // n\n",
    "        col = i % n\n",
    "        result[row][col] = original[i]\n",
    "\n",
    "    return result\n",
    "\n",
    "# Declaring values and checking for output\n",
    "\n",
    "original = [1,2,3,4]\n",
    "m = 2\n",
    "n = 2\n",
    "result = Convert1Dto2D(original, m, n)\n",
    "print(result)\n",
    "\n",
    "# Time Complexity - O(m * n)\n",
    "# Space Complexity - O(m * n)"
   ]
  },
  {
   "cell_type": "markdown",
   "id": "dba3eacd",
   "metadata": {},
   "source": [
    "## Question - 2"
   ]
  },
  {
   "cell_type": "code",
   "execution_count": 2,
   "id": "b40b5516",
   "metadata": {},
   "outputs": [
    {
     "name": "stdout",
     "output_type": "stream",
     "text": [
      "2\n"
     ]
    }
   ],
   "source": [
    "'Q2. '\n",
    "\n",
    "def completeRows(n):\n",
    "    \n",
    "    rows = 0\n",
    "    while n >= 0:\n",
    "        rows += 1\n",
    "        n -= rows\n",
    "    return rows - 1\n",
    "\n",
    "# Declaring values and checking for output\n",
    "\n",
    "n = 5\n",
    "result = completeRows(n)\n",
    "print(result)\n",
    "\n",
    "# Time Complexity - O(sqrt(n))\n",
    "# Space Complexity - O(1)"
   ]
  },
  {
   "cell_type": "markdown",
   "id": "6a06ec81",
   "metadata": {},
   "source": [
    "## Question - 3"
   ]
  },
  {
   "cell_type": "code",
   "execution_count": 3,
   "id": "c4eaafa5",
   "metadata": {},
   "outputs": [
    {
     "name": "stdout",
     "output_type": "stream",
     "text": [
      "[0, 1, 9, 16, 100]\n"
     ]
    }
   ],
   "source": [
    "'Q3. '\n",
    "\n",
    "class solution:\n",
    "    def Squares(self, nums):\n",
    "        for i in range(len(nums)):\n",
    "            nums[i] = nums[i]**2\n",
    "            \n",
    "        return self.quicksort(nums)\n",
    "    \n",
    "    def quicksort(self,nums):\n",
    "        if len(nums) <= 1:\n",
    "            return nums\n",
    "        \n",
    "        pivot = nums[0]\n",
    "        smaller = []\n",
    "        larger = []\n",
    "        \n",
    "        for i in nums[1:]:\n",
    "            if i < pivot:\n",
    "                smaller.append(i)\n",
    "                \n",
    "            elif i >= pivot:\n",
    "                larger.append(i)\n",
    "                \n",
    "        return self.quicksort(smaller) + [pivot] + self.quicksort(larger)\n",
    "                \n",
    "# Declaring values and checking for output\n",
    "\n",
    "nums = [-4,-1,0,3,10]\n",
    "obj = solution()\n",
    "result = obj.Squares(nums)\n",
    "print(result)\n",
    "\n",
    "# Time Complexity - O(n^2)\n",
    "# Space Complexity - O(n)     "
   ]
  },
  {
   "cell_type": "markdown",
   "id": "b7b45661",
   "metadata": {},
   "source": [
    "## Question - 4"
   ]
  },
  {
   "cell_type": "code",
   "execution_count": 4,
   "id": "41b4444b",
   "metadata": {},
   "outputs": [
    {
     "name": "stdout",
     "output_type": "stream",
     "text": [
      "[[1, 3], [4, 6]]\n"
     ]
    }
   ],
   "source": [
    "'Q4. '\n",
    "\n",
    "def distinctLists(nums1 : list, nums2 : list) -> list:\n",
    "    set1 = set(nums1)\n",
    "    set2 = set(nums2)\n",
    "    \n",
    "    diff1 = list(set1 - set2)\n",
    "    diff2 = list(set2 - set1)\n",
    "    \n",
    "    return [diff1, diff2]\n",
    "\n",
    "# Declaring values and checking for output\n",
    "\n",
    "nums1 = [1, 2, 3]\n",
    "nums2 = [2, 4, 6]\n",
    "result = distinctLists(nums1, nums2)\n",
    "print(result)\n",
    "\n",
    "# Time Complexity - O(n1 + n2)\n",
    "# Space Complexity - O(m + k)"
   ]
  },
  {
   "cell_type": "markdown",
   "id": "0e46bd9b",
   "metadata": {},
   "source": [
    "## Question - 5"
   ]
  },
  {
   "cell_type": "code",
   "execution_count": 5,
   "id": "242c120c",
   "metadata": {},
   "outputs": [
    {
     "name": "stdout",
     "output_type": "stream",
     "text": [
      "2\n"
     ]
    }
   ],
   "source": [
    "'Q5. '\n",
    "\n",
    "def DistanceValue(arr1, arr2, d):\n",
    "    p1, p2 = 0, 0\n",
    "    count = 0\n",
    "    while p1 < len(arr1):\n",
    "        \n",
    "        \n",
    "        if abs(arr1[p1] - arr2[p2]) <= d:\n",
    "            p2 = 0\n",
    "            p1 += 1\n",
    "            \n",
    "        elif (p2 == len(arr2) - 1): \n",
    "            p1 += 1\n",
    "            count += 1\n",
    "            p2 = 0\n",
    "        \n",
    "        else:p2 += 1\n",
    "        \n",
    "    return count\n",
    "\n",
    "# Declaring values and checking for output\n",
    "\n",
    "arr1 = [4,5,8]\n",
    "arr2 = [10,9,1,8]\n",
    "d = 2    \n",
    "result =  DistanceValue(arr1, arr2, d)\n",
    "print(result)\n",
    "\n",
    "# Time Complexity - O(n*m)\n",
    "# Space Complexity - O(1)           "
   ]
  },
  {
   "cell_type": "markdown",
   "id": "4d3981f4",
   "metadata": {},
   "source": [
    "## Question - 6"
   ]
  },
  {
   "cell_type": "code",
   "execution_count": 6,
   "id": "4669de02",
   "metadata": {
    "scrolled": true
   },
   "outputs": [
    {
     "name": "stdout",
     "output_type": "stream",
     "text": [
      "[2, 3]\n"
     ]
    }
   ],
   "source": [
    "'Q6.'\n",
    "\n",
    "def Repeative(nums):\n",
    "    result = []\n",
    "    for num in nums:\n",
    "        index = abs(num) - 1\n",
    "        if nums[index] > 0:                              # Checks for number repeated or not if not True\n",
    "            nums[index] *= -1\n",
    "        else:                                            # If number < 0 at that index then index is previously arrived \n",
    "            result.append(abs(num))\n",
    "    return result\n",
    "\n",
    "# Declaring values and checking for output\n",
    "\n",
    "nums = [4,3,2,7,8,2,3,1]\n",
    "result =  Repeative(nums)\n",
    "print(result)\n",
    "\n",
    "# Time Complexity - O(n)\n",
    "# Space Complexity - O(1) "
   ]
  },
  {
   "cell_type": "markdown",
   "id": "f2756837",
   "metadata": {},
   "source": [
    "## Question - 7"
   ]
  },
  {
   "cell_type": "code",
   "execution_count": 7,
   "id": "fa094fba",
   "metadata": {},
   "outputs": [
    {
     "name": "stdout",
     "output_type": "stream",
     "text": [
      "0\n"
     ]
    }
   ],
   "source": [
    "'Q7.'\n",
    "\n",
    "def MinElement(nums):\n",
    "    \n",
    "    left, right = 0, len(nums) - 1\n",
    "    \n",
    "    while left < right:\n",
    "        mid = left + (right - left) // 2\n",
    "        if nums[mid] > nums[right]:\n",
    "            left = mid + 1\n",
    "        else:\n",
    "            right = mid\n",
    "    return nums[left]\n",
    "\n",
    "# Declaring values and checking for output\n",
    "\n",
    "nums = [0, 1, 2, 4, 5]\n",
    "result = MinElement(nums)\n",
    "print(result)\n",
    "\n",
    "# Time Complexity - O(logn)\n",
    "# Space Complexity - O(1)"
   ]
  },
  {
   "cell_type": "markdown",
   "id": "c48c18b0",
   "metadata": {},
   "source": [
    "## Question - 8"
   ]
  },
  {
   "cell_type": "code",
   "execution_count": 8,
   "id": "7adb003a",
   "metadata": {},
   "outputs": [
    {
     "name": "stdout",
     "output_type": "stream",
     "text": [
      "[1, 3, 4]\n"
     ]
    }
   ],
   "source": [
    "'Q8. '\n",
    "\n",
    "def DoubledArray(changed):\n",
    "    \n",
    "    org_array = []\n",
    "    if len(changed) % 2 != 0:\n",
    "        return org_array\n",
    "    mid = len(changed) // 2\n",
    "    \n",
    "    lst_1 = changed[:mid]\n",
    "    lst_2 = changed[mid:]\n",
    "    p, q = 0, 0\n",
    "    for i in range(mid):\n",
    "        if lst_1[i] * 2 in lst_2:\n",
    "            p += 1\n",
    "        \n",
    "        elif lst_2[i] * 2 in lst_1:\n",
    "            q += 1\n",
    "    \n",
    "    if p == mid:\n",
    "        org_array.extend(lst_1)\n",
    "    elif q == mid:\n",
    "        org_array.extend(lst_2)\n",
    "    return org_array\n",
    "\n",
    "# Declaring values and checking for output\n",
    "\n",
    "changed = [1,3,4,2,6,8]\n",
    "result = DoubledArray(changed)\n",
    "print(result)\n",
    "\n",
    "# Time Complexity - O(n^2)\n",
    "# Space Complexity - O(n)"
   ]
  }
 ],
 "metadata": {
  "kernelspec": {
   "display_name": "Python 3 (ipykernel)",
   "language": "python",
   "name": "python3"
  },
  "language_info": {
   "codemirror_mode": {
    "name": "ipython",
    "version": 3
   },
   "file_extension": ".py",
   "mimetype": "text/x-python",
   "name": "python",
   "nbconvert_exporter": "python",
   "pygments_lexer": "ipython3",
   "version": "3.9.12"
  }
 },
 "nbformat": 4,
 "nbformat_minor": 5
}
