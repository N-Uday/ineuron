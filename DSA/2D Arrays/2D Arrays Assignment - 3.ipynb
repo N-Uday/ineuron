{
 "cells": [
  {
   "cell_type": "markdown",
   "id": "f4b9052b",
   "metadata": {},
   "source": [
    "# 2D Arrays Assignment - 3"
   ]
  },
  {
   "cell_type": "markdown",
   "id": "20284191",
   "metadata": {},
   "source": [
    "## Question - 1"
   ]
  },
  {
   "cell_type": "code",
   "execution_count": 3,
   "id": "291a17dc",
   "metadata": {},
   "outputs": [
    {
     "name": "stdout",
     "output_type": "stream",
     "text": [
      "[0, 4, 1, 3, 2]\n"
     ]
    }
   ],
   "source": [
    "'Q1. '\n",
    "\n",
    "def StrinPerm(string : str):\n",
    "    start = 0\n",
    "    end = len(string)\n",
    "    res = []\n",
    "            \n",
    "    for i in string:\n",
    "        if i == 'I':\n",
    "            res.append(start)\n",
    "            start += 1\n",
    "        \n",
    "        elif i == 'D':\n",
    "            res.append(end)\n",
    "            end -= 1\n",
    "            \n",
    "    res.append(start)\n",
    "    return res\n",
    "\n",
    "\n",
    "\n",
    "# Declaring values and checking for output\n",
    "\n",
    "string = \"IDID\"\n",
    "result = StrinPerm(string )\n",
    "print(result)\n",
    "\n",
    "# Time Complexity - O(n)\n",
    "# Space Complexity - O(1)"
   ]
  },
  {
   "cell_type": "markdown",
   "id": "285d6aba",
   "metadata": {},
   "source": [
    "## Question - 2"
   ]
  },
  {
   "cell_type": "code",
   "execution_count": 4,
   "id": "769e5fd7",
   "metadata": {},
   "outputs": [
    {
     "name": "stdout",
     "output_type": "stream",
     "text": [
      "True\n"
     ]
    }
   ],
   "source": [
    "'Q2.'\n",
    "\n",
    "def findTarget(matrix, target):\n",
    "    R, C = len(matrix), len(matrix[0])\n",
    "    l, r = 0, R * C - 1\n",
    "\n",
    "    while l <= r:\n",
    "        mid = l + (r - l) // 2\n",
    "        row, col = mid // C, mid % C\n",
    "        if matrix[row][col] < target:\n",
    "            l = mid + 1\n",
    "        elif matrix[row][col] > target:\n",
    "            r = mid - 1\n",
    "        else:\n",
    "            return True\n",
    "\n",
    "    return False\n",
    "\n",
    "# Declaring values and checking for output\n",
    "\n",
    "matrix = [[1, 3, 5, 7], [10, 11, 16, 20], [23, 30, 34, 60]]\n",
    "target = 3\n",
    "result = findTarget(matrix, target)\n",
    "print(result)\n",
    "\n",
    "# Time Complexity - O(logn)\n",
    "# Space Complexity - O(1)"
   ]
  },
  {
   "cell_type": "markdown",
   "id": "186a6211",
   "metadata": {},
   "source": [
    "## Question - 3"
   ]
  },
  {
   "cell_type": "code",
   "execution_count": 2,
   "id": "8f637380",
   "metadata": {},
   "outputs": [
    {
     "name": "stdout",
     "output_type": "stream",
     "text": [
      "False\n"
     ]
    }
   ],
   "source": [
    "'Q3.'\n",
    "\n",
    "def MountainArray(arr):\n",
    "    \n",
    "    n = len(arr)\n",
    "    \n",
    "    if n < 3: return False\n",
    "    l, r = 0, n-1\n",
    "    \n",
    "    while arr[l] < arr[l + 1] and l + 1 < n - 1:\n",
    "        l += 1\n",
    "    \n",
    "    while arr[r] < arr[r - 1] and r - 1 > 1:\n",
    "        r -= 1\n",
    "        \n",
    "    return l == r\n",
    "\n",
    "# Declaring values and checking for output\n",
    "\n",
    "arr = [2,1]\n",
    "result = MountainArray(arr)\n",
    "print(result)\n",
    "\n",
    "# Time Complexity - O(n)\n",
    "# Space Complexity - O(1)   "
   ]
  },
  {
   "cell_type": "markdown",
   "id": "ce3cad02",
   "metadata": {},
   "source": [
    "## Question - 4"
   ]
  },
  {
   "cell_type": "code",
   "execution_count": 4,
   "id": "05dc2dba",
   "metadata": {},
   "outputs": [
    {
     "name": "stdout",
     "output_type": "stream",
     "text": [
      "2\n"
     ]
    }
   ],
   "source": [
    "'Q4. '\n",
    "\n",
    "def Length(nums):\n",
    "    count = 0\n",
    "    result = 0\n",
    "    dict_seen = {0: -1}\n",
    "    for i in range(len(nums)):\n",
    "        n = nums[i]\n",
    "        if n == 0:\n",
    "            count -= 1\n",
    "        if n == 1:\n",
    "            count += 1\n",
    "\n",
    "        if count in dict_seen:                       \n",
    "            result = max(result, i-dict_seen[count]) \n",
    "        else:                     \n",
    "            dict_seen[count] = i  \n",
    "\n",
    "    return result\n",
    "\n",
    "# Declaring values and checking for output\n",
    "\n",
    "nums = [0,1]\n",
    "result = Length(nums)\n",
    "print(result)\n",
    "\n",
    "# Time Complexity - O(n)\n",
    "# Space Complexity - O(n)  "
   ]
  },
  {
   "cell_type": "markdown",
   "id": "f5351608",
   "metadata": {},
   "source": [
    "## Question - 5"
   ]
  },
  {
   "cell_type": "code",
   "execution_count": 8,
   "id": "80658bb9",
   "metadata": {},
   "outputs": [
    {
     "name": "stdout",
     "output_type": "stream",
     "text": [
      "40\n"
     ]
    }
   ],
   "source": [
    "'Q5. '\n",
    "\n",
    "def minProductSum(nums1, nums2):\n",
    "    nums1.sort()\n",
    "    nums2.sort()\n",
    "    n = len(nums1)\n",
    "    min_sum = 0\n",
    "    \n",
    "    for i in range(n):\n",
    "        min_sum += nums1[i] * nums2[n-1-i]\n",
    "        \n",
    "    return min_sum\n",
    "\n",
    "# Declaring values and checking for output\n",
    "\n",
    "nums1 = [5,3,4,2]\n",
    "nums2 = [4,2,2,5]\n",
    "output = minProductSum(nums1, nums2)\n",
    "print(output)\n",
    "\n",
    "# Time Complexity - O(nlogn)\n",
    "# Space Complexity - O(n)  "
   ]
  },
  {
   "cell_type": "markdown",
   "id": "a24a4c23",
   "metadata": {},
   "source": [
    "## Question - 6"
   ]
  },
  {
   "cell_type": "code",
   "execution_count": 11,
   "id": "0626e5d1",
   "metadata": {},
   "outputs": [
    {
     "name": "stdout",
     "output_type": "stream",
     "text": [
      "[1, 3, 4]\n"
     ]
    }
   ],
   "source": [
    "'Q6. '\n",
    "\n",
    "def DoubledArray(changed):\n",
    "    \n",
    "    org_array = []\n",
    "    if len(changed) % 2 != 0:\n",
    "        return org_array\n",
    "    mid = len(changed) // 2\n",
    "    \n",
    "    lst_1 = changed[:mid]\n",
    "    lst_2 = changed[mid:]\n",
    "    p, q = 0, 0\n",
    "    for i in range(mid):\n",
    "        if lst_1[i] * 2 in lst_2:\n",
    "            p += 1\n",
    "        \n",
    "        elif lst_2[i] * 2 in lst_1:\n",
    "            q += 1\n",
    "    \n",
    "    if p == mid:\n",
    "        org_array.extend(lst_1)\n",
    "    elif q == mid:\n",
    "        org_array.extend(lst_2)\n",
    "    return org_array\n",
    "\n",
    "# Declaring values and checking for output\n",
    "\n",
    "changed = [1,3,4,2,6,8]\n",
    "result = DoubledArray(changed)\n",
    "print(result)\n",
    "\n",
    "# Time Complexity - O(n^2)\n",
    "# Space Complexity - O(n)"
   ]
  },
  {
   "cell_type": "markdown",
   "id": "c0b018bc",
   "metadata": {},
   "source": [
    "## Question - 7"
   ]
  },
  {
   "cell_type": "code",
   "execution_count": 22,
   "id": "7c9d7533",
   "metadata": {},
   "outputs": [
    {
     "name": "stdout",
     "output_type": "stream",
     "text": [
      "[[1, 2, 3], [8, 9, 4], [7, 6, 5]]\n"
     ]
    }
   ],
   "source": [
    "'''Q7. We traverse in the direction as spiral and add the value \n",
    "to the empty matrix with the value in range at that particular index '''\n",
    "\n",
    "def spiral_matrix(n):\n",
    "    matrix = [[0] * n for i in range(n)]\n",
    "    num = 1\n",
    "    up = 0\n",
    "    down = n - 1\n",
    "    left = 0\n",
    "    right = n - 1\n",
    "\n",
    "    while num <= n * n:\n",
    "        # Traverse from left to right.\n",
    "        for col in range(left, right + 1):\n",
    "            matrix[up][col] = num\n",
    "            num += 1\n",
    "        up += 1\n",
    "\n",
    "        # Traverse downwards.\n",
    "        for row in range(up, down + 1):\n",
    "            matrix[row][right] = num\n",
    "            num += 1\n",
    "        right -= 1\n",
    "\n",
    "        # Traverse from right to left.\n",
    "        for col in range(right, left - 1, -1):\n",
    "            matrix[down][col] = num\n",
    "            num += 1\n",
    "        down -= 1\n",
    "\n",
    "        # Traverse upwards.\n",
    "        for row in range(down, up - 1, -1):\n",
    "            matrix[row][left] = num\n",
    "            num += 1\n",
    "        left += 1\n",
    "\n",
    "    return matrix\n",
    "\n",
    "# Declaring values and checking for output\n",
    "\n",
    "n = 3\n",
    "result = spiral_matrix(n)\n",
    "print(result)\n",
    "\n",
    "# Time Complexity - O(n^2)\n",
    "# Space Complexity - O(n)"
   ]
  },
  {
   "cell_type": "markdown",
   "id": "b9f69faf",
   "metadata": {},
   "source": [
    "## Question - 8"
   ]
  },
  {
   "cell_type": "code",
   "execution_count": 24,
   "id": "696aefbb",
   "metadata": {},
   "outputs": [
    {
     "name": "stdout",
     "output_type": "stream",
     "text": [
      "[[7, 0, 0], [-7, 0, 3]]\n"
     ]
    }
   ],
   "source": [
    "'Q8. '\n",
    "\n",
    "def multiply_sparse_matrices(mat1, mat2):\n",
    "    m, k = len(mat1), len(mat1[0])\n",
    "    k, n = len(mat2), len(mat2[0])\n",
    "    \n",
    "    \n",
    "    result = [[0] * n for _ in range(m)]\n",
    "    \n",
    "    \n",
    "    for i in range(m):\n",
    "        for j in range(k):\n",
    "            if mat1[i][j] != 0:\n",
    "                for l in range(n):\n",
    "                    result[i][l] += mat1[i][j] * mat2[j][l]\n",
    "    \n",
    "    return result\n",
    "\n",
    "# Declaring values and checking for output\n",
    "\n",
    "mat1 = [[1, 0, 0], [-1, 0, 3]]\n",
    "mat2 = [[7, 0, 0], [0, 0, 0], [0, 0, 1]]\n",
    "result = multiply_sparse_matrices(mat1, mat2)\n",
    "print(result)\n",
    "\n",
    "# Time Complexity - O(n**2)\n",
    "# Space Complexity - O(m x n)"
   ]
  },
  {
   "cell_type": "code",
   "execution_count": null,
   "id": "88ae1252",
   "metadata": {},
   "outputs": [],
   "source": []
  }
 ],
 "metadata": {
  "kernelspec": {
   "display_name": "Python 3 (ipykernel)",
   "language": "python",
   "name": "python3"
  },
  "language_info": {
   "codemirror_mode": {
    "name": "ipython",
    "version": 3
   },
   "file_extension": ".py",
   "mimetype": "text/x-python",
   "name": "python",
   "nbconvert_exporter": "python",
   "pygments_lexer": "ipython3",
   "version": "3.9.12"
  }
 },
 "nbformat": 4,
 "nbformat_minor": 5
}
