{
 "cells": [
  {
   "cell_type": "markdown",
   "id": "02b620f7",
   "metadata": {},
   "source": [
    "# Assignment - 20"
   ]
  },
  {
   "cell_type": "markdown",
   "id": "d7f30e09",
   "metadata": {},
   "source": [
    "## Question - 1"
   ]
  },
  {
   "cell_type": "code",
   "execution_count": 1,
   "id": "301f7ae6",
   "metadata": {},
   "outputs": [
    {
     "name": "stdout",
     "output_type": "stream",
     "text": [
      "Example - 1 :  28\n",
      "Example - 2 :  12\n"
     ]
    }
   ],
   "source": [
    "'Q1. '\n",
    "\n",
    "class Node:\n",
    "    def __init__(self, val):\n",
    "        self.val = val\n",
    "        self.left = None\n",
    "        self.right = None\n",
    "\n",
    "\n",
    "def max_subtree_sum(root):\n",
    "    \n",
    "    if not root: return 0\n",
    "    arr = [float('-inf')]\n",
    "    \n",
    "    def dfs(root):\n",
    "        if not root: return 0\n",
    "        \n",
    "        subtree_sum = root.val + dfs(root.left) + dfs(root.right)\n",
    "        arr[0] = max(arr[0], subtree_sum)\n",
    "        \n",
    "        return subtree_sum\n",
    "    \n",
    "    dfs(root)\n",
    "    return arr[0]\n",
    "            \n",
    "\n",
    "# Test Case - 1\n",
    "\n",
    "a1 = Node(1)\n",
    "b = Node(2)\n",
    "c = Node(3)\n",
    "d = Node(4)\n",
    "e = Node(5)\n",
    "f = Node(6)\n",
    "g = Node(7)\n",
    "\n",
    "a1.left = b\n",
    "a1.right = c\n",
    "b.left = d\n",
    "b.right = e\n",
    "c.left = f\n",
    "c.right = g\n",
    " \n",
    "print('Example - 1 : ', max_subtree_sum(a1))\n",
    "\n",
    "# Test Case - 2\n",
    "\n",
    "a2 = Node(1)\n",
    "b = Node(-2)\n",
    "c = Node(3)\n",
    "d = Node(4)\n",
    "e = Node(5)\n",
    "f = Node(-6)\n",
    "g = Node(7)\n",
    "\n",
    "a2.left = b\n",
    "a2.right = c\n",
    "b.left = d\n",
    "b.right = e\n",
    "c.left = f\n",
    "c.right = g\n",
    " \n",
    "print('Example - 2 : ', max_subtree_sum(a2))\n",
    "\n",
    "# Time Complexity  - O(NlogK)\n",
    "# Space Complexity - O(K)"
   ]
  },
  {
   "cell_type": "markdown",
   "id": "a1fe4073",
   "metadata": {},
   "source": [
    "## Question - 2"
   ]
  },
  {
   "cell_type": "code",
   "execution_count": 2,
   "id": "95a64247",
   "metadata": {},
   "outputs": [
    {
     "name": "stdout",
     "output_type": "stream",
     "text": [
      "1 3 4 5 6 7 8 10 12 "
     ]
    }
   ],
   "source": [
    "'Q2. '\n",
    "\n",
    "class Node:\n",
    "    def __init__(self, val):\n",
    "        self.val = val\n",
    "        self.left = None\n",
    "        self.right = None\n",
    "        \n",
    "class Solution:\n",
    "    def __init__(self):\n",
    "        self.root = None\n",
    "    \n",
    "    def constructBST(self, arr):\n",
    "        if not arr: return None\n",
    "        \n",
    "        self.root = Node(arr[0])\n",
    "        \n",
    "        for i in arr[1:]:\n",
    "            self.helper(self.root, i)\n",
    "        \n",
    "        return self.root\n",
    "        \n",
    "    def helper(self, root, val):\n",
    "        if val < root.val:\n",
    "            if root.left is None:\n",
    "                root.left = Node(val)\n",
    "            else:\n",
    "                self.helper(root.left, val)\n",
    "        else:\n",
    "            if root.right is None:\n",
    "                root.right = Node(val)\n",
    "            else:\n",
    "                self.helper(root.right, val)\n",
    "            \n",
    "    def display(self,root):\n",
    "        if root is None:\n",
    "            return \n",
    "        self.display(root.left)\n",
    "        print(root.val, end=\" \") # InOrder - which prints all BST values in Ascending order\n",
    "        self.display(root.right)\n",
    "        \n",
    "\n",
    "obj = Solution()\n",
    "arr = [7, 4, 12, 3, 6, 8, 1, 5, 10]\n",
    "root = obj.constructBST(arr)\n",
    "obj.display(root) "
   ]
  },
  {
   "cell_type": "markdown",
   "id": "84508362",
   "metadata": {},
   "source": [
    "As the Order is in Ascending we can say it is a BST"
   ]
  },
  {
   "cell_type": "markdown",
   "id": "db09fb26",
   "metadata": {},
   "source": [
    "## Question - 3"
   ]
  },
  {
   "cell_type": "code",
   "execution_count": 3,
   "id": "e02fd03e",
   "metadata": {},
   "outputs": [
    {
     "name": "stdout",
     "output_type": "stream",
     "text": [
      "Example - 1 : Yes\n",
      "Example - 2 : No\n"
     ]
    }
   ],
   "source": [
    "'Q3. '\n",
    "\n",
    "class NodeDetails:\n",
    "\n",
    "    def __init__(self, data, min, max):\n",
    "        self.data = data\n",
    "        self.min = min\n",
    "        self.max = max\n",
    "\n",
    "def LOTofBST(arr):\n",
    "    n = len(arr)\n",
    "    if n == 0:\n",
    "        return True\n",
    "    q = []\n",
    "    i = 0\n",
    "    INT_MIN, INT_MAX = float('-inf'), float('inf')\n",
    "\n",
    "    newNode = NodeDetails(arr[i], INT_MIN, INT_MAX)\n",
    "    i += 1\n",
    "    q.append(newNode)\n",
    "\n",
    "    while i != n and len(q) != 0:\n",
    "\n",
    "        temp = q.pop(0)\n",
    "\n",
    "        if i < n and (arr[i] < temp.data and arr[i] > temp.min):\n",
    "            newNode = NodeDetails(arr[i], temp.min, temp.data)\n",
    "            i += 1\n",
    "            q.append(newNode)\n",
    "\n",
    "        if i < n and (arr[i] > temp.data and arr[i] < temp.max):\n",
    "            newNode = NodeDetails(arr[i], temp.data, temp.max)\n",
    "            i += 1\n",
    "            q.append(newNode)\n",
    "\n",
    "    if i == n:\n",
    "        return True\n",
    "\n",
    "    return False\n",
    "\n",
    "def CheckLOT(boolean, String):\n",
    "    if boolean:\n",
    "        print(f\"{String} : Yes\")\n",
    "    else:\n",
    "        print(f\"{String} : No\")\n",
    "# Declaring values and checking for output\n",
    "\n",
    "# Example - 1\n",
    "\n",
    "arr1 = [7, 4, 12, 3, 6, 8, 1, 5, 10]\n",
    "CheckLOT(LOTofBST(arr1), \"Example - 1\")\n",
    "    \n",
    "\n",
    "# Example - 2\n",
    "\n",
    "arr2 = [11, 6, 13, 5, 12, 10]\n",
    "CheckLOT(LOTofBST(arr2), \"Example - 2\")\n"
   ]
  }
 ],
 "metadata": {
  "kernelspec": {
   "display_name": "Python 3 (ipykernel)",
   "language": "python",
   "name": "python3"
  },
  "language_info": {
   "codemirror_mode": {
    "name": "ipython",
    "version": 3
   },
   "file_extension": ".py",
   "mimetype": "text/x-python",
   "name": "python",
   "nbconvert_exporter": "python",
   "pygments_lexer": "ipython3",
   "version": "3.9.12"
  }
 },
 "nbformat": 4,
 "nbformat_minor": 5
}
