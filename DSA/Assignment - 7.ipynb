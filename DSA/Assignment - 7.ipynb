{
 "cells": [
  {
   "cell_type": "markdown",
   "id": "a6aaee34",
   "metadata": {},
   "source": [
    "# Assignment - 7"
   ]
  },
  {
   "cell_type": "markdown",
   "id": "090f1a82",
   "metadata": {},
   "source": [
    "## Question - 1"
   ]
  },
  {
   "cell_type": "code",
   "execution_count": 1,
   "id": "b2a5de0d",
   "metadata": {},
   "outputs": [
    {
     "name": "stdout",
     "output_type": "stream",
     "text": [
      "True\n"
     ]
    }
   ],
   "source": [
    "'Q1. '\n",
    "\n",
    "def Isomorphic(s, t):\n",
    "    if len(s) != len(t):\n",
    "        return False\n",
    "       \n",
    "    s_to_t = {}\n",
    "    t_to_s = {}\n",
    "    \n",
    "    for i in range(len(s)):\n",
    "        s_char = s[i]\n",
    "        t_char = t[i]\n",
    "\n",
    "        if s_char in s_to_t and s_to_t[s_char] != t_char:\n",
    "            return False\n",
    "\n",
    "        if t_char in t_to_s and t_to_s[t_char] != s_char:\n",
    "            return False\n",
    "\n",
    "        s_to_t[s_char] = t_char\n",
    "        t_to_s[t_char] = s_char\n",
    "    \n",
    "    return True\n",
    "\n",
    "# Declaring values and checking for output\n",
    "\n",
    "s = \"egg\"\n",
    "t = \"add\"\n",
    "result = Isomorphic(s, t)\n",
    "print(result)\n",
    "\n",
    "# Time Complexity - O(n)\n",
    "# Space Complexity - O(n)"
   ]
  },
  {
   "cell_type": "markdown",
   "id": "5b126e1b",
   "metadata": {},
   "source": [
    "## Question - 2"
   ]
  },
  {
   "cell_type": "code",
   "execution_count": 2,
   "id": "93574780",
   "metadata": {},
   "outputs": [
    {
     "name": "stdout",
     "output_type": "stream",
     "text": [
      "True\n"
     ]
    }
   ],
   "source": [
    "'Q2. '\n",
    "\n",
    "def strobogrammatic(string):\n",
    "    dict_nums = {'0' : '0',\n",
    "                 '1' : '1',\n",
    "                 '6' : '9',\n",
    "                 '8' : '8',\n",
    "                 '9' : '6'}\n",
    "    \n",
    "    left, right = 0, len(string) - 1\n",
    "    \n",
    "    while left <= right:\n",
    "        if string[left] not in dict_nums or dict_nums[string[left]] != string[right]:\n",
    "            return False\n",
    "        left += 1\n",
    "        right -= 1\n",
    "        \n",
    "    return True\n",
    "\n",
    "# Declaring values and checking for output\n",
    "\n",
    "string = '69'\n",
    "result = strobogrammatic(string)\n",
    "print(result)\n",
    "\n",
    "# Time Complexity - O(n)\n",
    "# Space Complexity - O(1)"
   ]
  },
  {
   "cell_type": "markdown",
   "id": "1bfca070",
   "metadata": {},
   "source": [
    "## Question - 3"
   ]
  },
  {
   "cell_type": "code",
   "execution_count": 3,
   "id": "bd781f25",
   "metadata": {},
   "outputs": [
    {
     "name": "stdout",
     "output_type": "stream",
     "text": [
      "134\n"
     ]
    }
   ],
   "source": [
    "'Q3. '\n",
    "\n",
    "def addStrings(num1, num2):\n",
    "    result = []\n",
    "    p1, p2 = len(num1) - 1, len(num2) - 1\n",
    "    carry = 0\n",
    "    \n",
    "    while p1 >= 0 or p2 >= 0:\n",
    "        x1 = int(num1[p1]) if p1 >= 0 else 0\n",
    "\n",
    "        x2 = int(num2[p2]) if p2 >= 0 else 0\n",
    "            \n",
    "        carry, remainder = divmod(x1 + x2 + carry, 10)\n",
    "        result.append(remainder)\n",
    "        \n",
    "        p1 -= 1\n",
    "        p2 -= 1\n",
    "        \n",
    "    if carry:\n",
    "        result.append(carry)\n",
    "        \n",
    "    result.reverse()\n",
    "    \n",
    "    return ''.join(str(val) for val in result)\n",
    "\n",
    "# Declaring values and checking for output\n",
    "\n",
    "num1 = \"11\"\n",
    "num2 = \"123\"\n",
    "result = addStrings(num1, num2)\n",
    "print(result)\n",
    "\n",
    "# Time Complexity - O(max(n,m))\n",
    "# Space Complexity - O(max(n,m))"
   ]
  },
  {
   "cell_type": "markdown",
   "id": "441784d3",
   "metadata": {},
   "source": [
    "## Question - 4"
   ]
  },
  {
   "cell_type": "code",
   "execution_count": 4,
   "id": "8d9f81dc",
   "metadata": {},
   "outputs": [
    {
     "name": "stdout",
     "output_type": "stream",
     "text": [
      "s'teL ekat edoCteeL tsetnoc\n"
     ]
    }
   ],
   "source": [
    "'Q4. '\n",
    "\n",
    "def ReverseWords(s):\n",
    "    res = ''\n",
    "    \n",
    "    for word in s.split():\n",
    "        if len(res) != 0:\n",
    "            res += ' ' + word[::-1]\n",
    "        else:\n",
    "            res = word[::-1]\n",
    "    \n",
    "    return res\n",
    "\n",
    "# Declaring values and checking for output\n",
    "\n",
    "s = \"Let's take LeetCode contest\"\n",
    "result = ReverseWords(s)\n",
    "print(result)\n",
    "\n",
    "# Time Complexity - O(n + m + k)\n",
    "# Space Complexity - O(n + m)"
   ]
  },
  {
   "cell_type": "markdown",
   "id": "1d474a3d",
   "metadata": {},
   "source": [
    "## Question - 5"
   ]
  },
  {
   "cell_type": "code",
   "execution_count": 5,
   "id": "b273adb9",
   "metadata": {},
   "outputs": [
    {
     "data": {
      "text/plain": [
       "'bacdfeg'"
      ]
     },
     "execution_count": 5,
     "metadata": {},
     "output_type": "execute_result"
    }
   ],
   "source": [
    "'Q5. '\n",
    "\n",
    "def ReveresKChars(s, k):\n",
    "    n = len(s)\n",
    "    if k > n:\n",
    "        return s[::-1]\n",
    "    s_list = list(s)\n",
    "    for i in range(0, n - 1, 2*k):\n",
    "        s_list[i:i+k] = s_list[i:i+k][::-1]\n",
    "    \n",
    "    return ''.join(s_list)\n",
    "\n",
    "# Declaring values and checking for output\n",
    "\n",
    "s = \"abcdefg\"\n",
    "k = 2       \n",
    "ReveresKChars(s, k) \n",
    "\n",
    "# Time Complexity - O(n)\n",
    "# Space Complexity - O(n)"
   ]
  },
  {
   "cell_type": "markdown",
   "id": "e2c5ad3f",
   "metadata": {},
   "source": [
    "## Question - 6"
   ]
  },
  {
   "cell_type": "code",
   "execution_count": 6,
   "id": "9d601a13",
   "metadata": {},
   "outputs": [
    {
     "data": {
      "text/plain": [
       "True"
      ]
     },
     "execution_count": 6,
     "metadata": {},
     "output_type": "execute_result"
    }
   ],
   "source": [
    "'Q6. '\n",
    "\n",
    "def isEqual(s, goal):\n",
    "    \n",
    "    if len(goal) != len(s):\n",
    "        return False\n",
    "    \n",
    "    rotated_s = s + s\n",
    "    \n",
    "    if goal in rotated_s:\n",
    "        return True\n",
    "    \n",
    "    return False\n",
    "\n",
    "# Declaring values and checking for output\n",
    "\n",
    "s = \"abcde\"\n",
    "goal = \"cdeab\"\n",
    "isEqual(s, goal)\n",
    "\n",
    "# Time Complexity - O(n)\n",
    "# Space Complexity - O(n)"
   ]
  },
  {
   "cell_type": "markdown",
   "id": "d2ba734e",
   "metadata": {},
   "source": [
    "## Question - 7"
   ]
  },
  {
   "cell_type": "code",
   "execution_count": 7,
   "id": "67ad51d7",
   "metadata": {},
   "outputs": [
    {
     "name": "stdout",
     "output_type": "stream",
     "text": [
      "True\n"
     ]
    }
   ],
   "source": [
    "'Q7. '\n",
    "\n",
    "def backspacing(s, t):\n",
    "    def processString(string):\n",
    "        \n",
    "        stack = []\n",
    "        for char in string:\n",
    "            if char != '#':\n",
    "                stack.append(char)\n",
    "            elif stack:\n",
    "                stack.pop()\n",
    "             \n",
    "        return ''.join(stack)\n",
    "    \n",
    "    processed_s = processString(s)\n",
    "    processed_t = processString(t)\n",
    "    \n",
    "    return processed_s == processed_t\n",
    "\n",
    "# Declaring values and checking for output\n",
    "\n",
    "s = \"ab#c\"\n",
    "t = \"ad#c\"\n",
    "output = backspacing(s, t)\n",
    "print(output) \n",
    "\n",
    "# Time Complexity - O(n)\n",
    "# Space Complexity - O(n)"
   ]
  },
  {
   "cell_type": "markdown",
   "id": "114d931d",
   "metadata": {},
   "source": [
    "## Question - 8"
   ]
  },
  {
   "cell_type": "code",
   "execution_count": 8,
   "id": "11569a77",
   "metadata": {},
   "outputs": [
    {
     "name": "stdout",
     "output_type": "stream",
     "text": [
      "True\n"
     ]
    }
   ],
   "source": [
    "'Q8. '\n",
    "\n",
    "def isStraightLine(coordinates):\n",
    "    if len(coordinates) <= 2:\n",
    "        return True\n",
    "    \n",
    "    x1, y1 = coordinates[0]\n",
    "    x2, y2 = coordinates[1]\n",
    "    \n",
    "    if x2 - x1 == 0:  # Handle division by zero\n",
    "        for i in range(2, len(coordinates)):\n",
    "            if coordinates[i][0] != x1:\n",
    "                return False\n",
    "\n",
    "    else:\n",
    "        p_slope = (y2 - y1) / (x2 - x1)\n",
    "    \n",
    "        for i in range(2, len(coordinates)):\n",
    "            x1, y1 = coordinates[i - 1]\n",
    "            x2, y2 = coordinates[i]\n",
    "            if x2 - x1 == 0:\n",
    "                return False\n",
    "            slope = (y2 - y1) / (x2 - x1)\n",
    "            \n",
    "            if slope != p_slope:\n",
    "                return False\n",
    "            \n",
    "    return True\n",
    "\n",
    "# Declaring values and checking for output\n",
    "\n",
    "coordinates = [[1, 2], [2, 3], [3, 4], [4, 5], [5, 6], [6, 7]]\n",
    "output = isStraightLine(coordinates)\n",
    "print(output) \n",
    "\n",
    "# Time Complexity - O(n)\n",
    "# Space Complexity - O(1)"
   ]
  }
 ],
 "metadata": {
  "kernelspec": {
   "display_name": "Python 3 (ipykernel)",
   "language": "python",
   "name": "python3"
  },
  "language_info": {
   "codemirror_mode": {
    "name": "ipython",
    "version": 3
   },
   "file_extension": ".py",
   "mimetype": "text/x-python",
   "name": "python",
   "nbconvert_exporter": "python",
   "pygments_lexer": "ipython3",
   "version": "3.9.12"
  }
 },
 "nbformat": 4,
 "nbformat_minor": 5
}
