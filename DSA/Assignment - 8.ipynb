{
 "cells": [
  {
   "cell_type": "markdown",
   "id": "40838eff",
   "metadata": {},
   "source": [
    "# Assignment - 8"
   ]
  },
  {
   "cell_type": "markdown",
   "id": "5f2730bd",
   "metadata": {},
   "source": [
    "## Question - 1"
   ]
  },
  {
   "cell_type": "code",
   "execution_count": 2,
   "id": "867aee19",
   "metadata": {},
   "outputs": [
    {
     "name": "stdout",
     "output_type": "stream",
     "text": [
      "231\n"
     ]
    }
   ],
   "source": [
    "'Q1. '\n",
    "\n",
    "def minimumDeleteSum(s1, s2):\n",
    "    m, n = len(s1), len(s2)\n",
    "    dp = [[0] * (n+1) for _ in range(m+1)]\n",
    "\n",
    "    # Initialize base cases\n",
    "    for i in range(1, m+1):\n",
    "        dp[i][0] = dp[i-1][0] + ord(s1[i-1])\n",
    "    for j in range(1, n+1):\n",
    "        dp[0][j] = dp[0][j-1] + ord(s2[j-1])\n",
    "\n",
    "    # Fill dp array\n",
    "    for i in range(1, m+1):\n",
    "        for j in range(1, n+1):\n",
    "            if s1[i-1] == s2[j-1]:\n",
    "                dp[i][j] = dp[i-1][j-1]\n",
    "            else:\n",
    "                dp[i][j] = min(dp[i-1][j] + ord(s1[i-1]), dp[i][j-1] + ord(s2[j-1]))\n",
    "\n",
    "    return dp[m][n]\n",
    "\n",
    "# Declaring values and checking for output\n",
    "\n",
    "s1 = 'sea'\n",
    "s2 = 'eat'\n",
    "output = minimumDeleteSum(s1, s2)\n",
    "print(output)\n",
    "\n",
    "# Time Complexity - O(m * n)\n",
    "# Space Complexity - O(m * n)"
   ]
  },
  {
   "cell_type": "markdown",
   "id": "fd58209f",
   "metadata": {},
   "source": [
    "# Question - 2"
   ]
  },
  {
   "cell_type": "code",
   "execution_count": 1,
   "id": "ae6cc147",
   "metadata": {},
   "outputs": [
    {
     "name": "stdout",
     "output_type": "stream",
     "text": [
      "True\n"
     ]
    }
   ],
   "source": [
    "'Q2'\n",
    "\n",
    "def ValidString(s):\n",
    "    left = right = 0\n",
    "    for c in s:\n",
    "        if c == \"(\":\n",
    "            right += 1\n",
    "            left += 1\n",
    "        elif c == \")\":\n",
    "            right -= 1\n",
    "            left = max(0, left-1)\n",
    "        elif c == \"*\":\n",
    "            right +=1\n",
    "            left = max(0, left-1)\n",
    "        if right < 0:\n",
    "            return False\n",
    "    if left == 0:\n",
    "        return True\n",
    "\n",
    "# Declaring values and checking for output\n",
    "\n",
    "s = \"()\"\n",
    "output = ValidString(s)\n",
    "print(output)\n",
    "\n",
    "# Time Complexity - O(n)\n",
    "# Space Complexity - O(1)"
   ]
  },
  {
   "cell_type": "markdown",
   "id": "97646865",
   "metadata": {},
   "source": [
    "# Question - 3"
   ]
  },
  {
   "cell_type": "code",
   "execution_count": 5,
   "id": "4ad27cc0",
   "metadata": {},
   "outputs": [
    {
     "name": "stdout",
     "output_type": "stream",
     "text": [
      "2\n"
     ]
    }
   ],
   "source": [
    "'Q3. '\n",
    "\n",
    "def minSteps(word1, word2):\n",
    "    m, n = len(word1), len(word2)\n",
    "    dp = [[0] * (n+1) for _ in range(m+1)]\n",
    "\n",
    "    for i in range(1, m+1):\n",
    "        dp[i][0] = i\n",
    "    for j in range(1, n+1):\n",
    "        dp[0][j] = j\n",
    "\n",
    "    for i in range(1, m+1):\n",
    "        for j in range(1, n+1):\n",
    "            if word1[i-1] == word2[j-1]:\n",
    "                dp[i][j] = dp[i-1][j-1]\n",
    "            else:\n",
    "                dp[i][j] = min(dp[i-1][j], dp[i][j-1]) + 1\n",
    "\n",
    "    return dp[m][n]\n",
    "\n",
    "# Declaring values and checking for output\n",
    "\n",
    "s1 = 'sea'\n",
    "s2 = 'eat'\n",
    "output = minSteps(s1, s2)\n",
    "print(output)\n",
    "\n",
    "# Time Complexity - O(m * n)\n",
    "# Space Complexity - O(m * n)"
   ]
  },
  {
   "cell_type": "markdown",
   "id": "f70a2b2f",
   "metadata": {},
   "source": [
    "# Question - 5"
   ]
  },
  {
   "cell_type": "code",
   "execution_count": 11,
   "id": "24c248e8",
   "metadata": {},
   "outputs": [
    {
     "name": "stdout",
     "output_type": "stream",
     "text": [
      "6\n"
     ]
    }
   ],
   "source": [
    "'Q5. '\n",
    "\n",
    "def compress(chars):\n",
    "    i = j = 0\n",
    "    n = len(chars)\n",
    "    \n",
    "    while j < n:\n",
    "        curr = chars[j]\n",
    "        count = 0\n",
    "        \n",
    "        while j < n and chars[j] == curr:\n",
    "            count += 1\n",
    "            j += 1\n",
    "        \n",
    "        chars[i] = curr\n",
    "        i += 1\n",
    "        \n",
    "        if count > 1:\n",
    "            count_str = str(count)\n",
    "            for digit in count_str:\n",
    "                chars[i] = digit\n",
    "                i += 1\n",
    "    \n",
    "    return i\n",
    "\n",
    "\n",
    "# Declaring values and checking for output\n",
    "\n",
    "chars = [\"a\",\"a\",\"b\",\"b\",\"c\",\"c\",\"c\"]\n",
    "output = compress(chars)\n",
    "print(output)\n",
    "\n",
    "# Time Complexity - O(n)\n",
    "# Space Complexity - O(1)"
   ]
  },
  {
   "cell_type": "markdown",
   "id": "6cf36e00",
   "metadata": {},
   "source": [
    "## Question - 6"
   ]
  },
  {
   "cell_type": "code",
   "execution_count": 14,
   "id": "43a0163b",
   "metadata": {},
   "outputs": [
    {
     "name": "stdout",
     "output_type": "stream",
     "text": [
      "[0, 6]\n"
     ]
    }
   ],
   "source": [
    "'Q6. '\n",
    "\n",
    "from collections import Counter\n",
    "\n",
    "def Anagrams(s, p):\n",
    "    result = []\n",
    "    p_count = Counter(p)\n",
    "    window_count = Counter()\n",
    "    left = right = 0\n",
    "    window_size = len(p)\n",
    "\n",
    "    while right < len(s):\n",
    "        window_count[s[right]] += 1\n",
    "\n",
    "        if right - left + 1 == window_size:\n",
    "            if window_count == p_count:\n",
    "                result.append(left)\n",
    "\n",
    "            window_count[s[left]] -= 1\n",
    "            if window_count[s[left]] == 0:\n",
    "                del window_count[s[left]]\n",
    "            left += 1\n",
    "\n",
    "        right += 1\n",
    "\n",
    "    return result\n",
    "\n",
    "# Declaring values and checking for output\n",
    "\n",
    "s = \"cbaebabacd\"\n",
    "p = \"abc\"\n",
    "output = Anagrams(s, p)\n",
    "print(output)\n",
    "\n",
    "# Time Complexity - O(n)\n",
    "# Space Complexity - O(1)"
   ]
  },
  {
   "cell_type": "markdown",
   "id": "e51f8130",
   "metadata": {},
   "source": [
    "## Question - 7"
   ]
  },
  {
   "cell_type": "code",
   "execution_count": 18,
   "id": "c3e92879",
   "metadata": {},
   "outputs": [
    {
     "name": "stdout",
     "output_type": "stream",
     "text": [
      "aaabcbc\n"
     ]
    }
   ],
   "source": [
    "'Q7. '\n",
    "\n",
    "def decodeString(s):\n",
    "        stack = []; curNum = 0; curString = ''\n",
    "        for c in s:\n",
    "            if c == '[':\n",
    "                stack.append(curString)\n",
    "                stack.append(curNum)\n",
    "                curString = ''\n",
    "                curNum = 0\n",
    "            elif c == ']':\n",
    "                num = stack.pop()\n",
    "                prevString = stack.pop()\n",
    "                curString = prevString + num*curString\n",
    "            elif c.isdigit():     # curNum*10+int(c) is helpful in keep track of more than 1 digit number\n",
    "                curNum = curNum*10 + int(c)\n",
    "            else:\n",
    "                curString += c\n",
    "        return curString\n",
    "\n",
    "# Declaring values and checking for output\n",
    "\n",
    "s = \"3[a]2[bc]\"\n",
    "output = decodeString(s)\n",
    "print(output)\n",
    "\n",
    "# Time Complexity - O(n)\n",
    "# Space Complexity - O(m)"
   ]
  },
  {
   "cell_type": "markdown",
   "id": "ab843499",
   "metadata": {},
   "source": [
    "## Question - 8"
   ]
  },
  {
   "cell_type": "code",
   "execution_count": 19,
   "id": "a745eba6",
   "metadata": {},
   "outputs": [
    {
     "name": "stdout",
     "output_type": "stream",
     "text": [
      "True\n"
     ]
    }
   ],
   "source": [
    "'Q8. '\n",
    "\n",
    "def swapStrings(s, goal):\n",
    "    count = 0\n",
    "    k=[]\n",
    "    if len(s)!= len(goal): return False\n",
    "    for i in range(len(s)):\n",
    "        if s[i]!= goal[i]:\n",
    "            count +=1\n",
    "            k.append(i)\n",
    "                \n",
    "    if count >2 : return False\n",
    "    elif count == 2 and s[k[0]] == goal[k[1]] and s[k[1]] == goal[k[0]]: return True\n",
    "        \n",
    "    elif count == 0 and len(set(s)) < len(s): return True\n",
    "\n",
    "# Declaring values and checking for output\n",
    "\n",
    "s = \"ab\"\n",
    "goal = \"ba\"\n",
    "output = swapStrings(s, goal)\n",
    "print(output)\n",
    "\n",
    "# Time Complexity - O(n)\n",
    "# Space Complexity - O(n)"
   ]
  }
 ],
 "metadata": {
  "kernelspec": {
   "display_name": "Python 3 (ipykernel)",
   "language": "python",
   "name": "python3"
  },
  "language_info": {
   "codemirror_mode": {
    "name": "ipython",
    "version": 3
   },
   "file_extension": ".py",
   "mimetype": "text/x-python",
   "name": "python",
   "nbconvert_exporter": "python",
   "pygments_lexer": "ipython3",
   "version": "3.9.12"
  }
 },
 "nbformat": 4,
 "nbformat_minor": 5
}
