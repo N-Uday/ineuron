{
 "cells": [
  {
   "cell_type": "markdown",
   "id": "6763cd22",
   "metadata": {},
   "source": [
    "# Assignment - 16"
   ]
  },
  {
   "cell_type": "markdown",
   "id": "0faf76bc",
   "metadata": {},
   "source": [
    "## Question - 1"
   ]
  },
  {
   "cell_type": "code",
   "execution_count": 1,
   "id": "b2607413",
   "metadata": {},
   "outputs": [
    {
     "name": "stdout",
     "output_type": "stream",
     "text": [
      "Example - 1 :  [-1, -1, 1, 2, 2, 1, -1]\n",
      "\n",
      "Example - 2 :  [2, 2, 2, -1, -1, -1, -1, 3, -1, -1]\n"
     ]
    }
   ],
   "source": [
    "'Q1. '\n",
    "\n",
    "def next_greater_frequency(array):\n",
    "    frequency = {}\n",
    "    stack = []\n",
    "    result = [-1] * len(array)\n",
    "\n",
    "    for num in array:\n",
    "        frequency[num] = frequency.get(num, 0) + 1\n",
    "\n",
    "    for i in range(len(array) - 1, -1, -1):\n",
    "        while stack and frequency[array[i]] >= frequency[array[stack[-1]]]:\n",
    "            stack.pop()\n",
    "        if stack:\n",
    "            result[i] = array[stack[-1]]\n",
    "        stack.append(i)\n",
    "\n",
    "    return result\n",
    "\n",
    "# Declaring values and checking for output\n",
    "\n",
    "# Example - 1\n",
    "\n",
    "a = [1, 1, 2, 3, 4, 2, 1]\n",
    "result = next_greater_frequency(a)\n",
    "print('Example - 1 : ',result)\n",
    "\n",
    "# Example - 2\n",
    "\n",
    "arr = [1, 1, 1, 2, 2, 2, 2, 11, 3, 3]\n",
    "result = next_greater_frequency(arr)\n",
    "print('\\nExample - 2 : ',result)\n",
    "\n",
    "# Time Complexity - O(N)            \n",
    "# Space Complexity - O(N)  "
   ]
  },
  {
   "cell_type": "markdown",
   "id": "f62c6a39",
   "metadata": {},
   "source": [
    "## Question - 2"
   ]
  },
  {
   "cell_type": "code",
   "execution_count": 2,
   "id": "0a8b8bca",
   "metadata": {},
   "outputs": [
    {
     "name": "stdout",
     "output_type": "stream",
     "text": [
      "Example - 1 :  [3, 23, 31, 34, 92, 98]\n",
      "\n",
      "Example - 2 :  [1, 2, 3, 4, 5, 8]\n"
     ]
    }
   ],
   "source": [
    "'Q2. '\n",
    "\n",
    "def sort_stack(stack):\n",
    "    temp_stack = []\n",
    "    while stack:\n",
    "        elem = stack.pop()\n",
    "        \n",
    "        while temp_stack and temp_stack[-1] < elem:\n",
    "            stack.append(temp_stack.pop())\n",
    "            \n",
    "        temp_stack.append(elem)\n",
    "        \n",
    "    while temp_stack:\n",
    "        stack.append(temp_stack.pop())\n",
    "            \n",
    "    return stack\n",
    "\n",
    "# Declaring values and checking for output\n",
    "\n",
    "# Example - 1\n",
    "\n",
    "stack1 = [34, 3, 31, 98, 92, 23]\n",
    "result = sort_stack(stack1)\n",
    "print('Example - 1 : ',result)\n",
    "\n",
    "# Example - 2\n",
    "\n",
    "stack2 = [3, 5, 1, 4, 2, 8]\n",
    "result = sort_stack(stack2)\n",
    "print('\\nExample - 2 : ',result)\n",
    "\n",
    "# Time Complexity - O(N^2)            \n",
    "# Space Complexity - O(N)  "
   ]
  },
  {
   "cell_type": "markdown",
   "id": "c3125f9a",
   "metadata": {},
   "source": [
    "## Question - 3"
   ]
  },
  {
   "cell_type": "code",
   "execution_count": 3,
   "id": "0d0e7997",
   "metadata": {},
   "outputs": [
    {
     "name": "stdout",
     "output_type": "stream",
     "text": [
      "Example - 1 :  [1, 2, 4, 5]\n",
      "\n",
      "Example - 2 :  [1, 2, 4, 5, 6]\n"
     ]
    }
   ],
   "source": [
    "'Q3. '\n",
    "\n",
    "def delete_middle(stack, k):\n",
    "\n",
    "    if len(stack) == 0 or k == 0:\n",
    "        stack.pop()\n",
    "        return\n",
    "    \n",
    "    temp = stack.pop()\n",
    "    delete_middle(stack, k - 1)\n",
    "    \n",
    "    stack.append(temp)\n",
    "\n",
    "def delete_middle_element(stack):\n",
    "    \n",
    "    k = len(stack) // 2 \n",
    "    \n",
    "    delete_middle(stack, k)\n",
    "\n",
    "    \n",
    "# Declaring values and checking for output\n",
    "\n",
    "# Example - 1\n",
    "\n",
    "stack1 = [1, 2, 3, 4, 5]\n",
    "delete_middle_element(stack1)\n",
    "print('Example - 1 : ',stack1)\n",
    "\n",
    "# Example - 2\n",
    "\n",
    "stack2 = [1, 2, 3, 4, 5, 6]\n",
    "result = delete_middle_element(stack2)\n",
    "print('\\nExample - 2 : ',stack2)\n",
    "\n",
    "# Time Complexity - O(N)            \n",
    "# Space Complexity - O(N) "
   ]
  },
  {
   "cell_type": "markdown",
   "id": "225a773e",
   "metadata": {},
   "source": [
    "## Question - 4"
   ]
  },
  {
   "cell_type": "code",
   "execution_count": 4,
   "id": "b283d812",
   "metadata": {},
   "outputs": [
    {
     "name": "stdout",
     "output_type": "stream",
     "text": [
      "Example - 1 :  Yes\n",
      "\n",
      "Example - 2 :  No\n"
     ]
    }
   ],
   "source": [
    "'Q4. '\n",
    "\n",
    "from queue import Queue\n",
    "\n",
    "def check_queue_order(queue):\n",
    "    stack = []\n",
    "    second_queue = Queue()\n",
    "    expected_element = 1\n",
    "\n",
    "    while not queue.empty():\n",
    "        front_element = queue.get()\n",
    "\n",
    "        if front_element == expected_element:\n",
    "            second_queue.put(front_element)\n",
    "            expected_element += 1\n",
    "        else:\n",
    "            while stack and stack[-1] < front_element:\n",
    "                second_queue.put(stack.pop())\n",
    "            stack.append(front_element)\n",
    "\n",
    "    while stack:\n",
    "        second_queue.put(stack.pop())\n",
    "\n",
    "    for i in range(1, second_queue.qsize() + 1):\n",
    "        if second_queue.get() != i:\n",
    "            return \"No\"\n",
    "\n",
    "    return \"Yes\"\n",
    "\n",
    "\n",
    "# Declaring values and checking for output\n",
    "\n",
    "def create_queue(queue_list):\n",
    "    q = Queue()\n",
    "    \n",
    "    for i in queue_list:\n",
    "        q.put(i)\n",
    "        \n",
    "    return q\n",
    "\n",
    "# Example - 1\n",
    "\n",
    "list1 = [5, 1, 2, 3, 4]\n",
    "queue1 = create_queue(list1)\n",
    "result = check_queue_order(queue1)\n",
    "print('Example - 1 : ',result)\n",
    "\n",
    "# Example - 2\n",
    "\n",
    "list2 = [5, 1, 2, 6, 3, 4]\n",
    "queue2 = create_queue(list2)\n",
    "result = check_queue_order(queue2)\n",
    "print('\\nExample - 2 : ',result)\n",
    "\n",
    "# Time Complexity - O(N)            \n",
    "# Space Complexity - O(N) "
   ]
  },
  {
   "cell_type": "markdown",
   "id": "2f5859bc",
   "metadata": {},
   "source": [
    "## Question - 5"
   ]
  },
  {
   "cell_type": "code",
   "execution_count": 5,
   "id": "05d72102",
   "metadata": {},
   "outputs": [
    {
     "name": "stdout",
     "output_type": "stream",
     "text": [
      "Example - 1 :  563\n",
      "\n",
      "Example - 2 :  9986\n"
     ]
    }
   ],
   "source": [
    "'Q5. '\n",
    "\n",
    "def reverse_number(numb):\n",
    "    numb_str = str(numb)\n",
    "    stack = []\n",
    "    \n",
    "    for digit in numb_str:\n",
    "        stack.append(digit)\n",
    "        \n",
    "    reversed_str = ''\n",
    "    \n",
    "    while stack:\n",
    "        reversed_str += stack.pop()\n",
    "        \n",
    "    return int(reversed_str)\n",
    "\n",
    "# Declaring values and checking for output\n",
    "\n",
    "# Example - 1\n",
    "\n",
    "number1 = 365\n",
    "print('Example - 1 : ',reverse_number(number1))\n",
    "\n",
    "# Example - 2\n",
    "\n",
    "number2 = 6899\n",
    "print('\\nExample - 2 : ',reverse_number(number2))\n",
    "\n",
    "# Time Complexity - O(N)            \n",
    "# Space Complexity - O(N) "
   ]
  },
  {
   "cell_type": "markdown",
   "id": "51153428",
   "metadata": {},
   "source": [
    "## Question - 6"
   ]
  },
  {
   "cell_type": "code",
   "execution_count": 6,
   "id": "9f1f1344",
   "metadata": {},
   "outputs": [
    {
     "name": "stdout",
     "output_type": "stream",
     "text": [
      "3 2 1 4 5 "
     ]
    }
   ],
   "source": [
    "'Q6. '\n",
    "\n",
    "from queue import Queue\n",
    "\n",
    "def reverse_k_elements(queue, k):\n",
    "    stack = []\n",
    "\n",
    "    for _ in range(k):\n",
    "        stack.append(queue.get())\n",
    "\n",
    "    while stack:\n",
    "        queue.put(stack.pop())\n",
    "        \n",
    "    for _ in range(queue.qsize() - k):\n",
    "        queue.put(queue.get())\n",
    "\n",
    "    return queue\n",
    "\n",
    "# Example usage:\n",
    "queue = Queue()\n",
    "queue.put(1)\n",
    "queue.put(2)\n",
    "queue.put(3)\n",
    "queue.put(4)\n",
    "queue.put(5)\n",
    "\n",
    "k = 3\n",
    "\n",
    "reversed_queue = reverse_k_elements(queue, k)\n",
    "\n",
    "while not reversed_queue.empty():\n",
    "    print(reversed_queue.get(), end  = \" \") \n",
    "    \n",
    "# Time Complexity - O(N + k)            \n",
    "# Space Complexity - O(k)"
   ]
  },
  {
   "cell_type": "markdown",
   "id": "c613ead6",
   "metadata": {},
   "source": [
    "## Question - 7"
   ]
  },
  {
   "cell_type": "code",
   "execution_count": 7,
   "id": "bed61e44",
   "metadata": {},
   "outputs": [
    {
     "name": "stdout",
     "output_type": "stream",
     "text": [
      "Example - 1 :  3\n",
      "\n",
      "Example - 2 :  0\n"
     ]
    }
   ],
   "source": [
    "'Q7. '\n",
    "\n",
    "def delete_consecutive_words(sequence):\n",
    "    words = sequence.split()\n",
    "    stack = []\n",
    "    \n",
    "    for word in words:\n",
    "        if not stack or word != stack[-1]:\n",
    "            stack.append(word)\n",
    "        \n",
    "        else:\n",
    "            stack.pop()\n",
    "            \n",
    "    return len(stack)\n",
    "\n",
    "# Declaring values and checking for output\n",
    "\n",
    "# Example - 1\n",
    "\n",
    "sequence1 = \"ab aa aa bcd ab\"\n",
    "result1 = delete_consecutive_words(sequence1)\n",
    "print('Example - 1 : ',result1)\n",
    "\n",
    "# Example - 2\n",
    "\n",
    "sequence2 = \"tom jerry jerry tom\"\n",
    "result2 = delete_consecutive_words(sequence2)\n",
    "print('\\nExample - 2 : ',result2)\n",
    "\n",
    "# Time Complexity - O(N)            \n",
    "# Space Complexity - O(N) "
   ]
  },
  {
   "cell_type": "markdown",
   "id": "a4dce8e7",
   "metadata": {},
   "source": [
    "## Question - 8"
   ]
  },
  {
   "cell_type": "code",
   "execution_count": 8,
   "id": "3d8cc928",
   "metadata": {},
   "outputs": [
    {
     "name": "stdout",
     "output_type": "stream",
     "text": [
      "Example - 1 :  1\n",
      "\n",
      "Example - 2 :  4\n",
      "\n",
      "Example - 3 :  1\n"
     ]
    }
   ],
   "source": [
    "'Q8. '\n",
    "\n",
    "def max_abs_diff(arr):\n",
    "    n = len(arr)\n",
    "    stack = []\n",
    "    leftSmaller = [0] * n\n",
    "\n",
    "    # nearest left smaller elements\n",
    "    for i in range(n):\n",
    "        while stack and stack[-1] >= arr[i]:\n",
    "            stack.pop()\n",
    "        if not stack:\n",
    "            leftSmaller[i] = 0\n",
    "        else:\n",
    "            leftSmaller[i] = stack[-1]\n",
    "        stack.append(arr[i])\n",
    "\n",
    "    stack.clear()\n",
    "    rightSmaller = [0] * n\n",
    "\n",
    "    # nearest right smaller elements\n",
    "    for i in range(n - 1, -1, -1):\n",
    "        while stack and stack[-1] >= arr[i]:\n",
    "            stack.pop()\n",
    "        if not stack:\n",
    "            rightSmaller[i] = 0\n",
    "        else:\n",
    "            rightSmaller[i] = stack[-1]\n",
    "        stack.append(arr[i])\n",
    "\n",
    "    maxDiff = 0\n",
    "    for i in range(n):\n",
    "        diff = abs(leftSmaller[i] - rightSmaller[i])\n",
    "        if diff > maxDiff:\n",
    "            maxDiff = diff\n",
    "\n",
    "    return maxDiff\n",
    "\n",
    "# Declaring values and checking for output\n",
    "\n",
    "# Example - 1\n",
    "\n",
    "arr1 = [2, 1, 8]\n",
    "result1 = max_abs_diff(arr1)\n",
    "print('Example - 1 : ',result1)\n",
    "\n",
    "# Example - 2\n",
    "\n",
    "arr2 = [2, 4, 8, 7, 7, 9, 3]\n",
    "result2 = max_abs_diff(arr2)\n",
    "print('\\nExample - 2 : ',result2)\n",
    "\n",
    "# Example - 3\n",
    "\n",
    "arr3 = [5, 1, 9, 2, 5, 1, 7]\n",
    "result3 = max_abs_diff(arr3)\n",
    "print('\\nExample - 3 : ',result3)\n",
    "\n",
    "# Time Complexity - O(N)            \n",
    "# Space Complexity - O(N) "
   ]
  }
 ],
 "metadata": {
  "kernelspec": {
   "display_name": "Python 3 (ipykernel)",
   "language": "python",
   "name": "python3"
  },
  "language_info": {
   "codemirror_mode": {
    "name": "ipython",
    "version": 3
   },
   "file_extension": ".py",
   "mimetype": "text/x-python",
   "name": "python",
   "nbconvert_exporter": "python",
   "pygments_lexer": "ipython3",
   "version": "3.9.12"
  }
 },
 "nbformat": 4,
 "nbformat_minor": 5
}
