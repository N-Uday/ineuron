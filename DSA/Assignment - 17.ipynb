{
 "cells": [
  {
   "cell_type": "markdown",
   "id": "52140a94",
   "metadata": {},
   "source": [
    "# Assignment - 17"
   ]
  },
  {
   "cell_type": "markdown",
   "id": "bb26e8dd",
   "metadata": {},
   "source": [
    "## Question - 1"
   ]
  },
  {
   "cell_type": "code",
   "execution_count": 1,
   "id": "2841f29c",
   "metadata": {},
   "outputs": [
    {
     "name": "stdout",
     "output_type": "stream",
     "text": [
      "Example - 1 :  0\n",
      "\n",
      "Example - 2 :  2\n",
      "\n",
      "Example - 3 :  -1\n"
     ]
    }
   ],
   "source": [
    "'Q1. '\n",
    "\n",
    "from collections import deque\n",
    "\n",
    "def firstUniqChar(s):\n",
    "    char_counter = {}\n",
    "    q = deque()\n",
    "    \n",
    "    for char in s:\n",
    "        if char in char_counter:\n",
    "            char_counter[char] += 1\n",
    "            \n",
    "        else:\n",
    "            char_counter[char] = 1\n",
    "            \n",
    "        q.append(char)\n",
    "        \n",
    "    while len(q) > 0:\n",
    "        char = q.popleft()\n",
    "        if char_counter[char] == 1:\n",
    "            return s.index(char)\n",
    "        \n",
    "    return -1\n",
    "\n",
    "# Declaring values and checking for output\n",
    "\n",
    "# Example - 1\n",
    "\n",
    "s1 = \"leetcode\"\n",
    "result1 = firstUniqChar(s1)\n",
    "print('Example - 1 : ',result1)\n",
    "\n",
    "# Example - 2\n",
    "\n",
    "s2 = \"loveleetcode\"\n",
    "result2 = firstUniqChar(s2)\n",
    "print('\\nExample - 2 : ',result2)\n",
    "\n",
    "# Example - 3\n",
    "\n",
    "s3 = \"aabb\"\n",
    "result3 = firstUniqChar(s3)\n",
    "print('\\nExample - 3 : ',result3)\n",
    "\n",
    "# Time Complexity - O(N)            \n",
    "# Space Complexity - O(N) "
   ]
  },
  {
   "cell_type": "markdown",
   "id": "6a5e3506",
   "metadata": {},
   "source": [
    "## Question - 2"
   ]
  },
  {
   "cell_type": "code",
   "execution_count": 2,
   "id": "fd5dcc01",
   "metadata": {},
   "outputs": [
    {
     "name": "stdout",
     "output_type": "stream",
     "text": [
      "Example - 1 :  3\n",
      "\n",
      "Example - 2 :  10\n",
      "\n",
      "Example - 3 :  -2\n"
     ]
    }
   ],
   "source": [
    "'Q2.  '\n",
    "\n",
    "def maxSubarraySum(nums):\n",
    "    \n",
    "    # Kadens Algorithm   \n",
    "    array_sum = 0\n",
    "    \n",
    "    curr_min_sum, min_sum = 0, float('inf')\n",
    "    curr_max_sum, max_sum = 0, float('-inf')\n",
    "    \n",
    "    for num in nums:\n",
    "        \n",
    "        curr_min_sum = min(curr_min_sum + num , num)\n",
    "        min_sum = min(min_sum, curr_min_sum)\n",
    "        \n",
    "        curr_max_sum = max(curr_max_sum + num , num)\n",
    "        max_sum = max(max_sum, curr_max_sum)\n",
    "        \n",
    "        array_sum += num\n",
    "        \n",
    "    if max_sum > 0:\n",
    "        return max(array_sum - min_sum, max_sum)\n",
    "    \n",
    "    else:\n",
    "        return max_sum\n",
    "    \n",
    "# Declaring values and checking for output\n",
    "\n",
    "# Example - 1\n",
    "\n",
    "nums1 = [1, -2, 3, -2]\n",
    "result1 = maxSubarraySum(nums1)\n",
    "print('Example - 1 : ',result1)\n",
    "\n",
    "# Example - 2\n",
    "\n",
    "nums2 = [5, -3, 5]\n",
    "result2 = maxSubarraySum(nums2)\n",
    "print('\\nExample - 2 : ',result2)\n",
    "\n",
    "# Example - 3\n",
    "\n",
    "nums3 = [-3, -2, -3]\n",
    "result3 = maxSubarraySum(nums3)\n",
    "print('\\nExample - 3 : ',result3)\n",
    "\n",
    "# Time Complexity - O(N)            \n",
    "# Space Complexity - O(1) "
   ]
  },
  {
   "cell_type": "markdown",
   "id": "bffe3941",
   "metadata": {},
   "source": [
    "## Question - 3"
   ]
  },
  {
   "cell_type": "code",
   "execution_count": 3,
   "id": "5bd55918",
   "metadata": {},
   "outputs": [
    {
     "name": "stdout",
     "output_type": "stream",
     "text": [
      "Example - 1 :  0\n",
      "\n",
      "Example - 2 :  3\n"
     ]
    }
   ],
   "source": [
    "'Q3. '\n",
    "\n",
    "def countStudents(students, sandwiches):\n",
    "    from collections import deque\n",
    "\n",
    "    student = deque(students)\n",
    "    students_count = 0\n",
    "    sandwiches = sandwiches[::-1]\n",
    "\n",
    "    while  len(student) > 0:\n",
    "        if students_count == len(student):\n",
    "            break\n",
    "\n",
    "        stu_peek = student.popleft()\n",
    "\n",
    "        if stu_peek == sandwiches[-1]:\n",
    "            sandwiches.pop()\n",
    "            students_count = 0\n",
    "\n",
    "        else:\n",
    "            student.append(stu_peek)\n",
    "            students_count += 1\n",
    "\n",
    "    return students_count\n",
    "\n",
    "# Declaring values and checking for output\n",
    "\n",
    "# Example - 1\n",
    "\n",
    "students1 = [1,1,0,0]\n",
    "sandwiches1 = [0,1,0,1]\n",
    "result1 = countStudents(students1, sandwiches1)\n",
    "print('Example - 1 : ',result1)\n",
    "\n",
    "# Example - 2\n",
    "\n",
    "students2 = [1,1,1,0,0,1]\n",
    "sandwiches2 = [1,0,0,0,1,1]\n",
    "result2 = countStudents(students2, sandwiches2)\n",
    "print('\\nExample - 2 : ',result2)\n",
    "\n",
    "# Time Complexity - O(N)            \n",
    "# Space Complexity - O(N) "
   ]
  },
  {
   "cell_type": "markdown",
   "id": "997d87dd",
   "metadata": {},
   "source": [
    "## Question - 4"
   ]
  },
  {
   "cell_type": "code",
   "execution_count": 4,
   "id": "94f2963a",
   "metadata": {},
   "outputs": [
    {
     "name": "stdout",
     "output_type": "stream",
     "text": [
      "1\n",
      "2\n",
      "3\n",
      "3\n"
     ]
    }
   ],
   "source": [
    "'Q4. '\n",
    "\n",
    "class RecentCounter:\n",
    "    def __init__(self):\n",
    "        from collections import deque\n",
    "\n",
    "        self.recent_req = 0\n",
    "        self.q = deque()\n",
    "        \n",
    "    def ping(self, t):\n",
    "        \n",
    "        if t < 3000:\n",
    "            self.q.append(t)\n",
    "            \n",
    "        else:\n",
    "            val = abs(t - 3000)\n",
    "            \n",
    "            while self.q and self.q[0] < val:\n",
    "                self.q.popleft()\n",
    "                \n",
    "            self.q.append(t)\n",
    "            \n",
    "        return len(self.q)\n",
    "    \n",
    "# Declaring values and checking for output\n",
    "\n",
    "obj = RecentCounter()\n",
    "print(obj.ping(1))\n",
    "print(obj.ping(100))\n",
    "print(obj.ping(3001))\n",
    "print(obj.ping(3002))\n",
    "\n",
    "# Time Complexity - O(1)            \n",
    "# Space Complexity - O(N)       "
   ]
  },
  {
   "cell_type": "markdown",
   "id": "b9c2967c",
   "metadata": {},
   "source": [
    "## Question - 5"
   ]
  },
  {
   "cell_type": "code",
   "execution_count": 5,
   "id": "776507a3",
   "metadata": {},
   "outputs": [
    {
     "name": "stdout",
     "output_type": "stream",
     "text": [
      "Winner 1 : 3\n",
      "Winner 2 : 1\n"
     ]
    }
   ],
   "source": [
    "'Q5. '\n",
    "\n",
    "from collections import deque\n",
    "\n",
    "def winner(n, k):\n",
    "    friends = deque(range(1, n+1))\n",
    "\n",
    "    while len(friends) > 1:\n",
    "        friends.rotate(-(k-1))\n",
    "        friends.popleft()\n",
    "\n",
    "    return friends[0]\n",
    "\n",
    "# Declaring values and checking for output\n",
    "\n",
    "# Example - 1\n",
    "\n",
    "n = 5\n",
    "k = 2\n",
    "winner1 = winner(n, k)\n",
    "print(\"Winner 1 :\", winner1)\n",
    "\n",
    "# Example - 2\n",
    "\n",
    "n = 6\n",
    "k = 5\n",
    "winner2 = winner(n, k)\n",
    "print(\"Winner 2 :\", winner2)\n",
    "\n",
    "# Time Complexity - O(N * k)            \n",
    "# Space Complexity - O(N) "
   ]
  },
  {
   "cell_type": "markdown",
   "id": "cf92d00b",
   "metadata": {},
   "source": [
    "## Question - 6"
   ]
  },
  {
   "cell_type": "code",
   "execution_count": 6,
   "id": "75779b5d",
   "metadata": {},
   "outputs": [
    {
     "name": "stdout",
     "output_type": "stream",
     "text": [
      "Example - 1 :  [2, 13, 3, 11, 5, 17, 7]\n",
      "Example - 1 :  [1, 1000]\n"
     ]
    }
   ],
   "source": [
    "'Q6. '\n",
    "\n",
    "from collections import deque\n",
    "\n",
    "def increasing_cards_order(deck):\n",
    "    sorted_deck = sorted(deck)\n",
    "    n = len(sorted_deck)\n",
    "    revealed_cards = deque()\n",
    "    \n",
    "    for i in range(n - 1, -1, -1):\n",
    "        if len(revealed_cards) > 0:\n",
    "            revealed_cards.appendleft(revealed_cards.pop())\n",
    "            \n",
    "        revealed_cards.appendleft(sorted_deck[i])\n",
    "        \n",
    "    return list(revealed_cards)\n",
    "\n",
    "# Declaring values and checking for output\n",
    "\n",
    "# Example - 1\n",
    "\n",
    "deck = [17,13,11,2,3,5,7]\n",
    "result1 = increasing_cards_order(deck)\n",
    "print('Example - 1 : ',result1)\n",
    "\n",
    "# Example - 2\n",
    "\n",
    "deck2 = [1,1000]\n",
    "result2 = increasing_cards_order(deck2)\n",
    "print('Example - 1 : ',result2)\n",
    "\n",
    "# Time Complexity - O(N * k)            \n",
    "# Space Complexity - O(N)"
   ]
  },
  {
   "cell_type": "markdown",
   "id": "459708bd",
   "metadata": {},
   "source": [
    "## Question - 7"
   ]
  },
  {
   "cell_type": "code",
   "execution_count": 7,
   "id": "49d9515f",
   "metadata": {},
   "outputs": [
    {
     "name": "stdout",
     "output_type": "stream",
     "text": [
      "None, None, None, None, 1, 3, 4, 2, -1, "
     ]
    }
   ],
   "source": [
    "'Q7. '\n",
    "\n",
    "from collections import deque\n",
    "\n",
    "\n",
    "class FrontMiddleBackQueue:\n",
    "\n",
    "    def __init__(self):\n",
    "        self.first_part = deque()\n",
    "        self.second_part = deque()\n",
    "\n",
    "    def pushFront(self, val):              # Time Complexity - O(1)     \n",
    "        if len(self.second_part) < len(self.first_part):\n",
    "            self.second_part.appendleft(self.first_part.pop())\n",
    "        self.first_part.appendleft(val)\n",
    "\n",
    "    def pushMiddle(self, val) :            # Time Complexity - O(N) \n",
    "        if len(self.first_part) > len(self.second_part):\n",
    "            self.second_part.appendleft(self.first_part.pop())\n",
    "        self.first_part.append(val)\n",
    "\n",
    "    def pushBack(self, val) :              # Time Complexity - O(1) \n",
    "        if self.first_part:\n",
    "            if len(self.first_part) == len(self.second_part):\n",
    "                self.first_part.append(self.second_part.popleft())\n",
    "            self.second_part.append(val)\n",
    "        else:\n",
    "            self.first_part.append(val)\n",
    "\n",
    "    def popFront(self) :                   # Time Complexity - O(1) \n",
    "        if self.first_part:\n",
    "            if len(self.first_part) == len(self.second_part):\n",
    "                self.first_part.append(self.second_part.popleft())\n",
    "            return self.first_part.popleft()\n",
    "        return -1\n",
    "\n",
    "    def popMiddle(self) :                  # Time Complexity - O(N) \n",
    "        if self.first_part:\n",
    "            res = self.first_part.pop()\n",
    "            if len(self.first_part) < len(self.second_part):\n",
    "                self.first_part.append(self.second_part.popleft())\n",
    "            return res\n",
    "        return -1\n",
    "\n",
    "    def popBack(self) :                    # Time Complexity - O(1) \n",
    "        if self.second_part:\n",
    "            if len(self.second_part) < len(self.first_part):\n",
    "                self.second_part.appendleft(self.first_part.pop())\n",
    "            return self.second_part.pop()\n",
    "        return self.first_part.pop() if self.first_part else -1\n",
    "\n",
    "\n",
    "# Declaring values and checking for output\n",
    "\n",
    "q = FrontMiddleBackQueue()\n",
    "print(q.pushFront(1), end = ', ')\n",
    "print(q.pushBack(2), end = ', ')\n",
    "print(q.pushMiddle(3), end = ', ')\n",
    "print(q.pushMiddle(4), end = ', ')\n",
    "print(q.popFront(), end = ', ')\n",
    "print(q.popMiddle(), end = ', ')\n",
    "print(q.popMiddle(), end = ', ')\n",
    "print(q.popBack(), end = ', ')\n",
    "print(q.popFront(), end = ', ')\n",
    "\n",
    "# Space Complexity - O(1)"
   ]
  },
  {
   "cell_type": "markdown",
   "id": "33d400cc",
   "metadata": {},
   "source": [
    "## Question - 8\n",
    "\n"
   ]
  },
  {
   "cell_type": "code",
   "execution_count": 8,
   "id": "d131f5db",
   "metadata": {},
   "outputs": [
    {
     "name": "stdout",
     "output_type": "stream",
     "text": [
      "False\n",
      "False\n",
      "True\n",
      "False\n"
     ]
    }
   ],
   "source": [
    "'Q8. '\n",
    "\n",
    "class DataStream(object):\n",
    "\n",
    "    def __init__(self, value, k):\n",
    "        \n",
    "        self.k = k\n",
    "        self.v = value\n",
    "        self.seq = 0\n",
    "\n",
    "    def consec(self, num):\n",
    "        \n",
    "        if num != self.v:\n",
    "            self.seq = 0 \n",
    "            return False\n",
    "        self.seq = self.seq+1\n",
    "        return self.seq >= self.k\n",
    "\n",
    "# Declaring values and checking for output\n",
    "\n",
    "dataStream = DataStream(4, 3)\n",
    "print(dataStream.consec(4))  \n",
    "print(dataStream.consec(4))  \n",
    "print(dataStream.consec(4))  \n",
    "print(dataStream.consec(3))  \n",
    "\n",
    "# Time Complexity - O(1)            \n",
    "# Space Complexity - O(1)"
   ]
  }
 ],
 "metadata": {
  "kernelspec": {
   "display_name": "Python 3 (ipykernel)",
   "language": "python",
   "name": "python3"
  },
  "language_info": {
   "codemirror_mode": {
    "name": "ipython",
    "version": 3
   },
   "file_extension": ".py",
   "mimetype": "text/x-python",
   "name": "python",
   "nbconvert_exporter": "python",
   "pygments_lexer": "ipython3",
   "version": "3.9.12"
  }
 },
 "nbformat": 4,
 "nbformat_minor": 5
}
