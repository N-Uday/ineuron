{
 "cells": [
  {
   "cell_type": "markdown",
   "id": "7359c0a0",
   "metadata": {},
   "source": [
    "# Assignment - 15"
   ]
  },
  {
   "cell_type": "markdown",
   "id": "17b1e75a",
   "metadata": {},
   "source": [
    "## Question - 1"
   ]
  },
  {
   "cell_type": "code",
   "execution_count": 1,
   "id": "d9e89f53",
   "metadata": {},
   "outputs": [
    {
     "name": "stdout",
     "output_type": "stream",
     "text": [
      "Example - 1 :  [3, 4, 4, -1]\n",
      "\n",
      "Example - 2 :  [8, -1, 1, 3, -1]\n"
     ]
    }
   ],
   "source": [
    "'Q1. '\n",
    "\n",
    "def NextGreaterElement(arr, N):\n",
    "    result = [-1] * N\n",
    "    stack = []\n",
    "    \n",
    "    for i in range(N):\n",
    "        \n",
    "        while stack and arr[stack[-1]] < arr[i]:\n",
    "            result[stack.pop()] = arr[i]\n",
    "            \n",
    "        stack.append(i)\n",
    "        \n",
    "    return result\n",
    "\n",
    "# Declaring values and checking for output\n",
    "\n",
    "# Example - 1\n",
    "\n",
    "N = 4\n",
    "arr = [1, 3, 2, 4]\n",
    "result = NextGreaterElement(arr, N)\n",
    "print('Example - 1 : ',result)\n",
    "\n",
    "# Example - 2\n",
    "\n",
    "N2 = 5\n",
    "arr2 = [6, 8, 0, 1, 3]\n",
    "result = NextGreaterElement(arr2, N2)\n",
    "print('\\nExample - 2 : ',result)\n",
    "\n",
    "# Time Complexity - O(N)            \n",
    "# Space Complexity - O(N)            "
   ]
  },
  {
   "cell_type": "markdown",
   "id": "38122013",
   "metadata": {},
   "source": [
    "## Question - 2"
   ]
  },
  {
   "cell_type": "code",
   "execution_count": 2,
   "id": "9031f8b0",
   "metadata": {},
   "outputs": [
    {
     "name": "stdout",
     "output_type": "stream",
     "text": [
      "Example - 1 :  [-1, 1, 1]\n",
      "\n",
      "Example - 2 :  [-1, 1, -1, 0, 3, 4]\n"
     ]
    }
   ],
   "source": [
    "'Q2. '\n",
    "\n",
    "def NearestSmallerNumber(arr, N):\n",
    "    result = [-1] * N\n",
    "    stack = []\n",
    "    \n",
    "    for i in range(N):\n",
    "        while stack and arr[stack[-1]] >= arr[i]:\n",
    "            stack.pop()\n",
    "            \n",
    "        if stack:\n",
    "            result[i] = arr[stack[-1]]\n",
    "            \n",
    "        stack.append(i)\n",
    "        \n",
    "    return result\n",
    "\n",
    "# Declaring values and checking for output\n",
    "\n",
    "# Example - 1\n",
    "\n",
    "N = 3\n",
    "arr = [1, 6, 2]\n",
    "result = NearestSmallerNumber(arr, N)\n",
    "print('Example - 1 : ',result)\n",
    "\n",
    "# Example - 2\n",
    "\n",
    "N2 = 6\n",
    "arr2 = [1, 5, 0, 3, 4, 5]\n",
    "result = NearestSmallerNumber(arr2, N2)\n",
    "print('\\nExample - 2 : ',result)\n",
    "\n",
    "# Time Complexity - O(N)            \n",
    "# Space Complexity - O(N)  "
   ]
  },
  {
   "cell_type": "markdown",
   "id": "2da8b265",
   "metadata": {},
   "source": [
    "## Question - 3"
   ]
  },
  {
   "cell_type": "code",
   "execution_count": 3,
   "id": "04579b9c",
   "metadata": {},
   "outputs": [
    {
     "name": "stdout",
     "output_type": "stream",
     "text": [
      "Example - 1 : 3 4 \n",
      "\n",
      "Example - 2 : 2 -1"
     ]
    }
   ],
   "source": [
    "'Q3. '\n",
    "\n",
    "class Stack:\n",
    "    \n",
    "    def __init__(self):\n",
    "        from queue import Queue\n",
    "        self.q1 = Queue()\n",
    "        self.q2 = Queue()\n",
    "        \n",
    "    def push(self, val):\n",
    "        self.q1.put(val)\n",
    "        \n",
    "    def pop(self):\n",
    "        if self.q1.qsize() == 0:\n",
    "            print(-1, end = '')\n",
    "            return \n",
    "        while self.q1.qsize() > 1:\n",
    "            self.q2.put(self.q1.get())\n",
    "            \n",
    "        elem = self.q1.get()\n",
    "        print(elem, end = \" \")\n",
    "        \n",
    "        while not self.q2.empty():\n",
    "            self.q1.put(self.q2.get())\n",
    "            \n",
    "# Declaring values and checking for output\n",
    "\n",
    "# Example - 1\n",
    "\n",
    "print('Example - 1 : ', end = '')\n",
    "obj1 = Stack()\n",
    "obj1.push(2)\n",
    "obj1.push(3)\n",
    "obj1.pop()\n",
    "obj1.push(4)\n",
    "obj1.pop()\n",
    "\n",
    "# Example - 2\n",
    "\n",
    "print('\\n\\nExample - 2 : ', end = '')\n",
    "obj2 = Stack()\n",
    "obj2.push(2)\n",
    "obj2.pop()\n",
    "obj2.pop()\n",
    "obj2.push(3)\n",
    "\n",
    "# Time Complexity - O(1)\n",
    "# Space Complexity - O(n)"
   ]
  },
  {
   "cell_type": "markdown",
   "id": "ba8295a4",
   "metadata": {},
   "source": [
    "## Question - 4"
   ]
  },
  {
   "cell_type": "code",
   "execution_count": 4,
   "id": "42d7a92c",
   "metadata": {},
   "outputs": [
    {
     "name": "stdout",
     "output_type": "stream",
     "text": [
      "Example - 1 : [6, 7, 1, 2, 3]\n",
      "\n",
      "\n",
      "Example - 2 : [6, 9, 3, 4]\n"
     ]
    }
   ],
   "source": [
    "'Q4. '\n",
    "\n",
    "def insertAtBack(stack, item):\n",
    "    if not stack:\n",
    "        stack.append(item)\n",
    "    else:\n",
    "        temp = stack.pop()\n",
    "        insertAtBack(stack, item)\n",
    "        stack.append(temp)\n",
    "\n",
    "def reverseStack(stack):\n",
    "    if len(stack) <= 1:\n",
    "        return stack\n",
    "    else:\n",
    "        top_element = stack.pop()\n",
    "        reverseStack(stack)\n",
    "        insertAtBack(stack, top_element)\n",
    "    return stack\n",
    "\n",
    "\n",
    "# Declaring values and checking for output\n",
    "\n",
    "# Example - 1\n",
    "\n",
    "print('Example - 1 : ', end = '')\n",
    "St1 = [3, 2, 1, 7, 6]\n",
    "reversed_stack = reverseStack(St1)\n",
    "print(reversed_stack) \n",
    "\n",
    "# Example - 2\n",
    "\n",
    "print('\\n\\nExample - 2 : ', end = '')\n",
    "St2 = [4, 3, 9, 6]\n",
    "reversed_stack = reverseStack(St2)\n",
    "print(reversed_stack) \n",
    "\n",
    "# Time Complexity - O(N^2)\n",
    "# Space Complexity - O(N)"
   ]
  },
  {
   "cell_type": "markdown",
   "id": "51f396e6",
   "metadata": {},
   "source": [
    "## Question - 5"
   ]
  },
  {
   "cell_type": "code",
   "execution_count": 5,
   "id": "c7dfb062",
   "metadata": {},
   "outputs": [
    {
     "name": "stdout",
     "output_type": "stream",
     "text": [
      "skeeGrofskeeG\n"
     ]
    }
   ],
   "source": [
    "'Q5. '\n",
    "\n",
    "def reverseString(String):\n",
    "    stack = []\n",
    "    for char in String:\n",
    "        stack.append(char)\n",
    "    \n",
    "    reversed_string = ''\n",
    "    \n",
    "    while stack:\n",
    "        reversed_string += stack.pop()\n",
    "        \n",
    "    return reversed_string\n",
    "\n",
    "# Declaring values and checking for output\n",
    "\n",
    "S = 'GeeksforGeeks'\n",
    "reversed_str = reverseString(S)\n",
    "print(reversed_str) \n",
    "\n",
    "# Time Complexity - O(N)\n",
    "# Space Complexity - O(N)"
   ]
  },
  {
   "cell_type": "markdown",
   "id": "61d60499",
   "metadata": {},
   "source": [
    "## Question - 6"
   ]
  },
  {
   "cell_type": "code",
   "execution_count": 6,
   "id": "7112af1a",
   "metadata": {},
   "outputs": [
    {
     "name": "stdout",
     "output_type": "stream",
     "text": [
      "Example - 1 : -4\n",
      "\n",
      "Example - 2 : -3\n"
     ]
    }
   ],
   "source": [
    "'Q6. '\n",
    "\n",
    "class Solution:\n",
    "    def __init__(self):\n",
    "        self.stack = []\n",
    "        \n",
    "    def push(self,val):\n",
    "        self.stack.append(val)\n",
    "    \n",
    "    def pop(self):\n",
    "        if self.stack:\n",
    "            return self.stack.pop()\n",
    "        else:\n",
    "            return \"Stack UnderFlow\"\n",
    "        \n",
    "    def EvaluatePostfix(self,S):\n",
    "        for i in S:\n",
    "            if i.isdigit():\n",
    "                self.push(i)\n",
    "            \n",
    "            else:\n",
    "                val1 = self.pop()\n",
    "                val2 = self.pop()\n",
    "                self.push(str(eval(val2 + i + val1)))\n",
    "        \n",
    "        return int(self.pop())\n",
    "            \n",
    "# Declaring values and checking for output\n",
    "obj = Solution()\n",
    "\n",
    "# Example - 1\n",
    "\n",
    "print('Example - 1 : ', end = '')\n",
    "S1 = '231*+9-'\n",
    "result = obj.EvaluatePostfix(S1)\n",
    "print(result) \n",
    "\n",
    "# Example - 2\n",
    "\n",
    "print('\\nExample - 2 : ', end = '')\n",
    "S2 = '123+*8-'\n",
    "result = obj.EvaluatePostfix(S2)\n",
    "print(result) \n",
    "\n",
    "# Time Complexity - O(N)\n",
    "# Space Complexity - O(N)        "
   ]
  },
  {
   "cell_type": "markdown",
   "id": "a33b0cab",
   "metadata": {},
   "source": [
    "## Question - 7"
   ]
  },
  {
   "cell_type": "code",
   "execution_count": 7,
   "id": "8c229b65",
   "metadata": {},
   "outputs": [
    {
     "name": "stdout",
     "output_type": "stream",
     "text": [
      "-3\n",
      "0\n",
      "-2\n"
     ]
    }
   ],
   "source": [
    "'Q7. '\n",
    "\n",
    "class MinStack:\n",
    "    \n",
    "    def __init__(self):\n",
    "        self.main_stack = []\n",
    "        self.min_stack = []\n",
    "\n",
    "    def push(self, val: int) -> None:\n",
    "        self.main_stack.append(val)\n",
    "        if not self.min_stack or val <= self.min_stack[-1]:\n",
    "            self.min_stack.append(val)\n",
    "\n",
    "    def pop(self) -> None:\n",
    "        if self.main_stack[-1] == self.min_stack[-1]:\n",
    "            self.min_stack.pop()\n",
    "        self.main_stack.pop()\n",
    "\n",
    "    def top(self) -> int:\n",
    "        return self.main_stack[-1]\n",
    "\n",
    "    def getMin(self) -> int:\n",
    "        return self.min_stack[-1]\n",
    "\n",
    "# Declaring values and checking for output\n",
    "\n",
    "minStack = MinStack()\n",
    "minStack.push(-2)\n",
    "minStack.push(0)\n",
    "minStack.push(-3)\n",
    "print(minStack.getMin())  # Output: -3\n",
    "minStack.pop()\n",
    "print(minStack.top())     # Output: 0\n",
    "print(minStack.getMin())  # Output: -2\n",
    "\n",
    "# Time Complexity - O(1)\n",
    "# Space Complexity - O(N)        "
   ]
  },
  {
   "cell_type": "markdown",
   "id": "c78dd206",
   "metadata": {},
   "source": [
    "## Question - 8"
   ]
  },
  {
   "cell_type": "code",
   "execution_count": 8,
   "id": "47aea067",
   "metadata": {},
   "outputs": [
    {
     "name": "stdout",
     "output_type": "stream",
     "text": [
      "Example - 1 :  6\n",
      "Example - 2 :  9\n"
     ]
    }
   ],
   "source": [
    "'Q8. '\n",
    "\n",
    "def trap(height):\n",
    "    if len(height) < 3:\n",
    "        return 0\n",
    "    \n",
    "    left, right = 0, len(height) - 1\n",
    "    left_max = right_max = water = 0\n",
    "    \n",
    "    while left < right:\n",
    "        if height[left] < height[right]:\n",
    "            if height[left] >= left_max:\n",
    "                left_max = height[left]\n",
    "            else:\n",
    "                water += left_max - height[left]\n",
    "            left += 1\n",
    "        else:\n",
    "            if height[right] >= right_max:\n",
    "                right_max = height[right]\n",
    "            else:\n",
    "                water += right_max - height[right]\n",
    "            right -= 1\n",
    "    \n",
    "    return water\n",
    "\n",
    "# Declaring values and checking for output\n",
    "\n",
    "# Example - 1\n",
    "\n",
    "height1 = [0,1,0,2,1,0,1,3,2,1,2,1]\n",
    "print('Example - 1 : ',trap(height1)) \n",
    "\n",
    "# Example - 2\n",
    "\n",
    "height2 = [4,2,0,3,2,5]\n",
    "print('Example - 2 : ',trap(height2)) \n",
    "\n",
    "# Time Complexity - O(N)\n",
    "# Space Complexity - O(1)  "
   ]
  }
 ],
 "metadata": {
  "kernelspec": {
   "display_name": "Python 3 (ipykernel)",
   "language": "python",
   "name": "python3"
  },
  "language_info": {
   "codemirror_mode": {
    "name": "ipython",
    "version": 3
   },
   "file_extension": ".py",
   "mimetype": "text/x-python",
   "name": "python",
   "nbconvert_exporter": "python",
   "pygments_lexer": "ipython3",
   "version": "3.9.12"
  }
 },
 "nbformat": 4,
 "nbformat_minor": 5
}
