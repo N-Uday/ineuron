{
 "cells": [
  {
   "cell_type": "markdown",
   "id": "b10f96ac",
   "metadata": {},
   "source": [
    "# Assignment - 9"
   ]
  },
  {
   "cell_type": "markdown",
   "id": "20925f56",
   "metadata": {},
   "source": [
    "## Question - 1"
   ]
  },
  {
   "cell_type": "code",
   "execution_count": 1,
   "id": "e85fd7e0",
   "metadata": {},
   "outputs": [
    {
     "name": "stdout",
     "output_type": "stream",
     "text": [
      "n = 1 :  True\n",
      "n = 16 :  True\n",
      "n = 3 :  False\n"
     ]
    }
   ],
   "source": [
    "'Q1. '\n",
    "\n",
    "def PowerOfTwo(n):\n",
    "    if n <= 0:\n",
    "        return False\n",
    "    return (n & (n - 1)) == 0\n",
    "\n",
    "# Declaring values and checking for output\n",
    "\n",
    "print('n = 1 : ',PowerOfTwo(1))\n",
    "print('n = 16 : ',PowerOfTwo(16))\n",
    "print('n = 3 : ',PowerOfTwo(3))\n",
    "\n",
    "# Time Complexity - O(1)\n",
    "# Space Complexity - O(1)"
   ]
  },
  {
   "cell_type": "markdown",
   "id": "2910aee7",
   "metadata": {},
   "source": [
    "## Question - 2"
   ]
  },
  {
   "cell_type": "code",
   "execution_count": 2,
   "id": "89b44ebb",
   "metadata": {},
   "outputs": [
    {
     "name": "stdout",
     "output_type": "stream",
     "text": [
      "6\n"
     ]
    }
   ],
   "source": [
    "'Q2. '\n",
    "\n",
    "def sumOfNnumbers(n):\n",
    "    return int((n*(n+1))/2)\n",
    "\n",
    "# Declaring values and checking for output\n",
    "\n",
    "n = 3\n",
    "output = sumOfNnumbers(n)\n",
    "print(output)\n",
    "\n",
    "# Time Complexity - O(1)\n",
    "# Space Complexity - O(1)"
   ]
  },
  {
   "cell_type": "markdown",
   "id": "bd196f05",
   "metadata": {},
   "source": [
    "## Question - 3"
   ]
  },
  {
   "cell_type": "code",
   "execution_count": 3,
   "id": "2dbcdb9c",
   "metadata": {},
   "outputs": [
    {
     "name": "stdout",
     "output_type": "stream",
     "text": [
      "N = 5 :  120\n",
      "N = 4 :  24\n"
     ]
    }
   ],
   "source": [
    "'Q3. '\n",
    "\n",
    "def Factorial(N):\n",
    "    if N == 1:\n",
    "        return 1\n",
    "    \n",
    "    return N * Factorial(N - 1)\n",
    "\n",
    "# Declaring values and checking for output\n",
    "\n",
    "print('N = 5 : ',Factorial(5))\n",
    "print('N = 4 : ',Factorial(4))\n",
    "\n",
    "# Time Complexity - O(N)\n",
    "# Space Complexity - O(N)"
   ]
  },
  {
   "cell_type": "markdown",
   "id": "d0032d0f",
   "metadata": {},
   "source": [
    "## Question - 4"
   ]
  },
  {
   "cell_type": "code",
   "execution_count": 4,
   "id": "c7e2cf9d",
   "metadata": {},
   "outputs": [
    {
     "name": "stdout",
     "output_type": "stream",
     "text": [
      "N = 5, P = 2 :  25\n",
      "N = 2, P = 5 :  32\n"
     ]
    }
   ],
   "source": [
    "'Q4. '\n",
    "\n",
    "def Exponent(N, P):\n",
    "    return N ** P\n",
    "\n",
    "# Declaring values and checking for output\n",
    "\n",
    "print('N = 5, P = 2 : ',Exponent(5, 2))\n",
    "print('N = 2, P = 5 : ',Exponent(2, 5))\n",
    "\n",
    "# Time Complexity - O(N)\n",
    "# Space Complexity - O(N)"
   ]
  },
  {
   "cell_type": "markdown",
   "id": "3f58db21",
   "metadata": {},
   "source": [
    "## Question - 5"
   ]
  },
  {
   "cell_type": "code",
   "execution_count": 5,
   "id": "4eafa0bb",
   "metadata": {},
   "outputs": [
    {
     "name": "stdout",
     "output_type": "stream",
     "text": [
      "1 :  8\n",
      "2 :  45\n"
     ]
    }
   ],
   "source": [
    "'Q5. '\n",
    "\n",
    "def findMax(arr, start, max_elem):\n",
    "    if start == len(arr):\n",
    "        return max_elem\n",
    "    if max_elem < arr[start]:\n",
    "        max_elem = arr[start]\n",
    "        \n",
    "    return findMax(arr, start + 1, max_elem)\n",
    "\n",
    "# Declaring values and checking for output\n",
    "\n",
    "arr1 = [1, 4, 3, -5, -4, 8, 6]\n",
    "arr2 = [1,4, 45, 6, 10, -8]\n",
    "start = max_elem = 0\n",
    "print('1 : ',findMax(arr1, start, max_elem))\n",
    "print('2 : ',findMax(arr2, start, max_elem))\n",
    "\n",
    "# Time Complexity - O(N)\n",
    "# Space Complexity - O(N)    "
   ]
  },
  {
   "cell_type": "markdown",
   "id": "d3d3ba00",
   "metadata": {},
   "source": [
    "## Question - 6"
   ]
  },
  {
   "cell_type": "code",
   "execution_count": 6,
   "id": "715aab8f",
   "metadata": {},
   "outputs": [
    {
     "name": "stdout",
     "output_type": "stream",
     "text": [
      "1 :  6\n",
      "2 :  23\n"
     ]
    }
   ],
   "source": [
    "'Q6. '\n",
    "\n",
    "def NthTerm(a, d, N):\n",
    "    \n",
    "    return a + (N - 1) * d\n",
    "\n",
    "# Declaring values and checking for output\n",
    "\n",
    "print('1 : ',NthTerm(2, 1, 5))\n",
    "print('2 : ',NthTerm(5, 2, 10))\n",
    "\n",
    "# Time Complexity - O(1)\n",
    "# Space Complexity - O(1)  "
   ]
  },
  {
   "cell_type": "markdown",
   "id": "fbda4b60",
   "metadata": {},
   "source": [
    "## Question - 7"
   ]
  },
  {
   "cell_type": "code",
   "execution_count": 7,
   "id": "85e30ee9",
   "metadata": {},
   "outputs": [
    {
     "name": "stdout",
     "output_type": "stream",
     "text": [
      "ABC ACB BAC BCA CBA CAB "
     ]
    }
   ],
   "source": [
    "'Q7. '\n",
    "\n",
    "def permute(s, l, r):\n",
    "    if l == r:\n",
    "        print(\"\".join(s),end = ' ')\n",
    "    else:\n",
    "        for i in range(l, r + 1):\n",
    "            s[l], s[i] = s[i], s[l]  # swap characters\n",
    "            permute(s, l + 1, r)  # recursive call\n",
    "            s[l], s[i] = s[i], s[l]  \n",
    "\n",
    "\n",
    "# Function to print all permutations of a given string\n",
    "def print_permutations(string):\n",
    "    n = len(string)\n",
    "    s = list(string)\n",
    "    permute(s, 0, n - 1)\n",
    "\n",
    "\n",
    "# Declaring values and checking for output\n",
    "\n",
    "S = \"ABC\"\n",
    "print_permutations(S)\n",
    "\n",
    "# Time Complexity - O(N)\n",
    "# Space Complexity - O(N)  "
   ]
  },
  {
   "cell_type": "markdown",
   "id": "02133632",
   "metadata": {},
   "source": [
    "## Question - 8"
   ]
  },
  {
   "cell_type": "code",
   "execution_count": 8,
   "id": "b124402d",
   "metadata": {},
   "outputs": [
    {
     "name": "stdout",
     "output_type": "stream",
     "text": [
      "1 :  120\n",
      "2 :  18\n"
     ]
    }
   ],
   "source": [
    "'Q8. '\n",
    "\n",
    "def Product(arr):\n",
    "    \n",
    "    prod = 1\n",
    "    \n",
    "    for i in arr:\n",
    "        prod *= i\n",
    "    \n",
    "    return prod\n",
    "\n",
    "# Declaring values and checking for output\n",
    "\n",
    "arr1 = [1, 2, 3, 4, 5]\n",
    "arr2 = [1, 6, 3]\n",
    "print('1 : ', Product(arr1))\n",
    "print('2 : ', Product(arr2))\n",
    "\n",
    "# Time Complexity - O(n)\n",
    "# Space Complexity - O(1)  "
   ]
  }
 ],
 "metadata": {
  "kernelspec": {
   "display_name": "Python 3 (ipykernel)",
   "language": "python",
   "name": "python3"
  },
  "language_info": {
   "codemirror_mode": {
    "name": "ipython",
    "version": 3
   },
   "file_extension": ".py",
   "mimetype": "text/x-python",
   "name": "python",
   "nbconvert_exporter": "python",
   "pygments_lexer": "ipython3",
   "version": "3.9.12"
  }
 },
 "nbformat": 4,
 "nbformat_minor": 5
}
