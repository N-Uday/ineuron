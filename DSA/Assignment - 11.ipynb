{
 "cells": [
  {
   "cell_type": "markdown",
   "id": "92409f82",
   "metadata": {},
   "source": [
    "# Assignment - 11"
   ]
  },
  {
   "cell_type": "markdown",
   "id": "a3da469c",
   "metadata": {},
   "source": [
    "## Question - 1"
   ]
  },
  {
   "cell_type": "code",
   "execution_count": 6,
   "id": "96e485c1",
   "metadata": {},
   "outputs": [
    {
     "name": "stdout",
     "output_type": "stream",
     "text": [
      "eg.1 -  2\n",
      "eg.1 -  2\n"
     ]
    }
   ],
   "source": [
    "'Q1.'\n",
    "\n",
    "def sqrt_of_num(x):\n",
    "    # Solving using Binary method by taking left & right\n",
    "    left, right = 0, x\n",
    "    \n",
    "    while left <= right:\n",
    "        mid = left + (right - left)//2\n",
    "        \n",
    "        if mid * mid > x:\n",
    "            right = mid - 1\n",
    "        elif mid * mid < x:\n",
    "            left = mid + 1\n",
    "        else:\n",
    "            return mid\n",
    "    \n",
    "    # No Square root condition\n",
    "    return right\n",
    "\n",
    "# Declaring values and checking for output\n",
    "x1 = 4\n",
    "print('eg.1 - ', sqrt_of_num(x1))\n",
    "\n",
    "x2 = 8\n",
    "print('eg.1 - ', sqrt_of_num(x2))\n",
    "\n",
    "# Time Complexity - O(log(x))\n",
    "# Space Complexity - O(1)"
   ]
  },
  {
   "cell_type": "markdown",
   "id": "cbf5b47c",
   "metadata": {},
   "source": [
    "## Question - 2"
   ]
  },
  {
   "cell_type": "code",
   "execution_count": 7,
   "id": "faf9a8b0",
   "metadata": {},
   "outputs": [
    {
     "name": "stdout",
     "output_type": "stream",
     "text": [
      "eg.1 -  2\n",
      "eg.1 -  5\n"
     ]
    }
   ],
   "source": [
    "'Q2. '\n",
    "\n",
    "def peakElement(nums: list):\n",
    "    \n",
    "    left, right = 0, len(nums) - 1\n",
    "    \n",
    "    while left < right:\n",
    "        mid = left + (right - left ) // 2\n",
    "        \n",
    "        if nums[mid] > nums[mid + 1]:\n",
    "            right = mid\n",
    "        else:\n",
    "            left = mid + 1\n",
    "        \n",
    "    return right\n",
    "        \n",
    "# Declaring values and checking for output\n",
    "nums1 = [1,2,3,1]\n",
    "print('eg.1 - ', peakElement(nums1))\n",
    "\n",
    "nums2 = [1,2,1,3,5,6,4]\n",
    "print('eg.2 - ', peakElement(nums2))\n",
    "\n",
    "# Time Complexity - O(log(n))\n",
    "# Space Complexity - O(1)"
   ]
  },
  {
   "cell_type": "markdown",
   "id": "f4609c37",
   "metadata": {},
   "source": [
    "## Question - 3"
   ]
  },
  {
   "cell_type": "code",
   "execution_count": 11,
   "id": "0c35b9d9",
   "metadata": {},
   "outputs": [
    {
     "name": "stdout",
     "output_type": "stream",
     "text": [
      "eg.1 -  2\n",
      "eg.2 -  2\n",
      "eg.3 -  8\n"
     ]
    }
   ],
   "source": [
    "'Q3. '\n",
    "def findMissingNumber(nums):\n",
    "    n = len(nums) \n",
    "    total = (n * (n + 1)) // 2\n",
    "    \n",
    "    for num in nums:\n",
    "        total -= num\n",
    "        \n",
    "    return total\n",
    "\n",
    "# Declaring values and checking for output\n",
    "\n",
    "nums1 = [3,0,1]\n",
    "print('eg.1 - ', findMissingNumber(nums1))\n",
    "\n",
    "nums2 = [0,1]\n",
    "print('eg.2 - ', findMissingNumber(nums2))\n",
    "\n",
    "nums3 = [9,6,4,2,3,5,7,0,1]\n",
    "print('eg.3 - ', findMissingNumber(nums3))\n",
    "\n",
    "# Time Complexity - O(n)\n",
    "# Space Complexity - O(1)"
   ]
  },
  {
   "cell_type": "markdown",
   "id": "b14b713a",
   "metadata": {},
   "source": [
    "## Question - 4"
   ]
  },
  {
   "cell_type": "code",
   "execution_count": 13,
   "id": "85ce4aa7",
   "metadata": {},
   "outputs": [
    {
     "name": "stdout",
     "output_type": "stream",
     "text": [
      "eg.1 -  2\n",
      "eg.2 -  3\n"
     ]
    }
   ],
   "source": [
    "'Q4.'\n",
    "\n",
    "def DuplicateNum(nums):\n",
    "    # Floyd's tortoise algorithm\n",
    "    slow = nums[0]\n",
    "    fast = nums[0]\n",
    "\n",
    "    # Step 1: Find the meeting point of slow and fast\n",
    "    while True:\n",
    "        slow = nums[slow]\n",
    "        fast = nums[nums[fast]]\n",
    "        if slow == fast:\n",
    "            break\n",
    "\n",
    "    # Step 2: Find the entrance of the cycle (repeated number)\n",
    "    slow = nums[0]\n",
    "    while slow != fast:\n",
    "        slow = nums[slow]\n",
    "        fast = nums[fast]\n",
    "\n",
    "    return slow\n",
    "\n",
    "# Declaring values and checking for output\n",
    "\n",
    "nums1 = [1,3,4,2,2]\n",
    "print('eg.1 - ', DuplicateNum(nums1))\n",
    "\n",
    "nums2 = [3,1,3,4,2]\n",
    "print('eg.2 - ', DuplicateNum(nums2))\n",
    "\n",
    "# Time Complexity - O(n)\n",
    "# Space Complexity - O(1)"
   ]
  },
  {
   "cell_type": "markdown",
   "id": "fac834af",
   "metadata": {},
   "source": [
    "## Question - 5"
   ]
  },
  {
   "cell_type": "code",
   "execution_count": 14,
   "id": "e5c68848",
   "metadata": {},
   "outputs": [
    {
     "name": "stdout",
     "output_type": "stream",
     "text": [
      "eg.1 -  [2]\n",
      "eg.2 -  [9, 4]\n"
     ]
    }
   ],
   "source": [
    "'Q5. '\n",
    "\n",
    "def intersection(nums1, nums2):\n",
    "    # Creating sets from the 2 lists\n",
    "    n1 = set(nums1)\n",
    "    n2 = set(nums2)\n",
    "    \n",
    "    return list(n1.intersection(n2))\n",
    "\n",
    "# Declaring values and checking for output\n",
    "\n",
    "a = [1,2,2,1]\n",
    "b = [2,2]\n",
    "print('eg.1 - ', intersection(a, b))\n",
    "\n",
    "c = [4,9,5]\n",
    "d = [9,4,9,8,4]\n",
    "print('eg.2 - ', intersection(c, d))\n",
    "\n",
    "# Time Complexity - O(m + n)\n",
    "# Space Complexity - O(m + n)"
   ]
  },
  {
   "cell_type": "markdown",
   "id": "5cfafa1d",
   "metadata": {},
   "source": [
    "## Question - 6"
   ]
  },
  {
   "cell_type": "code",
   "execution_count": 15,
   "id": "fb2e04b7",
   "metadata": {},
   "outputs": [
    {
     "name": "stdout",
     "output_type": "stream",
     "text": [
      "eg.1 -  1\n",
      "eg.2 -  0\n",
      "eg.3 -  11\n"
     ]
    }
   ],
   "source": [
    "'Q6. '\n",
    "\n",
    "def findMin(nums):\n",
    "    left, right = 0, len(nums) - 1\n",
    "    \n",
    "    while left < right:\n",
    "        mid = left + (right - left) // 2\n",
    "        \n",
    "        if nums[mid] > nums[right]:\n",
    "            left = mid + 1\n",
    "            \n",
    "        else:\n",
    "            right = mid\n",
    "            \n",
    "    return nums[left]\n",
    "            \n",
    "# Declaring values and checking for output\n",
    "\n",
    "nums1 = [3,4,5,1,2]\n",
    "print('eg.1 - ', findMin(nums1))\n",
    "\n",
    "nums2 = [4,5,6,7,0,1,2]\n",
    "print('eg.2 - ', findMin(nums2))\n",
    "\n",
    "nums3 = [11,13,15,17]\n",
    "print('eg.3 - ', findMin(nums3))\n",
    "\n",
    "# Time Complexity - O(log(n))\n",
    "# Space Complexity - O(1)                "
   ]
  },
  {
   "cell_type": "markdown",
   "id": "c74e66a6",
   "metadata": {},
   "source": [
    "## Question - 7"
   ]
  },
  {
   "cell_type": "code",
   "execution_count": 17,
   "id": "ffc405da",
   "metadata": {},
   "outputs": [
    {
     "name": "stdout",
     "output_type": "stream",
     "text": [
      "eg.1 -  [3, 4]\n",
      "eg.2 -  [-1, -1]\n",
      "eg.3 -  [-1, -1]\n"
     ]
    }
   ],
   "source": [
    "'Q7. '\n",
    "\n",
    "def findRange(nums, target):\n",
    "    def findLeft(nums, target):\n",
    "        left, right = 0, len(nums) - 1\n",
    "        while left <= right:\n",
    "            mid = (left + right) // 2\n",
    "            if nums[mid] >= target:\n",
    "                right = mid - 1\n",
    "            else:\n",
    "                left = mid + 1\n",
    "        return left\n",
    "\n",
    "    def findRight(nums, target):\n",
    "        left, right = 0, len(nums) - 1\n",
    "        while left <= right:\n",
    "            mid = (left + right) // 2\n",
    "            if nums[mid] <= target:\n",
    "                left = mid + 1\n",
    "            else:\n",
    "                right = mid - 1\n",
    "        return right\n",
    "\n",
    "    start = findLeft(nums, target)\n",
    "    end = findRight(nums, target)\n",
    "\n",
    "    if start <= end:\n",
    "        return [start, end]\n",
    "    else:\n",
    "        return [-1, -1]\n",
    "\n",
    "# Declaring values and checking for output\n",
    "\n",
    "nums1 = [5,7,7,8,8,10]\n",
    "target1 = 8\n",
    "print('eg.1 - ', findRange(nums1, target1))\n",
    "\n",
    "nums2 = [5,7,7,8,8,10]\n",
    "target2 = 6\n",
    "print('eg.2 - ', findRange(nums2, target2))\n",
    "\n",
    "nums3 = []\n",
    "target3 = 0\n",
    "print('eg.3 - ', findRange(nums3, target3))\n",
    "\n",
    "# Time Complexity - O(log(n))\n",
    "# Space Complexity - O(1)"
   ]
  },
  {
   "cell_type": "markdown",
   "id": "29844d37",
   "metadata": {},
   "source": [
    "## Question - 8"
   ]
  },
  {
   "cell_type": "code",
   "execution_count": null,
   "id": "7043011e",
   "metadata": {},
   "outputs": [],
   "source": [
    "'Q8. '\n",
    "\n",
    "def intersect(nums1, nums2):\n",
    "    nums1.sort()\n",
    "    nums2.sort()\n",
    "\n",
    "    p1 = 0\n",
    "    p2 = 0\n",
    "\n",
    "    intersection = []\n",
    "\n",
    "    while p1 < len(nums1) and p2 < len(nums2):\n",
    "        if nums1[p1] == nums2[p2]:\n",
    "            intersection.append(nums1[p1])\n",
    "            p1 += 1\n",
    "            p2 += 1\n",
    "        elif nums1[p1] < nums2[p2]:\n",
    "            p1 += 1\n",
    "        else:\n",
    "            p2 += 1\n",
    "\n",
    "    return intersection\n",
    "\n"
   ]
  }
 ],
 "metadata": {
  "kernelspec": {
   "display_name": "Python 3 (ipykernel)",
   "language": "python",
   "name": "python3"
  },
  "language_info": {
   "codemirror_mode": {
    "name": "ipython",
    "version": 3
   },
   "file_extension": ".py",
   "mimetype": "text/x-python",
   "name": "python",
   "nbconvert_exporter": "python",
   "pygments_lexer": "ipython3",
   "version": "3.9.12"
  }
 },
 "nbformat": 4,
 "nbformat_minor": 5
}
