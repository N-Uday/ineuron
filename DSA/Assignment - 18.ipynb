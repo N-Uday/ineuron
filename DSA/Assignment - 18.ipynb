{
 "cells": [
  {
   "cell_type": "markdown",
   "id": "7d42bed2",
   "metadata": {},
   "source": [
    "# Assignment - 18"
   ]
  },
  {
   "cell_type": "markdown",
   "id": "d5c4b768",
   "metadata": {},
   "source": [
    "## Question - 1"
   ]
  },
  {
   "cell_type": "code",
   "execution_count": 1,
   "id": "90e98db4",
   "metadata": {},
   "outputs": [
    {
     "name": "stdout",
     "output_type": "stream",
     "text": [
      "Example - 1 :  [[1, 6], [8, 10], [15, 18]]\n",
      "\n",
      "Example - 2 :  [[1, 5]]\n"
     ]
    }
   ],
   "source": [
    "'Q1. '\n",
    "\n",
    "def merge_intervals(intervals):\n",
    "    if not intervals:\n",
    "        return []\n",
    "\n",
    "    intervals.sort(key=lambda x: x[0]) \n",
    "    merged = [intervals[0]]  \n",
    "    \n",
    "    for interval in intervals[1:]:\n",
    "        if interval[0] <= merged[-1][1]:\n",
    "            merged[-1][1] = max(merged[-1][1], interval[1])\n",
    "        else:\n",
    "            merged.append(interval)\n",
    "\n",
    "    return merged\n",
    "\n",
    "# Declaring values and checking for output\n",
    "\n",
    "# Example - 1\n",
    "\n",
    "intervals1 = [[1,3],[2,6],[8,10],[15,18]]\n",
    "result1 = merge_intervals(intervals1)\n",
    "print('Example - 1 : ',result1)\n",
    "\n",
    "# Example - 2\n",
    "\n",
    "intervals2 = [[1,4],[4,5]]\n",
    "result2 = merge_intervals(intervals2)\n",
    "print('\\nExample - 2 : ',result2)\n",
    "\n",
    "# Time Complexity - O(NlogN)            \n",
    "# Space Complexity - O(N) "
   ]
  },
  {
   "cell_type": "markdown",
   "id": "338d89e3",
   "metadata": {},
   "source": [
    "## Question - 2"
   ]
  },
  {
   "cell_type": "code",
   "execution_count": 2,
   "id": "18cdc4e6",
   "metadata": {},
   "outputs": [
    {
     "name": "stdout",
     "output_type": "stream",
     "text": [
      "Example - 1 :  [0, 0, 1, 1, 2, 2]\n",
      "\n",
      "Example - 2 :  [0, 1, 2]\n"
     ]
    }
   ],
   "source": [
    "'Q2. '\n",
    "\n",
    "def Sort_Colours(nums):\n",
    "    curr = left = 0\n",
    "    right = len(nums) - 1\n",
    "    \n",
    "    while curr <= right:\n",
    "        if nums[curr] == 0:\n",
    "            nums[curr], nums[left] = nums[left], nums[curr]\n",
    "            curr += 1\n",
    "            left += 1\n",
    "            \n",
    "        elif nums[curr] == 2:\n",
    "            nums[curr], nums[right] = nums[right], nums[curr]\n",
    "            right -= 1\n",
    "        \n",
    "        else:\n",
    "            curr += 1\n",
    "        \n",
    "    return nums\n",
    "            \n",
    "# Declaring values and checking for output\n",
    "\n",
    "# Example - 1\n",
    "\n",
    "nums1 = [2,0,2,1,1,0]\n",
    "result1 = Sort_Colours(nums1)\n",
    "print('Example - 1 : ',result1)\n",
    "\n",
    "# Example - 2\n",
    "\n",
    "nums2 = [2,0,1]\n",
    "result2 = Sort_Colours(nums2)\n",
    "print('\\nExample - 2 : ',result2)\n",
    "\n",
    "# Time Complexity - O(N)            \n",
    "# Space Complexity - O(1)      "
   ]
  },
  {
   "cell_type": "markdown",
   "id": "b7939552",
   "metadata": {},
   "source": [
    "## Question - 3"
   ]
  },
  {
   "cell_type": "code",
   "execution_count": 3,
   "id": "46dff434",
   "metadata": {},
   "outputs": [
    {
     "name": "stdout",
     "output_type": "stream",
     "text": [
      "Example - 1 :  4\n",
      "\n",
      "Example - 2 :  1\n"
     ]
    }
   ],
   "source": [
    "'Q3. '\n",
    "\n",
    "def firstBadVersion(n, isBadVersion):\n",
    "    left, right = 1, n\n",
    "    \n",
    "    while left < right:\n",
    "        mid = (left + right) // 2\n",
    "        \n",
    "        if isBadVersion(mid):\n",
    "            right = mid\n",
    "        else:\n",
    "            left = mid + 1\n",
    "        \n",
    "    return left\n",
    "\n",
    "# Declaring values and checking for output\n",
    "\n",
    "# Example - 1\n",
    "\n",
    "n1 = 5\n",
    "bad1 = 4\n",
    "isBadVersion1 = lambda version: version >= 4\n",
    "result1 = firstBadVersion(n1, isBadVersion1)\n",
    "print('Example - 1 : ',result1)\n",
    "\n",
    "# Example - 2\n",
    "\n",
    "n2 = 1\n",
    "bad2 = 1\n",
    "isBadVersion2 = lambda version: version >= 1\n",
    "result2 = firstBadVersion(n2, isBadVersion2)\n",
    "print('\\nExample - 2 : ',result2)\n",
    "\n",
    "# Time Complexity - O(logN)            \n",
    "# Space Complexity - O(1)   "
   ]
  },
  {
   "cell_type": "markdown",
   "id": "9663980c",
   "metadata": {},
   "source": [
    "## Question - 4"
   ]
  },
  {
   "cell_type": "code",
   "execution_count": 4,
   "id": "9e33f5ae",
   "metadata": {},
   "outputs": [
    {
     "name": "stdout",
     "output_type": "stream",
     "text": [
      "Example - 1 :  3\n",
      "\n",
      "Example - 2 :  0\n"
     ]
    }
   ],
   "source": [
    "'Q4. '\n",
    "\n",
    "import math\n",
    "\n",
    "def maximumGap(nums):\n",
    "    n = len(nums)\n",
    "    if n < 2:\n",
    "        return 0\n",
    "\n",
    "    min_num = min(nums)\n",
    "    max_num = max(nums)\n",
    "    bucket_size =max(1, int(math.ceil((max_num - min_num) / (n - 1))))\n",
    "\n",
    "    if bucket_size == 0:\n",
    "        return 0\n",
    "    \n",
    "    # Determining number of buckets needed\n",
    "    num_buckets = (max_num - min_num) // bucket_size + 1\n",
    "\n",
    "    min_buckets = [float('inf')] * num_buckets\n",
    "    max_buckets = [float('-inf')] * num_buckets\n",
    "    \n",
    "    # Assign each number to its corresponding bucket\n",
    "    for num in nums:\n",
    "        bucket_index = (num - min_num) // bucket_size\n",
    "        if num < min_buckets[bucket_index]:\n",
    "            min_buckets[bucket_index] = num\n",
    "        if num > max_buckets[bucket_index]:\n",
    "            max_buckets[bucket_index] = num\n",
    "\n",
    "    max_diff = 0\n",
    "    prev_max = min_num\n",
    "    \n",
    "    for i in range(num_buckets):\n",
    "        if min_buckets[i] != float('inf') and max_buckets[i] != float('-inf'):\n",
    "            max_diff = max(max_diff, min_buckets[i] - prev_max)\n",
    "            prev_max = max_buckets[i]\n",
    "\n",
    "    return max_diff\n",
    "\n",
    "# Declaring values and checking for output\n",
    "\n",
    "# Example - 1\n",
    "\n",
    "nums1 = [3,6,9,1]\n",
    "result1 = maximumGap(nums1)\n",
    "print('Example - 1 : ',result1)\n",
    "\n",
    "# Example - 2\n",
    "\n",
    "nums2 = [10]\n",
    "result2 = maximumGap(nums2)\n",
    "print('\\nExample - 2 : ',result2)\n",
    "\n",
    "# Time Complexity - O(N)            \n",
    "# Space Complexity - O(N)  "
   ]
  },
  {
   "cell_type": "markdown",
   "id": "eefcebdc",
   "metadata": {},
   "source": [
    "## Question - 5"
   ]
  },
  {
   "cell_type": "code",
   "execution_count": 5,
   "id": "c9a839ae",
   "metadata": {},
   "outputs": [
    {
     "name": "stdout",
     "output_type": "stream",
     "text": [
      "Example - 1 :  True\n",
      "\n",
      "Example - 2 :  False\n",
      "\n",
      "Example - 3 :  True\n"
     ]
    }
   ],
   "source": [
    "'Q5. '\n",
    "\n",
    "def Contains_Duplicate(nums):\n",
    "    distinct_set = set()\n",
    "    \n",
    "    for i in nums:\n",
    "        if i in distinct_set:\n",
    "            return True\n",
    "        else:\n",
    "            distinct_set.add(i)\n",
    "        \n",
    "    return False\n",
    "\n",
    "# Declaring values and checking for output\n",
    "\n",
    "# Example - 1\n",
    "\n",
    "nums1 = [1, 2, 3, 1]\n",
    "result1 = Contains_Duplicate(nums1)\n",
    "print('Example - 1 : ',result1)\n",
    "\n",
    "# Example - 2\n",
    "\n",
    "nums2 = [1, 2, 3, 4]\n",
    "result2 = Contains_Duplicate(nums2)\n",
    "print('\\nExample - 2 : ',result2)\n",
    "\n",
    "# Example - 3\n",
    "\n",
    "nums3 = [1, 1, 1, 3, 3, 4, 3, 2, 4, 2]\n",
    "result3 = Contains_Duplicate(nums3)\n",
    "print('\\nExample - 3 : ',result3)\n",
    "\n",
    "# Time Complexity - O(N)            \n",
    "# Space Complexity - O(N)  "
   ]
  },
  {
   "cell_type": "markdown",
   "id": "606e3579",
   "metadata": {},
   "source": [
    "## Question - 6"
   ]
  },
  {
   "cell_type": "code",
   "execution_count": 6,
   "id": "dd0bb458",
   "metadata": {},
   "outputs": [
    {
     "name": "stdout",
     "output_type": "stream",
     "text": [
      "Example - 1 :  2\n",
      "\n",
      "Example - 2 :  4\n",
      "\n",
      "Example - 3 :  2\n"
     ]
    }
   ],
   "source": [
    "'Q6. '\n",
    "\n",
    "def findMinArrowShots(points):\n",
    "    if not points:\n",
    "        return 0\n",
    "    \n",
    "    points.sort(key = lambda x: x[1])\n",
    "    arrowPos = points[0][1]\n",
    "    arrowCount = 1\n",
    "    \n",
    "    for s,e in points[1:]:\n",
    "        if s > arrowPos:\n",
    "            arrowCount += 1\n",
    "            arrowPos = e\n",
    "            \n",
    "    return arrowCount\n",
    "\n",
    "# Declaring values and checking for output\n",
    "\n",
    "# Example - 1\n",
    "\n",
    "points1 = [[10,16],[2,8],[1,6],[7,12]]\n",
    "result1 = findMinArrowShots(points1)\n",
    "print('Example - 1 : ',result1)\n",
    "\n",
    "# Example - 2\n",
    "\n",
    "points2 = [[1,2],[3,4],[5,6],[7,8]]\n",
    "result2 = findMinArrowShots(points2)\n",
    "print('\\nExample - 2 : ',result2)\n",
    "\n",
    "# Example - 3\n",
    "\n",
    "points3 = [[1,2],[2,3],[3,4],[4,5]]\n",
    "result3 = findMinArrowShots(points3)\n",
    "print('\\nExample - 3 : ',result3)\n",
    "\n",
    "# Time Complexity - O(NlogN)            \n",
    "# Space Complexity - O(1)  "
   ]
  },
  {
   "cell_type": "markdown",
   "id": "03889bbb",
   "metadata": {},
   "source": [
    "## Question - 7"
   ]
  },
  {
   "cell_type": "code",
   "execution_count": 7,
   "id": "f7b7a11b",
   "metadata": {},
   "outputs": [
    {
     "name": "stdout",
     "output_type": "stream",
     "text": [
      "Example - 1 :  4\n",
      "\n",
      "Example - 2 :  4\n",
      "\n",
      "Example - 3 :  1\n"
     ]
    }
   ],
   "source": [
    "'Q7. '\n",
    "\n",
    "def LongestIncSubsequence(nums):\n",
    "    if not nums:\n",
    "        return 0\n",
    "    \n",
    "    n = len(nums)\n",
    "    dp = [1] * n\n",
    "    \n",
    "    for i in range(1, n):\n",
    "        for j in range(i):\n",
    "            if nums[i] > nums[j]:\n",
    "                dp[i] = max(dp[i], dp[j] + 1)\n",
    "                \n",
    "    return max(dp)\n",
    "\n",
    "# Declaring values and checking for output\n",
    "\n",
    "# Example - 1\n",
    "\n",
    "nums1 = [10,9,2,5,3,7,101,18]\n",
    "result1 = LongestIncSubsequence(nums1)\n",
    "print('Example - 1 : ',result1)\n",
    "\n",
    "# Example - 2\n",
    "\n",
    "nums2 = [0,1,0,3,2,3]\n",
    "result2 = LongestIncSubsequence(nums2)\n",
    "print('\\nExample - 2 : ',result2)\n",
    "\n",
    "# Example - 3\n",
    "\n",
    "nums3 = [7,7,7,7,7,7,7]\n",
    "result3 = LongestIncSubsequence(nums3)\n",
    "print('\\nExample - 3 : ',result3)\n",
    "\n",
    "# Time Complexity - O(N^2)            \n",
    "# Space Complexity - O(N)  "
   ]
  },
  {
   "cell_type": "markdown",
   "id": "6ab88c0f",
   "metadata": {},
   "source": [
    "## Question - 8"
   ]
  },
  {
   "cell_type": "code",
   "execution_count": 8,
   "id": "26def9cf",
   "metadata": {},
   "outputs": [
    {
     "name": "stdout",
     "output_type": "stream",
     "text": [
      "Example - 1 :  False\n",
      "\n",
      "Example - 2 :  True\n",
      "\n",
      "Example - 3 :  True\n"
     ]
    }
   ],
   "source": [
    "'Q8. '\n",
    "\n",
    "def find132pattern(nums):\n",
    "    stack = []\n",
    "    second = float('-inf')\n",
    "\n",
    "    for num in reversed(nums):\n",
    "        if num < second:\n",
    "            return True\n",
    "        while stack and stack[-1] < num:\n",
    "            second = max(second, stack.pop())\n",
    "        stack.append(num)\n",
    "\n",
    "    return False\n",
    "\n",
    "# Declaring values and checking for output\n",
    "\n",
    "# Example - 1\n",
    "\n",
    "nums1 = [1,2,3,4]\n",
    "result1 = find132pattern(nums1)\n",
    "print('Example - 1 : ',result1)\n",
    "\n",
    "# Example - 2\n",
    "\n",
    "nums2 = [3,1,4,2]\n",
    "result2 = find132pattern(nums2)\n",
    "print('\\nExample - 2 : ',result2)\n",
    "\n",
    "# Example - 3\n",
    "\n",
    "nums3 = [-1,3,2,0]\n",
    "result3 = find132pattern(nums3)\n",
    "print('\\nExample - 3 : ',result3)\n",
    "\n",
    "# Time Complexity - O(N)            \n",
    "# Space Complexity - O(N)  "
   ]
  }
 ],
 "metadata": {
  "kernelspec": {
   "display_name": "Python 3 (ipykernel)",
   "language": "python",
   "name": "python3"
  },
  "language_info": {
   "codemirror_mode": {
    "name": "ipython",
    "version": 3
   },
   "file_extension": ".py",
   "mimetype": "text/x-python",
   "name": "python",
   "nbconvert_exporter": "python",
   "pygments_lexer": "ipython3",
   "version": "3.9.12"
  }
 },
 "nbformat": 4,
 "nbformat_minor": 5
}
