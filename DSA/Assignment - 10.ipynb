{
 "cells": [
  {
   "cell_type": "markdown",
   "id": "fafdc8fd",
   "metadata": {},
   "source": [
    "# Assignment - 10"
   ]
  },
  {
   "cell_type": "markdown",
   "id": "3f5e35a2",
   "metadata": {},
   "source": [
    "## Question - 1"
   ]
  },
  {
   "cell_type": "code",
   "execution_count": 3,
   "id": "45636d04",
   "metadata": {},
   "outputs": [
    {
     "name": "stdout",
     "output_type": "stream",
     "text": [
      "n = 27 :  True\n",
      "n = 0 :  False\n",
      "n = -1 :  False\n"
     ]
    }
   ],
   "source": [
    "'Q1. '\n",
    "\n",
    "def is_power_of_three(n):\n",
    "    if n <= 0:\n",
    "        return False\n",
    "    while n % 3 == 0:\n",
    "        n /= 3\n",
    "        \n",
    "    return n == 1\n",
    "\n",
    "# Declaring values and checking for output\n",
    "\n",
    "print('n = 27 : ',is_power_of_three(27))\n",
    "print('n = 0 : ',is_power_of_three(0))\n",
    "print('n = -1 : ',is_power_of_three(-1))\n",
    "\n",
    "# Time Complexity - O(log3n)\n",
    "# Space Complexity - O(1)"
   ]
  },
  {
   "cell_type": "markdown",
   "id": "2d107e2a",
   "metadata": {},
   "source": [
    "## Question - 2"
   ]
  },
  {
   "cell_type": "code",
   "execution_count": 16,
   "id": "c6735a1b",
   "metadata": {},
   "outputs": [
    {
     "name": "stdout",
     "output_type": "stream",
     "text": [
      "n=9 :  6\n",
      "n=1 :  1\n"
     ]
    }
   ],
   "source": [
    "'Q2. '\n",
    "\n",
    "def elimination(n):\n",
    "    arr = [i for i in range(1, n + 1)]\n",
    "\n",
    "    while len(arr) > 1:\n",
    "        j = 0\n",
    "        arr.pop(j)\n",
    "        if len(arr) > 1:\n",
    "            while j < len(arr):\n",
    "                arr.pop(j + 1)\n",
    "                j += 1\n",
    "\n",
    "        if len(arr) > 1:\n",
    "            i = len(arr) - 1\n",
    "            while i > 0:\n",
    "                arr.pop(i)\n",
    "                i -= 2\n",
    "\n",
    "    return arr[0]\n",
    "\n",
    "# Declaring values and checking for output\n",
    "\n",
    "print('n=9 : ',elimination(9))\n",
    "print('n=1 : ',elimination(1))\n",
    "\n",
    "\n",
    "# Time Complexity - O(n)\n",
    "# Space Complexity - O(n)"
   ]
  },
  {
   "cell_type": "markdown",
   "id": "716ad333",
   "metadata": {},
   "source": [
    "## Question - 3"
   ]
  },
  {
   "cell_type": "code",
   "execution_count": 29,
   "id": "53fe07e4",
   "metadata": {},
   "outputs": [
    {
     "name": "stdout",
     "output_type": "stream",
     "text": [
      "1 :  ['', 'c', 'b', 'bc', 'a', 'ac', 'ab', 'abc']\n",
      "2 :  ['', 'd', 'c', 'cd', 'b', 'bd', 'bc', 'bcd', 'a', 'ad', 'ac', 'acd', 'ab', 'abd', 'abc', 'abcd']\n"
     ]
    }
   ],
   "source": [
    "'Q3. '\n",
    "\n",
    "class Solution:\n",
    "    def generateSubsets(self,s):\n",
    "        subsets = []\n",
    "        self.backtrack(s, 0, '', subsets)\n",
    "        return subsets\n",
    "    \n",
    "    \n",
    "    def backtrack(self,s, index, current_subset, subsets):\n",
    "        # Base case: when all elements of s have been considered\n",
    "        if index == len(s):\n",
    "            subsets.append(current_subset)\n",
    "            return\n",
    "        \n",
    "        # Recursive case 1: exclude current element\n",
    "        self.backtrack(s, index + 1, current_subset, subsets)\n",
    "        \n",
    "        # Recursive case 2: include current element\n",
    "        self.backtrack(s, index + 1, current_subset + s[index], subsets)\n",
    "\n",
    "# Declaring values and checking for output\n",
    "obj = Solution()\n",
    "set_1 ='abc'\n",
    "print('1 : ',obj.generateSubsets(set_1))\n",
    "set_2 = 'abcd'\n",
    "print('2 : ',obj.generateSubsets(set_2))\n",
    "\n",
    "# Time Complexity - O(n^2)\n",
    "# Space Complexity - O(n^2)"
   ]
  },
  {
   "cell_type": "markdown",
   "id": "2e9150c0",
   "metadata": {},
   "source": [
    "## Question - 4"
   ]
  },
  {
   "cell_type": "code",
   "execution_count": 27,
   "id": "387a9892",
   "metadata": {},
   "outputs": [
    {
     "name": "stdout",
     "output_type": "stream",
     "text": [
      "abcd :  4\n",
      "GEEKSFORGEEKS :  13\n"
     ]
    }
   ],
   "source": [
    "'Q4. '\n",
    "\n",
    "def stringLength(s):\n",
    "    if s == '':\n",
    "        return 0\n",
    "    else:\n",
    "        return 1 + stringLength(s[1:])\n",
    "    \n",
    "# Declaring values and checking for output\n",
    "\n",
    "print('abcd : ',stringLength('abcd'))\n",
    "print('GEEKSFORGEEKS : ',stringLength('GEEKSFORGEEKS'))\n",
    "\n",
    "# Time Complexity - O(n)\n",
    "# Space Complexity - O(n)"
   ]
  },
  {
   "cell_type": "markdown",
   "id": "7ec7dadd",
   "metadata": {},
   "source": [
    "## Question - 5"
   ]
  },
  {
   "cell_type": "code",
   "execution_count": 39,
   "id": "f1601ad6",
   "metadata": {},
   "outputs": [
    {
     "name": "stdout",
     "output_type": "stream",
     "text": [
      "S_1  7\n",
      "S_2  4\n"
     ]
    }
   ],
   "source": [
    "'Q5. '\n",
    "def countSubstrings(s):\n",
    "    count = 0\n",
    "    n = len(s)\n",
    "    \n",
    "    \n",
    "    for i in range(n):\n",
    "        count += 1\n",
    "        right = n - 1\n",
    "        \n",
    "        while i < right:\n",
    "            if s[i] == s[right]:\n",
    "                count += 1\n",
    "                \n",
    "            \n",
    "            right -= 1\n",
    "            \n",
    "    return count\n",
    "\n",
    "# Declaring values and checking for output\n",
    "\n",
    "S_1 = 'abcab'\n",
    "print('S_1 ',countSubstrings('abcab'))\n",
    "S_2 = 'aba'\n",
    "print('S_2 ',countSubstrings('aba'))\n",
    "\n",
    "# Time Complexity - O(n^2)\n",
    "# Space Complexity - O(1)"
   ]
  },
  {
   "cell_type": "markdown",
   "id": "8d878ab3",
   "metadata": {},
   "source": [
    "## Question - 6"
   ]
  },
  {
   "cell_type": "code",
   "execution_count": 46,
   "id": "9a500fe4",
   "metadata": {},
   "outputs": [
    {
     "name": "stdout",
     "output_type": "stream",
     "text": [
      "N_1 = 2 :\n",
      "move disk 1 from rod 1 to rod 2\n",
      "move disk 2 from rod 1 to rod 3\n",
      "move disk 1 from rod 2 to rod 3\n",
      "3\n",
      "N_2 = 3 :\n",
      "move disk 1 from rod 1 to rod 3\n",
      "move disk 2 from rod 1 to rod 2\n",
      "move disk 1 from rod 3 to rod 2\n",
      "move disk 3 from rod 1 to rod 3\n",
      "move disk 1 from rod 2 to rod 1\n",
      "move disk 2 from rod 2 to rod 3\n",
      "move disk 1 from rod 1 to rod 3\n",
      "7\n"
     ]
    }
   ],
   "source": [
    "'Q6. '\n",
    "\n",
    "def towerOfHanoi(n, source, destination, auxiliary):\n",
    "    if n == 1:\n",
    "        print(f\"move disk 1 from rod {source} to rod {destination}\")\n",
    "        return 1\n",
    "\n",
    "    moves = 0\n",
    "\n",
    "    moves += towerOfHanoi(n - 1, source, auxiliary, destination)\n",
    "\n",
    "    print(f\"move disk {n} from rod {source} to rod {destination}\")\n",
    "    moves += 1\n",
    "\n",
    "    moves += towerOfHanoi(n - 1, auxiliary, destination, source)\n",
    "\n",
    "    return moves\n",
    "\n",
    "# Declaring values and checking for output\n",
    "source, destination, auxiliary = 1, 3, 2\n",
    "N_1 = 2\n",
    "print(\"N_1 = 2 :\")\n",
    "print(towerOfHanoi(N_1, source, destination, auxiliary))\n",
    "N_2 = 3\n",
    "print(\"N_2 = 3 :\")\n",
    "print(towerOfHanoi(N_2, source, destination, auxiliary))\n",
    "\n",
    "# Time Complexity - O(n^2)\n",
    "# Space Complexity - O(n)"
   ]
  },
  {
   "cell_type": "markdown",
   "id": "b3ac0f43",
   "metadata": {},
   "source": [
    "## Question - 7"
   ]
  },
  {
   "cell_type": "code",
   "execution_count": 51,
   "id": "f5c25316",
   "metadata": {},
   "outputs": [
    {
     "name": "stdout",
     "output_type": "stream",
     "text": [
      "1st Test Case : \n",
      "cd\n",
      "dc\n",
      "\n",
      "2nd Test Case : \n",
      "abb\n",
      "abb\n",
      "bab\n",
      "bba\n",
      "bba\n",
      "bab\n"
     ]
    }
   ],
   "source": [
    "'Q7. '\n",
    "\n",
    "def permute(s, left, right):\n",
    "    if left == right:\n",
    "        print(''.join(s))\n",
    "        return\n",
    "\n",
    "    for i in range(left, right):\n",
    "        s[left], s[i] = s[i], s[left]  # Swap characters\n",
    "        permute(s, left + 1, right)  # Recursively generate permutations\n",
    "        s[left], s[i] = s[i], s[left]  # Revert the swap\n",
    "\n",
    "\n",
    "# Function to generate permutations of a string\n",
    "def generatePermutations(s):\n",
    "    n = len(s)\n",
    "    s = list(s)  \n",
    "    permute(s, 0, n)\n",
    "\n",
    "# Declaring values and checking for output\n",
    "\n",
    "print(\"1st Test Case : \")\n",
    "input_str_1 = \"cd\"\n",
    "generatePermutations(input_str_1)\n",
    "\n",
    "print('\\n2nd Test Case : ')\n",
    "input_str_2 = 'abb'\n",
    "generatePermutations(input_str_2)\n",
    "\n",
    "# Time Complexity - O(n!)\n",
    "# Space Complexity - O(n)"
   ]
  },
  {
   "cell_type": "markdown",
   "id": "807373f3",
   "metadata": {},
   "source": [
    "## Question - 8"
   ]
  },
  {
   "cell_type": "code",
   "execution_count": 59,
   "id": "00d3be66",
   "metadata": {},
   "outputs": [
    {
     "name": "stdout",
     "output_type": "stream",
     "text": [
      "1st Test Case : \n",
      "3\n",
      "\n",
      "2nd Test Case : \n",
      "12\n"
     ]
    }
   ],
   "source": [
    "'Q8. '\n",
    "\n",
    "def totalConsonants(string):\n",
    "    \n",
    "    vowels = 'aeiouAEIOU'\n",
    "    consonants = 0\n",
    "    \n",
    "    for char in string:\n",
    "        if char.isalpha() and char not in vowels:\n",
    "            consonants += 1\n",
    "    \n",
    "    return consonants\n",
    "\n",
    "# Declaring values and checking for output\n",
    "\n",
    "print(\"1st Test Case : \")\n",
    "input_str_1 = \"abc de\"\n",
    "print(totalConsonants(input_str_1))\n",
    "\n",
    "print('\\n2nd Test Case : ')\n",
    "input_str_2 = 'geeksforgeeks portal'\n",
    "print(totalConsonants(input_str_2))\n",
    "\n",
    "# Time Complexity - O(n)\n",
    "# Space Complexity - O(1)"
   ]
  }
 ],
 "metadata": {
  "kernelspec": {
   "display_name": "Python 3 (ipykernel)",
   "language": "python",
   "name": "python3"
  },
  "language_info": {
   "codemirror_mode": {
    "name": "ipython",
    "version": 3
   },
   "file_extension": ".py",
   "mimetype": "text/x-python",
   "name": "python",
   "nbconvert_exporter": "python",
   "pygments_lexer": "ipython3",
   "version": "3.9.12"
  }
 },
 "nbformat": 4,
 "nbformat_minor": 5
}
