{
 "cells": [
  {
   "cell_type": "markdown",
   "id": "5abe2363",
   "metadata": {},
   "source": [
    "# Assignment - 24"
   ]
  },
  {
   "cell_type": "markdown",
   "id": "435ee657",
   "metadata": {},
   "source": [
    "## Question - 1"
   ]
  },
  {
   "cell_type": "code",
   "execution_count": 1,
   "id": "f20f96cf",
   "metadata": {},
   "outputs": [
    {
     "name": "stdout",
     "output_type": "stream",
     "text": [
      "Example - 1 :  3\n",
      "Example - 2 :  58\n"
     ]
    }
   ],
   "source": [
    "'Q1. '\n",
    "\n",
    "def romanToInt(roman):\n",
    "    \n",
    "    roman_dict = {'I':1, 'V':5, 'X':10, 'L':50, \n",
    "                  'C':100, 'D':500, 'M':1000}\n",
    "    \n",
    "    result, prev = 0, 0\n",
    "    \n",
    "    for c in reversed(roman):\n",
    "        curr = roman_dict[c]\n",
    "        if curr < prev:\n",
    "            result -= curr\n",
    "        else:\n",
    "            result += curr\n",
    "        \n",
    "        prev = curr\n",
    "        \n",
    "    return result\n",
    "\n",
    "# Declaring values and checking for output\n",
    "\n",
    "# Example - 1\n",
    "\n",
    "roman1 = 'III'\n",
    "print('Example - 1 : ', romanToInt(roman1))\n",
    "\n",
    "# Example -2\n",
    "      \n",
    "roman2 = 'LVIII'\n",
    "print('Example - 2 : ', romanToInt(roman2))"
   ]
  },
  {
   "cell_type": "markdown",
   "id": "82f541c3",
   "metadata": {},
   "source": [
    "## Question - 2"
   ]
  },
  {
   "cell_type": "code",
   "execution_count": 2,
   "id": "cdad2870",
   "metadata": {},
   "outputs": [
    {
     "name": "stdout",
     "output_type": "stream",
     "text": [
      "Example - 1 :  3\n",
      "Example - 2 :  1\n",
      "Example - 3 :  3\n"
     ]
    }
   ],
   "source": [
    "'Q2. '\n",
    "\n",
    "def lengthOfLongestSubstring(s):\n",
    "    start = end = max_length = 0\n",
    "    seen = set()\n",
    "\n",
    "    while end < len(s):\n",
    "        if s[end] not in seen:\n",
    "            seen.add(s[end])\n",
    "            max_length = max(max_length, end - start + 1)\n",
    "            end += 1\n",
    "        else:\n",
    "            seen.remove(s[start])\n",
    "            start += 1\n",
    "\n",
    "    return max_length\n",
    "\n",
    "# Declaring values and checking for output\n",
    "\n",
    "print('Example - 1 : ',lengthOfLongestSubstring(\"abcabcbb\"))  # Output: 3\n",
    "print('Example - 2 : ',lengthOfLongestSubstring(\"bbbbb\")) \n",
    "print('Example - 3 : ',lengthOfLongestSubstring(\"pwwkew\")) "
   ]
  },
  {
   "cell_type": "markdown",
   "id": "d04ba7cc",
   "metadata": {},
   "source": [
    "## Question - 3"
   ]
  },
  {
   "cell_type": "code",
   "execution_count": 3,
   "id": "c61146be",
   "metadata": {},
   "outputs": [],
   "source": [
    "'Q3. '\n",
    "\n",
    "def majorityElem(nums):\n",
    "    candidate, count = None, 0\n",
    "    \n",
    "    for num in nums:\n",
    "        if count == 0:\n",
    "            candidate = num\n",
    "        if num == candidate:\n",
    "            count += 1\n",
    "        else:\n",
    "            count -= 1\n",
    "            \n",
    "    count_candidate = sum(1 for num in nums if num == candidate)\n",
    "    n = len(nums)\n",
    "    \n",
    "    if count_candidate > n // 2:\n",
    "        return candidate\n",
    "    else: \n",
    "        return None\n",
    "    \n"
   ]
  },
  {
   "cell_type": "markdown",
   "id": "34007a54",
   "metadata": {},
   "source": [
    "## Question - 4"
   ]
  },
  {
   "cell_type": "code",
   "execution_count": 4,
   "id": "0b3ed8bd",
   "metadata": {},
   "outputs": [
    {
     "name": "stdout",
     "output_type": "stream",
     "text": [
      "Example - 1 :  [['eat', 'tea', 'ate'], ['tan', 'nat'], ['bat']]\n",
      "Example - 2 :  [['']]\n",
      "Example - 3 :  [['a']]\n"
     ]
    }
   ],
   "source": [
    "'Q4. '\n",
    "\n",
    "def GroupAnagram(strs):\n",
    "    anagram_group = {}\n",
    "    \n",
    "    for s in strs:\n",
    "        sorted_s = ''.join(sorted(s))\n",
    "        \n",
    "        if sorted_s not in anagram_group:\n",
    "            anagram_group[sorted_s] = []\n",
    "            \n",
    "        anagram_group[sorted_s].append(s)\n",
    "        \n",
    "    return list(anagram_group.values())\n",
    "\n",
    "# Declaring values and checking for output\n",
    "\n",
    "# Example - 1\n",
    "\n",
    "strs = [\"eat\",\"tea\",\"tan\",\"ate\",\"nat\",\"bat\"]\n",
    "print('Example - 1 : ', GroupAnagram(strs))\n",
    "\n",
    "# Example - 2\n",
    "      \n",
    "strs1 = [\"\"]\n",
    "print('Example - 2 : ', GroupAnagram(strs1))\n",
    "\n",
    "# Example - 3\n",
    "      \n",
    "strs2 = [\"a\"]\n",
    "print('Example - 3 : ', GroupAnagram(strs2))"
   ]
  },
  {
   "cell_type": "markdown",
   "id": "b08e1493",
   "metadata": {},
   "source": [
    "## Question - 5"
   ]
  },
  {
   "cell_type": "code",
   "execution_count": 5,
   "id": "de9dadee",
   "metadata": {},
   "outputs": [
    {
     "name": "stdout",
     "output_type": "stream",
     "text": [
      "Example - 1 :  12\n",
      "Example - 2 :  1\n"
     ]
    }
   ],
   "source": [
    "'Q5. '\n",
    "\n",
    "def nthUglyNumber(n):\n",
    "    ugly = [1]\n",
    "    p2 = p3 = p5 = 0\n",
    "    \n",
    "    for _ in range(n - 1):\n",
    "        ugly_2 = ugly[p2] * 2\n",
    "        ugly_3 = ugly[p3] * 3\n",
    "        ugly_5 = ugly[p5] * 5\n",
    "        \n",
    "        next_ugly = min(ugly_2, ugly_3, ugly_5)\n",
    "        ugly.append(next_ugly)\n",
    "        \n",
    "        if next_ugly == ugly_2:\n",
    "            p2 += 1\n",
    "        if next_ugly == ugly_3:\n",
    "            p3 += 1\n",
    "        if next_ugly == ugly_5:\n",
    "            p5 += 1\n",
    "            \n",
    "    return ugly[-1]\n",
    "\n",
    "# Declaring values and checking for output\n",
    "\n",
    "# Example - 1\n",
    "\n",
    "n = 10\n",
    "print('Example - 1 : ', nthUglyNumber(n))\n",
    "\n",
    "# Example - 2\n",
    "      \n",
    "n2 = 1\n",
    "print('Example - 2 : ', nthUglyNumber(n2))"
   ]
  },
  {
   "cell_type": "markdown",
   "id": "78fac29f",
   "metadata": {},
   "source": [
    "## Question - 6"
   ]
  },
  {
   "cell_type": "code",
   "execution_count": 6,
   "id": "aa159632",
   "metadata": {},
   "outputs": [
    {
     "name": "stdout",
     "output_type": "stream",
     "text": [
      "Example - 1 :  ['i', 'love']\n",
      "Example - 2 :  ['the', 'is', 'sunny', 'day']\n"
     ]
    }
   ],
   "source": [
    "'Q6. '\n",
    "\n",
    "from collections import Counter\n",
    "\n",
    "def topKFrequent(words, k):\n",
    "    \n",
    "    freq_dict = Counter(words)\n",
    "\n",
    "    def custom_sort(word):\n",
    "        return (-freq_dict[word], word)  \n",
    "    sorted_words = sorted(freq_dict.keys(), key=custom_sort)\n",
    "\n",
    "    return sorted_words[:k]\n",
    "\n",
    "# Declaring values and checking for output\n",
    "\n",
    "# Example - 1\n",
    "\n",
    "words = [\"i\",\"love\",\"leetcode\",\"i\",\"love\",\"coding\"]\n",
    "k = 2\n",
    "print('Example - 1 : ', topKFrequent(words, k))\n",
    "\n",
    "# Example - 2\n",
    "      \n",
    "words1 = [\"the\",\"day\",\"is\",\"sunny\",\"the\",\"the\",\"the\",\"sunny\",\"is\",\"is\"]\n",
    "k1 = 4\n",
    "print('Example - 2 : ', topKFrequent(words1, k1))"
   ]
  },
  {
   "cell_type": "markdown",
   "id": "e225cc05",
   "metadata": {},
   "source": [
    "## Question - 7"
   ]
  },
  {
   "cell_type": "code",
   "execution_count": 7,
   "id": "98be43c6",
   "metadata": {},
   "outputs": [
    {
     "name": "stdout",
     "output_type": "stream",
     "text": [
      "Example - 1 :  [3, 3, 5, 5, 6, 7]\n",
      "Example - 2 :  [1]\n"
     ]
    }
   ],
   "source": [
    "'Q7. '\n",
    "\n",
    "from collections import deque\n",
    "\n",
    "def slidingWindowMax(nums, k):\n",
    "    window = deque()\n",
    "    max_window = []\n",
    "\n",
    "    for i in range(len(nums)):\n",
    "\n",
    "        while window and window[0] <= i - k:\n",
    "            window.popleft()\n",
    "\n",
    "        while window and nums[window[-1]] <= nums[i]:\n",
    "            window.pop()\n",
    "\n",
    "        window.append(i)\n",
    "\n",
    "        if i >= k - 1:\n",
    "            max_window.append(nums[window[0]])\n",
    "\n",
    "    return max_window\n",
    "\n",
    "# Declaring values and checking for output\n",
    "\n",
    "# Example - 1\n",
    "\n",
    "nums = [1,3,-1,-3,5,3,6,7]\n",
    "k = 3\n",
    "print('Example - 1 : ', slidingWindowMax(nums, k))\n",
    "\n",
    "# Example - 2\n",
    "      \n",
    "nums1 = [1]\n",
    "k1 = 1\n",
    "print('Example - 2 : ', slidingWindowMax(nums1, k1))"
   ]
  },
  {
   "cell_type": "markdown",
   "id": "1d87caa5",
   "metadata": {},
   "source": [
    "## Question - 8"
   ]
  },
  {
   "cell_type": "code",
   "execution_count": 8,
   "id": "14a335b5",
   "metadata": {},
   "outputs": [
    {
     "name": "stdout",
     "output_type": "stream",
     "text": [
      "Example - 1 :  [1, 2, 3, 4]\n",
      "Example - 2 :  [1, 2, 3, 4]\n"
     ]
    }
   ],
   "source": [
    "'Q8. '\n",
    "\n",
    "import heapq\n",
    "\n",
    "def KClosestElems(arr, k, x):\n",
    "    heapq.heapify(arr)\n",
    "    heap = []\n",
    "    \n",
    "    for i in arr:        \n",
    "        if len(heap) == k and abs(x - i) >= abs(x - heap[0]):\n",
    "            continue\n",
    "        else: heapq.heappush(heap, i)\n",
    "        if len(heap) > k:\n",
    "            heapq.heappop(heap)\n",
    "            \n",
    "    return heap\n",
    "\n",
    "# Declaring values and checking for output\n",
    "\n",
    "arr = [1,2,3,4,5]\n",
    "k = 4\n",
    "\n",
    "# Example - 1\n",
    "\n",
    "x = 3\n",
    "print('Example - 1 : ', KClosestElems(arr, k, x))\n",
    "\n",
    "# Example - 2\n",
    "      \n",
    "x2 = -1\n",
    "print('Example - 2 : ', KClosestElems(arr, k, x2))"
   ]
  },
  {
   "cell_type": "code",
   "execution_count": null,
   "id": "6f2fb58a",
   "metadata": {},
   "outputs": [],
   "source": []
  }
 ],
 "metadata": {
  "kernelspec": {
   "display_name": "Python 3 (ipykernel)",
   "language": "python",
   "name": "python3"
  },
  "language_info": {
   "codemirror_mode": {
    "name": "ipython",
    "version": 3
   },
   "file_extension": ".py",
   "mimetype": "text/x-python",
   "name": "python",
   "nbconvert_exporter": "python",
   "pygments_lexer": "ipython3",
   "version": "3.9.12"
  }
 },
 "nbformat": 4,
 "nbformat_minor": 5
}
