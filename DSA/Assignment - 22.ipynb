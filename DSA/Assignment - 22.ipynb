{
 "cells": [
  {
   "cell_type": "markdown",
   "id": "41f14446",
   "metadata": {},
   "source": [
    "# Assignment - 22"
   ]
  },
  {
   "cell_type": "markdown",
   "id": "f0794f18",
   "metadata": {},
   "source": [
    "## Question - 1"
   ]
  },
  {
   "cell_type": "code",
   "execution_count": 1,
   "id": "d92d2a07",
   "metadata": {},
   "outputs": [
    {
     "name": "stdout",
     "output_type": "stream",
     "text": [
      "25 <-> 12 <-> 30 <-> 10 <-> 36 <-> 15 <-> None\n"
     ]
    }
   ],
   "source": [
    "'Q1. '\n",
    "\n",
    "class TreeNode:\n",
    "    def __init__(self, value):\n",
    "        self.val = value\n",
    "        self.left = None\n",
    "        self.right = None\n",
    "\n",
    "class DLinkedList:\n",
    "    def __init__(self, data):\n",
    "        self.data = data\n",
    "        self.next = None\n",
    "        self.prev = None\n",
    "        \n",
    "def inOrder(root, arr):\n",
    "    if not root: return\n",
    "    inOrder(root.left, arr)\n",
    "    arr.append(root.val)\n",
    "    inOrder(root.right, arr)\n",
    "\n",
    "def BTtoDLL(root):\n",
    "    if not root: return\n",
    "    \n",
    "    arr = []\n",
    "    inOrder(root, arr)\n",
    "    \n",
    "    head = DLinkedList(arr[0])\n",
    "    curr = head\n",
    "    \n",
    "    for i in arr[1:]:\n",
    "        curr.next = DLinkedList(i)\n",
    "        temp = curr\n",
    "        curr = curr.next\n",
    "        temp = curr.prev\n",
    "    \n",
    "    del arr\n",
    "    \n",
    "    return head\n",
    "\n",
    "# Print Doubly Linked List\n",
    "\n",
    "def printDLL(head):\n",
    "    if not head: return\n",
    "    curr = head\n",
    "    \n",
    "    while curr:\n",
    "        print(curr.data, end = ' <-> ')\n",
    "        curr = curr.next\n",
    "    \n",
    "    print(None)\n",
    "# Declaring values and checking for output\n",
    "\n",
    "# Binary Tree\n",
    "root = TreeNode(10)\n",
    "root.left = TreeNode(12)\n",
    "root.right = TreeNode(15)\n",
    "root.left.left = TreeNode(25)\n",
    "root.left.right = TreeNode(30)\n",
    "root.right.left = TreeNode(36)\n",
    "\n",
    "head = BTtoDLL(root)\n",
    "printDLL(head)"
   ]
  },
  {
   "cell_type": "markdown",
   "id": "c7778d8d",
   "metadata": {},
   "source": [
    "## Question - 2"
   ]
  },
  {
   "cell_type": "code",
   "execution_count": 2,
   "id": "a03ee491",
   "metadata": {},
   "outputs": [
    {
     "name": "stdout",
     "output_type": "stream",
     "text": [
      "Example - 1 :  4 5 2 3 1 6 7 \n",
      "Example - 2 :  2 3 1 4 5 "
     ]
    }
   ],
   "source": [
    "'Q2. '\n",
    "\n",
    "class TreeNode:\n",
    "    def __init__(self, val):\n",
    "        self.val = val\n",
    "        self.left = None\n",
    "        self.right = None\n",
    "\n",
    "\n",
    "def flip_binary_tree(root):\n",
    "    if root is None:\n",
    "        return root\n",
    "\n",
    "    if root.left is None and root.right is None:\n",
    "        return root\n",
    "\n",
    "    flipped_root = flip_binary_tree(root.left)\n",
    "\n",
    "    root.left.left = root.right\n",
    "    root.left.right = root\n",
    "    root.left = None\n",
    "    root.right = None\n",
    "\n",
    "    return flipped_root\n",
    "\n",
    "\n",
    "def level_order_traversal(root):\n",
    "    if root is None:\n",
    "        return\n",
    "\n",
    "    queue = [root]\n",
    "    result = []\n",
    "\n",
    "    while queue:\n",
    "        node = queue.pop(0)\n",
    "        result.append(node.val)\n",
    "\n",
    "        if node.left:\n",
    "            queue.append(node.left)\n",
    "        if node.right:\n",
    "            queue.append(node.right)\n",
    "\n",
    "    return result\n",
    "\n",
    "# Create the binary tree\n",
    "\n",
    "# Example - 1\n",
    "\n",
    "root = TreeNode(1)\n",
    "root.left = TreeNode(2)\n",
    "root.right = TreeNode(3)\n",
    "root.left.left = TreeNode(4)\n",
    "root.left.right = TreeNode(5)\n",
    "root.right.left = TreeNode(6)\n",
    "root.right.right = TreeNode(7)\n",
    "\n",
    "flipped_root = flip_binary_tree(root)\n",
    "result = level_order_traversal(flipped_root)\n",
    "\n",
    "print('Example - 1 : ', end = ' ')\n",
    "for data in result:\n",
    "    print(data, end=\" \")\n",
    "\n",
    "# Example - 1\n",
    "\n",
    "root2 = TreeNode(1)\n",
    "root2.left = TreeNode(2)\n",
    "root2.right = TreeNode(3)\n",
    "root2.right.left = TreeNode(4)\n",
    "root2.right.right = TreeNode(5)\n",
    "\n",
    "flipped_root_2 = flip_binary_tree(root2)\n",
    "result2 = level_order_traversal(flipped_root_2)\n",
    "\n",
    "print('\\nExample - 2 : ', end = ' ')\n",
    "for data in result2:\n",
    "    print(data, end=\" \")\n"
   ]
  },
  {
   "cell_type": "markdown",
   "id": "ed477260",
   "metadata": {},
   "source": [
    "## Question - 3"
   ]
  },
  {
   "cell_type": "code",
   "execution_count": 3,
   "id": "d71d49c1",
   "metadata": {},
   "outputs": [
    {
     "name": "stdout",
     "output_type": "stream",
     "text": [
      "6->3->2\n",
      "6->3->5->7\n",
      "6->3->5->4\n",
      "6->5->4\n"
     ]
    }
   ],
   "source": [
    "'Q3. '\n",
    "\n",
    "class TreeNode:\n",
    "    def __init__(self, val):\n",
    "        self.val = val\n",
    "        self.left = None\n",
    "        self.right = None\n",
    "\n",
    "\n",
    "def print_root_to_leaf_paths(root):\n",
    "    if root is None:\n",
    "        return\n",
    "\n",
    "    stack = [(root, str(root.val))]\n",
    "\n",
    "    while stack:\n",
    "        node, path = stack.pop()\n",
    "\n",
    "        if node.left is None and node.right is None:\n",
    "            print(path)\n",
    "        if node.right:\n",
    "            stack.append((node.right, path + \"->\" + str(node.right.val)))\n",
    "        if node.left:\n",
    "            stack.append((node.left, path + \"->\" + str(node.left.val)))\n",
    "\n",
    "\n",
    "# Create the binary tree\n",
    "\n",
    "root = TreeNode(6)\n",
    "root.left = TreeNode(3)\n",
    "root.right = TreeNode(5)\n",
    "root.left.left = TreeNode(2)\n",
    "root.left.right = TreeNode(5)\n",
    "root.left.right.left = TreeNode(7)\n",
    "root.left.right.right = TreeNode(4)\n",
    "root.right.right = TreeNode(4)\n",
    "\n",
    "print_root_to_leaf_paths(root)"
   ]
  },
  {
   "cell_type": "markdown",
   "id": "e35e867f",
   "metadata": {},
   "source": [
    "## Question - 4"
   ]
  },
  {
   "cell_type": "code",
   "execution_count": 4,
   "id": "afdee104",
   "metadata": {},
   "outputs": [
    {
     "name": "stdout",
     "output_type": "stream",
     "text": [
      "Example - 1 :  Yes\n",
      "Example - 2 :  No\n"
     ]
    }
   ],
   "source": [
    "'Q4. '\n",
    "\n",
    "class TreeNode:\n",
    "    def __init__(self, val):\n",
    "        self.val = val\n",
    "        self.left = None\n",
    "        self.right = None\n",
    "\n",
    "def isPreInPoOrder(root, InOrder, PreOrder, PostOrder):\n",
    "    in_order = []\n",
    "    pre_order = []\n",
    "    post_order = []\n",
    "    \n",
    "    def Order(root):\n",
    "        if not root: return\n",
    "        \n",
    "        pre_order.append(root.val)\n",
    "        Order(root.left)\n",
    "        in_order.append(root.val)\n",
    "        Order(root.right)\n",
    "        post_order.append(root.val)\n",
    "        \n",
    "    Order(root)\n",
    "    \n",
    "    if in_order == InOrder and pre_order == PreOrder and post_order == PostOrder:\n",
    "        return \"Yes\"\n",
    "    else:\n",
    "        return \"No\"\n",
    "\n",
    "# Create the binary tree\n",
    "\n",
    "root = TreeNode(1)\n",
    "root.left = TreeNode(2)\n",
    "root.right = TreeNode(3)\n",
    "root.left.left = TreeNode(4)\n",
    "root.left.right = TreeNode(5)\n",
    "\n",
    "InOrder = [4, 2, 5, 1, 3]\n",
    "PreOrder = [1, 2, 4, 5, 3]\n",
    "PostOrder = [4, 5, 2, 3, 1]\n",
    "\n",
    "result1 = isPreInPoOrder(root, InOrder, PreOrder, PostOrder)\n",
    "print('Example - 1 : ',result1)\n",
    "\n",
    "InOrder1 = [4, 2, 5, 1, 3]\n",
    "PreOrder1 = [1, 5, 4, 2, 3]\n",
    "PostOrder1 = [4, 1, 2, 3, 5]\n",
    "result2 = isPreInPoOrder(root, InOrder1, PreOrder1, PostOrder1)\n",
    "print('Example - 2 : ',result2)"
   ]
  }
 ],
 "metadata": {
  "kernelspec": {
   "display_name": "Python 3 (ipykernel)",
   "language": "python",
   "name": "python3"
  },
  "language_info": {
   "codemirror_mode": {
    "name": "ipython",
    "version": 3
   },
   "file_extension": ".py",
   "mimetype": "text/x-python",
   "name": "python",
   "nbconvert_exporter": "python",
   "pygments_lexer": "ipython3",
   "version": "3.9.12"
  }
 },
 "nbformat": 4,
 "nbformat_minor": 5
}
