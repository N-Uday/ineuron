{
 "cells": [
  {
   "cell_type": "markdown",
   "id": "6acaf575",
   "metadata": {},
   "source": [
    "# Assignment - 23"
   ]
  },
  {
   "cell_type": "markdown",
   "id": "7fb77a03",
   "metadata": {},
   "source": [
    "## Question - 1"
   ]
  },
  {
   "cell_type": "code",
   "execution_count": 1,
   "id": "f8de8962",
   "metadata": {},
   "outputs": [
    {
     "name": "stdout",
     "output_type": "stream",
     "text": [
      "Example - 1 :  2\n",
      "Example - 2 :  3\n"
     ]
    }
   ],
   "source": [
    "'Q1. '\n",
    "\n",
    "def calculate_depth(preorder):\n",
    "    stack = []\n",
    "    depth = -1\n",
    "\n",
    "    for char in preorder:\n",
    "        if char == 'n':\n",
    "            stack.append(char)\n",
    "        elif char == 'l':\n",
    "            while stack and stack[-1] == 'l':\n",
    "                stack.pop()\n",
    "            if stack and stack[-1] == 'n':\n",
    "                stack.pop()\n",
    "                stack.append('l')\n",
    "                depth = max(depth, len(stack))\n",
    "\n",
    "    return depth\n",
    "\n",
    "# Declaring values and checking for output\n",
    "\n",
    "# Example - 1\n",
    "\n",
    "preorder1 = 'nlnll'\n",
    "print('Example - 1 : ', calculate_depth(preorder1))\n",
    "\n",
    "# Example -2\n",
    "      \n",
    "preorder2 = 'nlnnlll'\n",
    "print('Example - 2 : ', calculate_depth(preorder2))"
   ]
  },
  {
   "cell_type": "markdown",
   "id": "90d180a1",
   "metadata": {},
   "source": [
    "## Question - 2"
   ]
  },
  {
   "cell_type": "code",
   "execution_count": 2,
   "id": "051d152f",
   "metadata": {},
   "outputs": [
    {
     "name": "stdout",
     "output_type": "stream",
     "text": [
      "Example - 1 :  4 5 3 6 \n",
      "Example - 2 :  1 2 4 5 6 "
     ]
    }
   ],
   "source": [
    "'Q2. '\n",
    "\n",
    "class Node:\n",
    "    def __init__(self, value):\n",
    "        self.data = value\n",
    "        self.left = None\n",
    "        self.right = None\n",
    "\n",
    "def printLeftView(root, string):\n",
    "    arr = [0]\n",
    "    print(string, end = ' ')\n",
    "    def LeftView(node, level):\n",
    "        if node is None:\n",
    "            return\n",
    "        \n",
    "        if level > arr[0]:\n",
    "            print(node.data, end=\" \")\n",
    "            arr[0] = level\n",
    "        \n",
    "        LeftView(node.left, level + 1)\n",
    "        LeftView(node.right, level + 1)\n",
    "\n",
    "    LeftView(root, 1)\n",
    "\n",
    "\n",
    "# Declaring values and checking for output\n",
    "\n",
    "# Example - 1\n",
    "\n",
    "root = Node(4)\n",
    "root.left = Node(5)\n",
    "root.right = Node(2)\n",
    "root.right.left = Node(3)\n",
    "root.right.right = Node(1)\n",
    "root.right.left.left = Node(6)\n",
    "root.right.left.right = Node(7)\n",
    "\n",
    "printLeftView(root, 'Example - 1 : ')\n",
    "\n",
    "# Example -2\n",
    "\n",
    "root1 = Node(1)\n",
    "root1.left = Node(2)\n",
    "root1.right = Node(3)\n",
    "root1.left.right = Node(4)\n",
    "root1.left.right.right = Node(5)\n",
    "root1.left.right.right.right = Node(6)\n",
    "\n",
    "printLeftView(root1, '\\nExample - 2 : ')"
   ]
  },
  {
   "cell_type": "markdown",
   "id": "cc61c320",
   "metadata": {},
   "source": [
    "## Question - 3"
   ]
  },
  {
   "cell_type": "code",
   "execution_count": 3,
   "id": "3e9b7aab",
   "metadata": {},
   "outputs": [
    {
     "name": "stdout",
     "output_type": "stream",
     "text": [
      "Example - 1 :  1 3 7 8 \n",
      "Example - 2 :  1 8 7 "
     ]
    }
   ],
   "source": [
    "'Q3. '\n",
    "\n",
    "class Node:\n",
    "    def __init__(self, value):\n",
    "        self.data = value\n",
    "        self.left = None\n",
    "        self.right = None\n",
    "\n",
    "def printRighttView(root, string):\n",
    "    arr = [0]\n",
    "    print(string, end = ' ')\n",
    "    def RightView(node, level):\n",
    "        if node is None:\n",
    "            return\n",
    "        \n",
    "        if level > arr[0]:\n",
    "            print(node.data, end=\" \")\n",
    "            arr[0] = level\n",
    "        \n",
    "        RightView(node.right, level + 1)\n",
    "        RightView(node.left, level + 1)\n",
    "\n",
    "    RightView(root, 1)\n",
    "\n",
    "\n",
    "# Declaring values and checking for output\n",
    "\n",
    "# Example - 1\n",
    "\n",
    "root = Node(1)\n",
    "root.left = Node(2)\n",
    "root.right = Node(3)\n",
    "root.left.left = Node(4)\n",
    "root.left.right = Node(5)\n",
    "root.right.left = Node(6)\n",
    "root.right.right = Node(7)\n",
    "root.right.left.right = Node(8)\n",
    "\n",
    "printRighttView(root, 'Example - 1 : ')\n",
    "\n",
    "# Example -2\n",
    "\n",
    "root1 = Node(1)\n",
    "root1.left = Node(8)\n",
    "root1.left.left = Node(7)\n",
    "\n",
    "printLeftView(root1, '\\nExample - 2 : ')"
   ]
  },
  {
   "cell_type": "markdown",
   "id": "a890966d",
   "metadata": {},
   "source": [
    "## Question - 4"
   ]
  },
  {
   "cell_type": "code",
   "execution_count": 4,
   "id": "9fc45ac6",
   "metadata": {},
   "outputs": [
    {
     "name": "stdout",
     "output_type": "stream",
     "text": [
      "Example - 1 :  5 10 3 14 25 \n",
      "Example - 2 :  5 10 4 14 25 "
     ]
    }
   ],
   "source": [
    "'Q4. '\n",
    "\n",
    "\n",
    "from collections import deque\n",
    "\n",
    "class Node:\n",
    "    def __init__(self, value):\n",
    "        self.data = value\n",
    "        self.left = None\n",
    "        self.right = None\n",
    "\n",
    "def BottomView(root):\n",
    "    if root is None:\n",
    "        return\n",
    "\n",
    "    hd_dict = {}  \n",
    "    queue = deque()\n",
    "    queue.append((root, 0)) \n",
    "\n",
    "    while queue:\n",
    "        current_node, hd = queue.popleft()\n",
    "        hd_dict[hd] = current_node.data  \n",
    "\n",
    "        if current_node.left:\n",
    "            queue.append((current_node.left, hd - 1))\n",
    "        if current_node.right:\n",
    "            queue.append((current_node.right, hd + 1))\n",
    "\n",
    "    \n",
    "    for hd in sorted(hd_dict.keys()):\n",
    "        print(hd_dict[hd], end=\" \")\n",
    "\n",
    "# Declaring values and checking for output\n",
    "\n",
    "# Example - 1\n",
    "\n",
    "root = Node(20)\n",
    "root.left = Node(8)\n",
    "root.right = Node(22)\n",
    "root.left.left = Node(5)\n",
    "root.left.right = Node(3)\n",
    "root.right.right = Node(25)\n",
    "root.left.right.left = Node(10)\n",
    "root.left.right.right = Node(14)\n",
    "\n",
    "print(\"Example - 1 : \", end = ' ')\n",
    "BottomView(root)\n",
    "\n",
    "# Example - 2\n",
    "\n",
    "root1 = Node(20)\n",
    "root1.left = Node(8)\n",
    "root1.right = Node(22)\n",
    "root1.left.left = Node(5)\n",
    "root1.left.right = Node(3)\n",
    "root1.right.left = Node(4)\n",
    "root1.right.right = Node(25)\n",
    "root1.left.right.left = Node(10)\n",
    "root1.left.right.right = Node(14)\n",
    "\n",
    "print(\"\\nExample - 2 : \", end = ' ')\n",
    "BottomView(root1)\n"
   ]
  }
 ],
 "metadata": {
  "kernelspec": {
   "display_name": "Python 3 (ipykernel)",
   "language": "python",
   "name": "python3"
  },
  "language_info": {
   "codemirror_mode": {
    "name": "ipython",
    "version": 3
   },
   "file_extension": ".py",
   "mimetype": "text/x-python",
   "name": "python",
   "nbconvert_exporter": "python",
   "pygments_lexer": "ipython3",
   "version": "3.9.12"
  }
 },
 "nbformat": 4,
 "nbformat_minor": 5
}
