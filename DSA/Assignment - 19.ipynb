{
 "cells": [
  {
   "cell_type": "markdown",
   "id": "5afd16c9",
   "metadata": {},
   "source": [
    "# Assignment - 19"
   ]
  },
  {
   "cell_type": "markdown",
   "id": "64f79585",
   "metadata": {},
   "source": [
    "## Question -1"
   ]
  },
  {
   "cell_type": "code",
   "execution_count": 1,
   "id": "d5e57e28",
   "metadata": {},
   "outputs": [],
   "source": [
    "'Q1. '\n",
    "\n",
    "def mergeKLists(lists):\n",
    "    min_heap = []\n",
    "    heapq.heapify(min_heap)\n",
    "    \n",
    "    # Add the first node of each linked list to the min-heap\n",
    "    for lst in lists:\n",
    "        if lst:\n",
    "            heapq.heappush(min_heap, (lst.val, lst))\n",
    "    \n",
    "    # Create a dummy node as the result\n",
    "    dummy = ListNode(0)\n",
    "    curr = dummy\n",
    "    \n",
    "    # Merge the linked lists\n",
    "    while min_heap:\n",
    "        _, node = heapq.heappop(min_heap)\n",
    "        curr.next = node\n",
    "        curr = curr.next\n",
    "        if node.next:\n",
    "            heapq.heappush(min_heap, (node.next.val, node.next))\n",
    "    \n",
    "    return dummy.next\n",
    "\n",
    "# Time Complexity  - O(NlogK)\n",
    "# Space Complexity - O(K)"
   ]
  },
  {
   "cell_type": "markdown",
   "id": "2955c8ec",
   "metadata": {},
   "source": [
    "## Question - 2"
   ]
  },
  {
   "cell_type": "code",
   "execution_count": 2,
   "id": "693fc4f2",
   "metadata": {},
   "outputs": [
    {
     "name": "stdout",
     "output_type": "stream",
     "text": [
      "Example - 1 :  [2, 1, 1, 0]\n",
      "\n",
      "Example - 2 :  [0]\n",
      "\n",
      "Example - 3 :  [0, 0]\n"
     ]
    }
   ],
   "source": [
    "'Q2. '\n",
    "\n",
    "class SmallerCount(object):\n",
    "    def countSmaller(self, nums):\n",
    "        \n",
    "        res  = [0] * len(nums)                                    \n",
    "        enum = list(enumerate(nums))                             \n",
    "        \n",
    "        self.mergeSort(enum, 0, len(nums) - 1, res)\n",
    "        return res\n",
    "    \n",
    "    def mergeSort(self, enum, start, end, res):\n",
    "        if start >= end: return\n",
    "        \n",
    "        mid = start + (end - start) // 2\n",
    "        self.mergeSort(enum, start, mid, res)\n",
    "        self.mergeSort(enum, mid + 1, end, res)\n",
    "        self.merge(enum, start, mid, end, res)\n",
    "    \n",
    "    def merge(self, enum, start, mid, end, res):\n",
    "        p, q = start, mid + 1\n",
    "        inversion_count = 0                                    \n",
    "        temp = []\n",
    "        \n",
    "        while p <= mid and q <= end:\n",
    "            if enum[p][1] <= enum[q][1]:\n",
    "                temp.append(enum[p])\n",
    "                res[enum[p][0]] += inversion_count               \n",
    "                p += 1\n",
    "            else:\n",
    "                temp.append(enum[q])\n",
    "                inversion_count += 1                           \n",
    "                q += 1\n",
    "        \n",
    "        while p <= mid:\n",
    "            temp.append(enum[p])\n",
    "            res[enum[p][0]] += inversion_count                  \n",
    "            p += 1\n",
    "        \n",
    "        while q <= end:         \n",
    "            temp.append(enum[q])\n",
    "            q += 1\n",
    "        \n",
    "        enum[start:end+1] = temp  \n",
    "\n",
    "# Declaring values and checking for output\n",
    "\n",
    "obj = SmallerCount()\n",
    "\n",
    "# Example - 1\n",
    "\n",
    "nums1 = [5,2,6,1]\n",
    "result1 = obj.countSmaller(nums1)\n",
    "print('Example - 1 : ',result1)\n",
    "\n",
    "# Example - 2\n",
    "\n",
    "nums2 = [-1]\n",
    "result2 = obj.countSmaller(nums2)\n",
    "print('\\nExample - 2 : ',result2)\n",
    "\n",
    "# Example - 3\n",
    "\n",
    "nums3 = [-1,-1]\n",
    "result3 = obj.countSmaller(nums3)\n",
    "print('\\nExample - 3 : ',result3)\n",
    "\n",
    "# Time Complexity - O(NlogN)            \n",
    "# Space Complexity - O(N) "
   ]
  },
  {
   "cell_type": "markdown",
   "id": "ccc9cb18",
   "metadata": {},
   "source": [
    "## Question - 3"
   ]
  },
  {
   "cell_type": "code",
   "execution_count": 3,
   "id": "65ba1919",
   "metadata": {},
   "outputs": [
    {
     "name": "stdout",
     "output_type": "stream",
     "text": [
      "Example - 1 :  [1, 2, 3, 5]\n",
      "\n",
      "Example - 2 :  [0, 0, 1, 1, 2, 5]\n"
     ]
    }
   ],
   "source": [
    "'Q3. '\n",
    "\n",
    "def merge_sort(arr):\n",
    "    if len(arr) <= 1:\n",
    "        return arr\n",
    "    \n",
    "    mid = len(arr) // 2\n",
    "    left = merge_sort(arr[:mid])\n",
    "    right = merge_sort(arr[mid:])\n",
    "    \n",
    "    return merge(left, right)\n",
    "\n",
    "def merge(left, right):\n",
    "    merged = []\n",
    "    i = j = 0\n",
    "    \n",
    "    while i < len(left) and j < len(right):\n",
    "        if left[i] <= right[j]:\n",
    "            merged.append(left[i])\n",
    "            i += 1\n",
    "        else:\n",
    "            merged.append(right[j])\n",
    "            j += 1\n",
    "    \n",
    "    merged.extend(left[i:])\n",
    "    merged.extend(right[j:])\n",
    "    \n",
    "    return merged\n",
    "\n",
    "# Declaring values and checking for output\n",
    "\n",
    "# Example - 1\n",
    "\n",
    "nums1 = [5,2,3,1]\n",
    "result1 = merge_sort(nums1)\n",
    "print('Example - 1 : ',result1)\n",
    "\n",
    "# Example - 2\n",
    "\n",
    "nums2 = [5,1,1,2,0,0]\n",
    "result2 = merge_sort(nums2)\n",
    "print('\\nExample - 2 : ',result2)\n",
    "\n",
    "# Time Complexity - O(NlogN)            \n",
    "# Space Complexity - O(N)"
   ]
  },
  {
   "cell_type": "markdown",
   "id": "3addcbae",
   "metadata": {},
   "source": [
    "## Question - 4"
   ]
  },
  {
   "cell_type": "code",
   "execution_count": 4,
   "id": "83f2f212",
   "metadata": {},
   "outputs": [
    {
     "name": "stdout",
     "output_type": "stream",
     "text": [
      "Example - 1 :  [1, 2, 4, 3, 5, 0, 0, 0]\n",
      "\n",
      "Example - 2 :  [1, 2, 3, 6, 0, 0, 0]\n"
     ]
    }
   ],
   "source": [
    "'Q4. '\n",
    "\n",
    "def moveZeroesToEnd(arr):\n",
    "    n = len(arr)\n",
    "    if n <= 1:\n",
    "        return arr\n",
    "    \n",
    "    count = 0\n",
    "    \n",
    "    for i in range(n):\n",
    "        if arr[i] != 0:\n",
    "            arr[count] = arr[i]\n",
    "            count += 1\n",
    "    \n",
    "    while count < n:\n",
    "        arr[count] = 0\n",
    "        count += 1\n",
    "    \n",
    "    return arr\n",
    "    \n",
    "# Declaring values and checking for output\n",
    "\n",
    "# Example - 1\n",
    "\n",
    "nums1 = [1, 2, 0, 4 ,3, 0, 5, 0]\n",
    "result1 = moveZeroesToEnd(nums1)\n",
    "print('Example - 1 : ',result1)\n",
    "\n",
    "# Example - 2\n",
    "\n",
    "nums2 = [1, 2, 0, 0, 0, 3, 6]\n",
    "result2 = moveZeroesToEnd(nums2)\n",
    "print('\\nExample - 2 : ',result2)\n",
    "\n",
    "# Time Complexity - O(N)            \n",
    "# Space Complexity - O(1)"
   ]
  },
  {
   "cell_type": "markdown",
   "id": "ec744481",
   "metadata": {},
   "source": [
    "## Question - 5"
   ]
  },
  {
   "cell_type": "code",
   "execution_count": 5,
   "id": "43482b40",
   "metadata": {},
   "outputs": [
    {
     "name": "stdout",
     "output_type": "stream",
     "text": [
      "Example - 1 :  [-4, 1, -1, 2, 3, 4]\n",
      "\n",
      "Example - 2 :  [-5, 5, -2, 2, -8, 4, 7, 1, 8, 0]\n"
     ]
    }
   ],
   "source": [
    "'Q5. '\n",
    "\n",
    "def rearrangeAlternate(arr):\n",
    "    \n",
    "    positives = [num for num in arr if num >= 0]\n",
    "    negatives = [num for num in arr if num < 0]\n",
    "\n",
    "    result = []\n",
    "    num_positives = len(positives)\n",
    "    num_negatives = len(negatives)\n",
    "    min_length = min(num_positives, num_negatives)\n",
    "\n",
    "    for i in range(min_length):\n",
    "        result.append(negatives[i])\n",
    "        result.append(positives[i])\n",
    "\n",
    "    if num_positives > min_length:\n",
    "        result.extend(positives[min_length:])\n",
    "    else:\n",
    "        result.extend(negatives[min_length:])\n",
    "\n",
    "    return result\n",
    "\n",
    "# Declaring values and checking for output\n",
    "\n",
    "# Example - 1\n",
    "\n",
    "nums1 = [1, 2, 3, -4, -1, 4]\n",
    "result1 = rearrangeAlternate(nums1)\n",
    "print('Example - 1 : ',result1)\n",
    "\n",
    "# Example - 2\n",
    "\n",
    "nums2 = [-5, -2, 5, 2, 4, 7, 1, 8, 0, -8]\n",
    "result2 = rearrangeAlternate(nums2)\n",
    "print('\\nExample - 2 : ',result2)\n",
    "\n",
    "# Time Complexity - O(N)            \n",
    "# Space Complexity - O(N)"
   ]
  },
  {
   "cell_type": "markdown",
   "id": "80ae8f71",
   "metadata": {},
   "source": [
    "## Question - 6"
   ]
  },
  {
   "cell_type": "code",
   "execution_count": 6,
   "id": "300e62da",
   "metadata": {},
   "outputs": [
    {
     "name": "stdout",
     "output_type": "stream",
     "text": [
      "Example - 1 :  [1, 2, 3, 4, 4, 5, 6, 8]\n",
      "\n",
      "Example - 2 :  [4, 5, 7, 8, 8, 9]\n"
     ]
    }
   ],
   "source": [
    "'Q6. '\n",
    "\n",
    "def mergeSortArrays(arr1, arr2):\n",
    "    n = len(arr1)\n",
    "    m = len(arr2)\n",
    "    p, q = 0, 0\n",
    "    sorted_array = []\n",
    "    \n",
    "    while p < n and q < m:\n",
    "        if arr1[p] <= arr2[q]:\n",
    "            sorted_array.append(arr1[p])\n",
    "            p += 1\n",
    "        else:\n",
    "            sorted_array.append(arr2[q])\n",
    "            q += 1\n",
    "    if p < n:\n",
    "        sorted_array.extend(arr1[p:])\n",
    "    elif q < m:\n",
    "        sorted_array.extend(arr2[q:])\n",
    "    \n",
    "    return sorted_array\n",
    "\n",
    "# Declaring values and checking for output\n",
    "\n",
    "# Example - 1\n",
    "\n",
    "arr1 = [1, 3, 4, 5]\n",
    "arr2 = [2, 4,6, 8]\n",
    "result1 = mergeSortArrays(arr1, arr2)\n",
    "print('Example - 1 : ',result1)\n",
    "\n",
    "# Example - 2\n",
    "\n",
    "arr11 = [5, 8, 9]\n",
    "arr22 = [4, 7, 8]\n",
    "result2 = mergeSortArrays(arr11, arr22)\n",
    "print('\\nExample - 2 : ',result2)\n",
    "\n",
    "# Time Complexity - O(n + m)            \n",
    "# Space Complexity - O(n + m)"
   ]
  },
  {
   "cell_type": "markdown",
   "id": "b8885514",
   "metadata": {},
   "source": [
    "## Question - 7"
   ]
  },
  {
   "cell_type": "code",
   "execution_count": 7,
   "id": "d32f9c60",
   "metadata": {},
   "outputs": [
    {
     "name": "stdout",
     "output_type": "stream",
     "text": [
      "Example - 1 :  [2]\n",
      "\n",
      "Example - 2 :  [9, 4]\n"
     ]
    }
   ],
   "source": [
    "'Q7. '\n",
    "\n",
    "def CommonItems(arr1, arr2):\n",
    "    arr = []\n",
    "    set_1 = set(arr1)\n",
    "    set_2 = set(arr2)\n",
    "    \n",
    "    intersect = set_1.intersection(set_2)\n",
    "    arr.extend(list(intersect))\n",
    "    \n",
    "    return arr\n",
    "\n",
    "# Declaring values and checking for output\n",
    "\n",
    "# Example - 1\n",
    "\n",
    "arr1 = [1,2,2,1]\n",
    "arr2 = [2,2]\n",
    "result1 = CommonItems(arr1, arr2)\n",
    "print('Example - 1 : ',result1)\n",
    "\n",
    "# Example - 2\n",
    "\n",
    "arr11 = [4,9,5]\n",
    "arr22 = [9,4,9,8,4]\n",
    "result2 = CommonItems(arr11, arr22)\n",
    "print('\\nExample - 2 : ',result2)\n",
    "\n",
    "# Time Complexity - O(n1 + n2 + k)            \n",
    "# Space Complexity - O(n1 + n2 + k) "
   ]
  },
  {
   "cell_type": "markdown",
   "id": "685cedaa",
   "metadata": {},
   "source": [
    "## Question - 8"
   ]
  },
  {
   "cell_type": "code",
   "execution_count": 8,
   "id": "311b4339",
   "metadata": {},
   "outputs": [
    {
     "name": "stdout",
     "output_type": "stream",
     "text": [
      "Example - 1 :  [2, 2]\n",
      "\n",
      "Example - 2 :  [4, 9]\n"
     ]
    }
   ],
   "source": [
    "'Q8. '\n",
    "\n",
    "from collections import Counter\n",
    "def intersect(nums1, nums2):\n",
    "    counter1 = Counter(nums1)\n",
    "    counter2 = Counter(nums2)\n",
    "    \n",
    "    common = counter1 & counter2\n",
    "    \n",
    "    res = []\n",
    "    for num, count in common.items():\n",
    "        res.extend([num] * count)\n",
    "        \n",
    "    return res\n",
    "\n",
    "# Declaring values and checking for output\n",
    "\n",
    "# Example - 1\n",
    "\n",
    "arr1 = [1,2,2,1]\n",
    "arr2 = [2,2]\n",
    "result1 = intersect(arr1, arr2)\n",
    "print('Example - 1 : ',result1)\n",
    "\n",
    "# Example - 2\n",
    "\n",
    "arr11 = [4,9,5]\n",
    "arr22 = [9,4,9,8,4]\n",
    "result2 = intersect(arr11, arr22)\n",
    "print('\\nExample - 2 : ',result2)\n",
    "\n",
    "# Time Complexity - O(n1 + n2)            \n",
    "# Space Complexity - O(n1 + n2) "
   ]
  }
 ],
 "metadata": {
  "kernelspec": {
   "display_name": "Python 3 (ipykernel)",
   "language": "python",
   "name": "python3"
  },
  "language_info": {
   "codemirror_mode": {
    "name": "ipython",
    "version": 3
   },
   "file_extension": ".py",
   "mimetype": "text/x-python",
   "name": "python",
   "nbconvert_exporter": "python",
   "pygments_lexer": "ipython3",
   "version": "3.9.12"
  }
 },
 "nbformat": 4,
 "nbformat_minor": 5
}
