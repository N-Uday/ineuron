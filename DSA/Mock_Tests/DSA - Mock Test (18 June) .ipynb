{
 "cells": [
  {
   "cell_type": "markdown",
   "id": "50bdea26",
   "metadata": {},
   "source": [
    "# Question - 1"
   ]
  },
  {
   "cell_type": "code",
   "execution_count": 9,
   "id": "e0daca88",
   "metadata": {},
   "outputs": [
    {
     "name": "stdout",
     "output_type": "stream",
     "text": [
      "Example - 1 :  2\n",
      "Example - 2 :  2\n"
     ]
    }
   ],
   "source": [
    "'Q1.'\n",
    "\n",
    "def SquareRoot(x):\n",
    "    for i in range(x//2+1):\n",
    "        if i * i == x:\n",
    "            return i\n",
    "        elif i * i > x:\n",
    "            return i - 1\n",
    "        \n",
    "# Test Cases\n",
    "# Example - 1:\n",
    "X1 = 4\n",
    "print('Example - 1 : ',SquareRoot(X1))\n",
    "\n",
    "# Example - 2:\n",
    "X2 = 8\n",
    "print('Example - 2 : ',SquareRoot(X2))"
   ]
  },
  {
   "cell_type": "markdown",
   "id": "363d2536",
   "metadata": {},
   "source": [
    "## Question - 2"
   ]
  },
  {
   "cell_type": "code",
   "execution_count": 10,
   "id": "876a16f3",
   "metadata": {},
   "outputs": [],
   "source": [
    "'Q2.'\n",
    "\n",
    "class LinkedList(object):\n",
    "    def __init__(self, val = 0, next = None):\n",
    "        self.val = val\n",
    "        self.next = None\n",
    "        \n",
    "def sumOfNodes(l1, l2):\n",
    "    if not l1 and not l2:\n",
    "        return l1 and l2\n",
    "    \n",
    "    p = l1\n",
    "    q = l2\n",
    "    \n",
    "    p_str = ''\n",
    "    q_str = ''\n",
    "    \n",
    "    while p or q:\n",
    "        if p:\n",
    "            p_str = str(p.val) + p_str\n",
    "            p = p.next\n",
    "            \n",
    "        if q:\n",
    "            q_str = str(q.val) + q_str\n",
    "            q = q.next        \n",
    "        \n",
    "    total = int(p_str) + int(q_str)\n",
    "    \n",
    "    head = LinkedList(total % 10)\n",
    "    curr = head\n",
    "    total //= 10\n",
    "    \n",
    "    while total > 0:\n",
    "        curr.next = LinkedList(total % 10)\n",
    "        curr = curr.next\n",
    "        total //= 10\n",
    "        \n",
    "    return head"
   ]
  },
  {
   "cell_type": "code",
   "execution_count": 18,
   "id": "574a2c2e",
   "metadata": {},
   "outputs": [],
   "source": [
    "# Create Linked List\n",
    "def CreateLL(nums):\n",
    "    head = LinkedList(nums[0])\n",
    "    curr = head\n",
    "    for i in nums[1:]:\n",
    "        temp = LinkedList(i)\n",
    "        curr.next = temp\n",
    "        curr = temp\n",
    "    return head   \n",
    "    \n",
    "# Print Linked List\n",
    "def printLL(head, string):\n",
    "    curr = head\n",
    "    print(string,' : ', end = ' ')\n",
    "    while curr:\n",
    "        print(curr.val, end = \" -> \")\n",
    "        curr = curr.next\n",
    "    print(None)"
   ]
  },
  {
   "cell_type": "code",
   "execution_count": 19,
   "id": "fe91d4c9",
   "metadata": {},
   "outputs": [
    {
     "name": "stdout",
     "output_type": "stream",
     "text": [
      "Example - 1  :  7 -> 0 -> 8 -> None\n",
      "Example - 2  :  0 -> None\n",
      "Example - 3  :  8 -> 9 -> 9 -> 9 -> 0 -> 0 -> 0 -> 1 -> None\n"
     ]
    }
   ],
   "source": [
    "# Test Cases\n",
    "\n",
    "# Example - 1\n",
    "\n",
    "lst1 = [2, 4, 3]\n",
    "lst11 = [5, 6, 4]\n",
    "l1 = CreateLL(lst1)\n",
    "l11 = CreateLL(lst11)\n",
    "result = sumOfNodes(l1, l11)\n",
    "printLL(result, 'Example - 1')\n",
    "\n",
    "\n",
    "# Example - 2\n",
    "\n",
    "lst2 = [0]\n",
    "lst22 = [0]\n",
    "l2 = CreateLL(lst2)\n",
    "l22 = CreateLL(lst22)\n",
    "result = sumOfNodes(l2, l22)\n",
    "printLL(result, 'Example - 2')\n",
    "\n",
    "\n",
    "# Example - 3\n",
    "\n",
    "lst3 = [9, 9, 9, 9, 9, 9, 9]\n",
    "lst33 = [9, 9, 9, 9]\n",
    "l3 = CreateLL(lst3)\n",
    "l33 = CreateLL(lst33)\n",
    "result = sumOfNodes(l3, l33)\n",
    "printLL(result, 'Example - 3')"
   ]
  }
 ],
 "metadata": {
  "kernelspec": {
   "display_name": "Python 3 (ipykernel)",
   "language": "python",
   "name": "python3"
  },
  "language_info": {
   "codemirror_mode": {
    "name": "ipython",
    "version": 3
   },
   "file_extension": ".py",
   "mimetype": "text/x-python",
   "name": "python",
   "nbconvert_exporter": "python",
   "pygments_lexer": "ipython3",
   "version": "3.9.12"
  }
 },
 "nbformat": 4,
 "nbformat_minor": 5
}
