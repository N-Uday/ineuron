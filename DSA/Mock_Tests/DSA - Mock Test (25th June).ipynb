{
 "cells": [
  {
   "cell_type": "markdown",
   "id": "d7aaf4f6",
   "metadata": {},
   "source": [
    "# Question 1"
   ]
  },
  {
   "cell_type": "code",
   "execution_count": 1,
   "id": "d517abdc",
   "metadata": {},
   "outputs": [
    {
     "name": "stdout",
     "output_type": "stream",
     "text": [
      "Stack is Empty\n",
      "Stack in UnderFlow Condition\n",
      "Values in Stack :  2 1 \n",
      "2\n",
      "3\n",
      "Values in Stack :  4 1 \n"
     ]
    },
    {
     "data": {
      "text/plain": [
       "False"
      ]
     },
     "execution_count": 1,
     "metadata": {},
     "output_type": "execute_result"
    }
   ],
   "source": [
    "'Q1. '\n",
    "\n",
    "class Stack:\n",
    "    def __init__(self):\n",
    "        self.stack = []\n",
    "    \n",
    "    def push(self, val):\n",
    "        self.stack.append(val)\n",
    "        \n",
    "    def pop(self):\n",
    "        if self.isEmpty():\n",
    "            print(\"Stack in UnderFlow Condition\")\n",
    "            return None\n",
    "        return self.stack.pop()\n",
    "   \n",
    "    def isEmpty(self):\n",
    "        return len(self.stack) == 0\n",
    "    \n",
    "    def print_stack(self):\n",
    "        if self.isEmpty():\n",
    "            print(\"Stack is Empty\")\n",
    "            return\n",
    "        print('Values in Stack : ', end = ' ')\n",
    "        for item in reversed(self.stack):\n",
    "            print(item, end = ' ')\n",
    "        print()\n",
    "    \n",
    "# Test Case\n",
    "\n",
    "stack = Stack()\n",
    "stack.print_stack()\n",
    "stack.pop()\n",
    "stack.push(1)\n",
    "stack.push(2)\n",
    "stack.print_stack()\n",
    "print(stack.pop())\n",
    "stack.push(3)\n",
    "print(stack.pop())\n",
    "stack.push(4)\n",
    "stack.print_stack()\n",
    "stack.isEmpty()"
   ]
  },
  {
   "cell_type": "markdown",
   "id": "4e09ec1d",
   "metadata": {},
   "source": [
    "# Question - 2"
   ]
  },
  {
   "cell_type": "code",
   "execution_count": 2,
   "id": "7be62247",
   "metadata": {},
   "outputs": [
    {
     "name": "stdout",
     "output_type": "stream",
     "text": [
      "Queue in UnderFlow condition\n",
      "1 2 3 \n",
      "1\n",
      "2\n",
      "False\n",
      "3\n",
      "True\n",
      "Queue is Empty\n"
     ]
    }
   ],
   "source": [
    "'Q2. '\n",
    "\n",
    "from queue import Queue\n",
    "class customQueue:\n",
    "    \n",
    "    def __init__(self):\n",
    "        self.queue = Queue()\n",
    "    \n",
    "    def enqueue(self, value):\n",
    "        self.queue.put(value)\n",
    "        \n",
    "    def dequeue(self):\n",
    "        if self.isEmpty():\n",
    "            print(\"Queue in UnderFlow condition\")\n",
    "            return None\n",
    "        return self.queue.get()\n",
    "    \n",
    "    def isEmpty(self):\n",
    "        return self.queue.empty()\n",
    "    \n",
    "    def print_queue(self):\n",
    "        if self.isEmpty():\n",
    "            print(\"Queue is Empty\")\n",
    "            return\n",
    "        else:\n",
    "            for item in list(self.queue.queue):\n",
    "                print(item, end = ' ')\n",
    "            print()\n",
    "            \n",
    "queue = customQueue()\n",
    "queue.dequeue()\n",
    "queue.enqueue(1)\n",
    "queue.enqueue(2)\n",
    "queue.enqueue(3)\n",
    "queue.print_queue()\n",
    "print(queue.dequeue())  \n",
    "print(queue.dequeue())  \n",
    "print(queue.isEmpty())  \n",
    "print(queue.dequeue())  \n",
    "print(queue.isEmpty())\n",
    "queue.print_queue()"
   ]
  }
 ],
 "metadata": {
  "kernelspec": {
   "display_name": "Python 3 (ipykernel)",
   "language": "python",
   "name": "python3"
  },
  "language_info": {
   "codemirror_mode": {
    "name": "ipython",
    "version": 3
   },
   "file_extension": ".py",
   "mimetype": "text/x-python",
   "name": "python",
   "nbconvert_exporter": "python",
   "pygments_lexer": "ipython3",
   "version": "3.9.12"
  }
 },
 "nbformat": 4,
 "nbformat_minor": 5
}
