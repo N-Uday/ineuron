{
 "cells": [
  {
   "cell_type": "markdown",
   "id": "319e72e1",
   "metadata": {},
   "source": [
    "### Question - A"
   ]
  },
  {
   "cell_type": "code",
   "execution_count": null,
   "id": "1830958c",
   "metadata": {},
   "outputs": [],
   "source": [
    "from airflow import DAG\n",
    "from airflow.operators.bash_operator import BashOperator\n",
    "from datetime import datetime\n",
    "\n",
    "default_args = {\n",
    "    'start_date': datetime(2023, 1, 1),\n",
    "}\n",
    "\n",
    "dag = DAG(\n",
    "    'shell_command_dag',\n",
    "    default_args=default_args,\n",
    "    description='DAG to execute a shell command',\n",
    "    schedule_interval=None,\n",
    ")\n",
    "\n",
    "t1 = BashOperator(\n",
    "    task_id='execute_shell_command',\n",
    "    bash_command='echo \"Hello, World!\"',\n",
    "    dag=dag,\n",
    ")\n"
   ]
  },
  {
   "cell_type": "markdown",
   "id": "fc0683e6",
   "metadata": {},
   "source": [
    "### Question - B"
   ]
  },
  {
   "cell_type": "code",
   "execution_count": null,
   "id": "2766360b",
   "metadata": {},
   "outputs": [],
   "source": [
    "from airflow import DAG\n",
    "from airflow.operators.python_operator import PythonOperator\n",
    "from datetime import datetime\n",
    "\n",
    "def process_input(input_value):\n",
    "    # Perform processing based on input_value\n",
    "    print(f\"Processing input: {input_value}\")\n",
    "\n",
    "default_args = {\n",
    "    'start_date': datetime(2023, 1, 1),\n",
    "}\n",
    "\n",
    "dag = DAG(\n",
    "    'dynamic_task_dag',\n",
    "    default_args=default_args,\n",
    "    description='DAG to generate tasks dynamically',\n",
    "    schedule_interval=None,\n",
    ")\n",
    "\n",
    "input_list = ['input1', 'input2', 'input3']\n",
    "\n",
    "tasks = []\n",
    "for input_value in input_list:\n",
    "    task_id = f'task_{input_value}'\n",
    "    task = PythonOperator(\n",
    "        task_id=task_id,\n",
    "        python_callable=process_input,\n",
    "        op_kwargs={'input_value': input_value},\n",
    "        dag=dag,\n",
    "    )\n",
    "    tasks.append(task)\n",
    "\n",
    "# Set up task dependencies\n",
    "for i in range(1, len(tasks)):\n",
    "    tasks[i] >> tasks[i - 1]\n"
   ]
  },
  {
   "cell_type": "markdown",
   "id": "091cfd0f",
   "metadata": {},
   "source": [
    "### Question - C"
   ]
  },
  {
   "cell_type": "code",
   "execution_count": null,
   "id": "fda976de",
   "metadata": {},
   "outputs": [],
   "source": [
    "from airflow import DAG\n",
    "from airflow.operators.dagrun_operator import TriggerDagRunOperator\n",
    "from datetime import datetime\n",
    "\n",
    "default_args = {\n",
    "    'start_date': datetime(2023, 1, 1),\n",
    "}\n",
    "\n",
    "dag = DAG(\n",
    "    'task_dependency_dag',\n",
    "    default_args=default_args,\n",
    "    description='DAG with task dependency',\n",
    "    schedule_interval=None,\n",
    ")\n",
    "\n",
    "t1 = TriggerDagRunOperator(\n",
    "    task_id='trigger_dag_run',\n",
    "    trigger_dag_id='dependent_dag',\n",
    "    dag=dag,\n",
    ")\n"
   ]
  }
 ],
 "metadata": {
  "kernelspec": {
   "display_name": "Python 3 (ipykernel)",
   "language": "python",
   "name": "python3"
  },
  "language_info": {
   "codemirror_mode": {
    "name": "ipython",
    "version": 3
   },
   "file_extension": ".py",
   "mimetype": "text/x-python",
   "name": "python",
   "nbconvert_exporter": "python",
   "pygments_lexer": "ipython3",
   "version": "3.9.12"
  }
 },
 "nbformat": 4,
 "nbformat_minor": 5
}
