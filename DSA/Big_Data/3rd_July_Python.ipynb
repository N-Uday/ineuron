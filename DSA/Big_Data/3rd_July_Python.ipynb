{
 "cells": [
  {
   "cell_type": "markdown",
   "id": "c2c290e6",
   "metadata": {},
   "source": [
    "# Assignment - 1"
   ]
  },
  {
   "cell_type": "markdown",
   "id": "cb6838bd",
   "metadata": {},
   "source": [
    "## Question - 1"
   ]
  },
  {
   "cell_type": "code",
   "execution_count": 1,
   "id": "95f2e09a",
   "metadata": {},
   "outputs": [
    {
     "name": "stdout",
     "output_type": "stream",
     "text": [
      "Example - 1 :  True\n",
      "Example - 2 :  True\n",
      "Example - 3 :  False\n"
     ]
    }
   ],
   "source": [
    "'''Q1. Two words are called anagrams when one word is formed \n",
    "by rearranging the letters of another word'''\n",
    "\n",
    "def isAnagram(string1, string2):\n",
    "    # if any word has more or less chars then it is not an anagram\n",
    "    if len(string1) != len(string2):\n",
    "        return False\n",
    "    \n",
    "    # sorts alphabetically\n",
    "    return sorted(string1) == sorted(string2)\n",
    "\n",
    "# Declaring values and checking for output\n",
    "\n",
    "# Example - 1\n",
    "\n",
    "string1 = 'ant'\n",
    "string2 = 'tan'\n",
    "print('Example - 1 : ', isAnagram(string1, string2))\n",
    "\n",
    "# Example - 2\n",
    "      \n",
    "s1 = 'tea'\n",
    "s2 = 'eat'\n",
    "print('Example - 2 : ', isAnagram(s1, s2))\n",
    "\n",
    "# Example - 3\n",
    "      \n",
    "s3 = 'pot'\n",
    "s4 = 'tip'\n",
    "print('Example - 3 : ', isAnagram(s3, s4))"
   ]
  },
  {
   "cell_type": "markdown",
   "id": "b170b9c6",
   "metadata": {},
   "source": [
    "## Question - 2"
   ]
  },
  {
   "cell_type": "code",
   "execution_count": 2,
   "id": "97b6c232",
   "metadata": {},
   "outputs": [
    {
     "data": {
      "text/plain": [
       "'Jaguar has maximum value and Hyundai has minimum value'"
      ]
     },
     "execution_count": 2,
     "metadata": {},
     "output_type": "execute_result"
    }
   ],
   "source": [
    "'Q2. '\n",
    "\n",
    "# key_max_1 = max(cars_dict.keys(), key = (lambda x : cars_dict[x]))\n",
    "# key_min_1 = min(cars_dict.keys(), key = (lambda x : cars_dict[x]))\n",
    "\n",
    "def MaxMin(nums_dict):\n",
    "    \n",
    "    key_max = None\n",
    "    key_min = None\n",
    "    min_val = float('inf')\n",
    "    max_val = float('-inf')\n",
    "    \n",
    "    for key, value in nums_dict.items():\n",
    "        if value > max_val:\n",
    "            max_val = value\n",
    "            key_max = key\n",
    "        if value < min_val:\n",
    "            min_val = value\n",
    "            key_min = key\n",
    "    \n",
    "    return f'{key_max} has maximum value and {key_min} has minimum value'\n",
    "\n",
    "# Declaring values and checking for output\n",
    "\n",
    "cars_dict = {'Audi':100, 'BMW':1292, 'Jaguar': 210000, 'Hyundai' : 88}\n",
    "MaxMin(cars_dict)"
   ]
  },
  {
   "cell_type": "markdown",
   "id": "37dacae8",
   "metadata": {},
   "source": [
    "## Question - 3"
   ]
  },
  {
   "cell_type": "code",
   "execution_count": 3,
   "id": "6eb62f2e",
   "metadata": {},
   "outputs": [
    {
     "data": {
      "text/plain": [
       "4.14"
      ]
     },
     "execution_count": 3,
     "metadata": {},
     "output_type": "execute_result"
    }
   ],
   "source": [
    "'Q3. '\n",
    "\n",
    "def AverageOfNums(nums):\n",
    "    n = len(nums)\n",
    "    if n == 0:\n",
    "        return 0\n",
    "    \n",
    "    total = sum(nums)\n",
    "    \n",
    "    return round(total / n, 2)\n",
    "\n",
    "# Declaring values and checking for output\n",
    "\n",
    "nums = [1, 2, 3, 4, 5, 6, 8]\n",
    "AverageOfNums(nums)"
   ]
  },
  {
   "cell_type": "markdown",
   "id": "4e3884a2",
   "metadata": {},
   "source": [
    "## Question - 4"
   ]
  },
  {
   "cell_type": "code",
   "execution_count": 4,
   "id": "48a6415e",
   "metadata": {},
   "outputs": [
    {
     "name": "stdout",
     "output_type": "stream",
     "text": [
      "Ths s nrn pythn ssgnmnt\n"
     ]
    }
   ],
   "source": [
    "'Q4. '\n",
    "\n",
    "def remove_vowels(string):\n",
    "    vowels = \"aeiouAEIOU\"\n",
    "    result = ''\n",
    "    for char in string:\n",
    "        if char not in vowels:\n",
    "            result += char\n",
    "    return result\n",
    "  \n",
    "# Declaring values and checking for output\n",
    "\n",
    "string = \"This is ineuron python assignment\"\n",
    "output = remove_vowels(string)\n",
    "print(output)"
   ]
  },
  {
   "cell_type": "markdown",
   "id": "dab26859",
   "metadata": {},
   "source": [
    "## Question - 5"
   ]
  },
  {
   "cell_type": "code",
   "execution_count": 5,
   "id": "5236a09e",
   "metadata": {},
   "outputs": [
    {
     "name": "stdout",
     "output_type": "stream",
     "text": [
      "factorial of 5 :  120\n",
      "factorial of 10 :  3628800\n"
     ]
    }
   ],
   "source": [
    "'Q5. '\n",
    "\n",
    "def factorial(num):\n",
    "    if num < 0:\n",
    "        return False\n",
    "    if num <= 1: \n",
    "        return 1\n",
    "    \n",
    "    return num * factorial(num - 1)\n",
    "\n",
    "# Declaring values and checking for output\n",
    "\n",
    "print('factorial of 5 : ', factorial(5))\n",
    "print('factorial of 10 : ', factorial(10))"
   ]
  },
  {
   "cell_type": "markdown",
   "id": "2ccfa0e7",
   "metadata": {},
   "source": [
    "## Question - 6"
   ]
  },
  {
   "cell_type": "code",
   "execution_count": 6,
   "id": "5f2daa82",
   "metadata": {},
   "outputs": [
    {
     "name": "stdout",
     "output_type": "stream",
     "text": [
      "[1, 2, 3, 4, 5, 6, 7, 10, 11, 20, 30]\n"
     ]
    }
   ],
   "source": [
    "'Q6. '\n",
    "\n",
    "def merge_sort(arr):\n",
    "    if len(arr) <= 1:\n",
    "        return arr\n",
    "    \n",
    "    mid = len(arr) // 2\n",
    "    left = arr[:mid]\n",
    "    right = arr[mid:]\n",
    "    \n",
    "    left = merge_sort(left)\n",
    "    right = merge_sort(right)\n",
    "    \n",
    "    return merge(left, right)\n",
    "\n",
    "def merge(left, right):\n",
    "    merged = []\n",
    "    i = j = 0\n",
    "    \n",
    "    while i < len(left) and j < len(right):\n",
    "        if left[i] < right[j]:\n",
    "            merged.append(left[i])\n",
    "            i += 1\n",
    "        else: \n",
    "            merged.append(right[j])\n",
    "            j += 1\n",
    "            \n",
    "    while i < len(left):\n",
    "        merged.append(left[i])\n",
    "        i += 1\n",
    "        \n",
    "    while j < len(right):\n",
    "        merged.append(right[j])\n",
    "        j += 1\n",
    "      \n",
    "    return merged\n",
    "\n",
    "# Declaring values and checking for output\n",
    "\n",
    "list1 = [20, 10, 30, 1, 4, 6]\n",
    "list2 = [2, 3, 5, 7, 11]\n",
    "merged_list = merge_sort(list1 + list2)\n",
    "print(merged_list)\n",
    "\n",
    "# Time Complexity - O(nlogn)\n",
    "# Space Complexity - O(n)"
   ]
  },
  {
   "cell_type": "markdown",
   "id": "c97a6d10",
   "metadata": {},
   "source": [
    "## Question - 7"
   ]
  },
  {
   "cell_type": "code",
   "execution_count": 7,
   "id": "3e37890a",
   "metadata": {},
   "outputs": [
    {
     "name": "stdout",
     "output_type": "stream",
     "text": [
      "GCD: 32\n"
     ]
    }
   ],
   "source": [
    "'Q7. '\n",
    "\n",
    "def GCD(num1, num2):\n",
    "    while num2 != 0:\n",
    "        num1, num2 = num2, num1 % num2\n",
    "    return num1\n",
    "\n",
    "# Declaring values and checking for output\n",
    "\n",
    "num1 = 96\n",
    "num2 = 128\n",
    "result = GCD(num1, num2)\n",
    "print(\"GCD:\", result)"
   ]
  },
  {
   "cell_type": "markdown",
   "id": "b0659f8a",
   "metadata": {},
   "source": [
    "## Question - 8"
   ]
  },
  {
   "cell_type": "code",
   "execution_count": 8,
   "id": "f4346fc4",
   "metadata": {},
   "outputs": [
    {
     "name": "stdout",
     "output_type": "stream",
     "text": [
      "Second largest element: 50\n"
     ]
    }
   ],
   "source": [
    "'Q8. '\n",
    "\n",
    "def find_second_largest(nums):\n",
    "    if len(nums) < 2:\n",
    "        return None\n",
    "\n",
    "    largest = float('-inf')\n",
    "    second_largest = float('-inf')\n",
    "\n",
    "    for num in nums:\n",
    "        if num > largest:\n",
    "            second_largest = largest\n",
    "            largest = num\n",
    "        elif num > second_largest and num != largest:\n",
    "            second_largest = num\n",
    "\n",
    "    if second_largest == float('-inf'):\n",
    "        return None\n",
    "    else:\n",
    "        return second_largest\n",
    "\n",
    "# Declaring values and checking for output\n",
    "\n",
    "nums = [96, 10, 20, 30, 40, 50]\n",
    "result = find_second_largest(nums)\n",
    "\n",
    "if result is None:\n",
    "    print(\"No second largest element found\")\n",
    "else:\n",
    "    print(\"Second largest element:\", result)"
   ]
  },
  {
   "cell_type": "markdown",
   "id": "dea6e07a",
   "metadata": {},
   "source": [
    "## Question - 9"
   ]
  },
  {
   "cell_type": "code",
   "execution_count": 9,
   "id": "4fb57b60",
   "metadata": {},
   "outputs": [
    {
     "name": "stdout",
     "output_type": "stream",
     "text": [
      "Longest Common Subsequence: GTAB\n"
     ]
    }
   ],
   "source": [
    "'Q9. '\n",
    "\n",
    "def find_lcs(str1, str2):\n",
    "    m = len(str1)\n",
    "    n = len(str2)\n",
    "\n",
    "    # Create a 2D table \n",
    "    dp = [[0] * (n + 1) for _ in range(m + 1)]\n",
    "\n",
    "    for i in range(1, m + 1):\n",
    "        for j in range(1, n + 1):\n",
    "            if str1[i - 1] == str2[j - 1]:\n",
    "                dp[i][j] = dp[i - 1][j - 1] + 1\n",
    "            else:\n",
    "                dp[i][j] = max(dp[i - 1][j], dp[i][j - 1])\n",
    "\n",
    "    lcs = ''\n",
    "    i, j = m, n\n",
    "    while i > 0 and j > 0:\n",
    "        if str1[i - 1] == str2[j - 1]:\n",
    "            lcs = str1[i - 1] + lcs\n",
    "            i -= 1\n",
    "            j -= 1\n",
    "        elif dp[i - 1][j] > dp[i][j - 1]:\n",
    "            i -= 1\n",
    "        else:\n",
    "            j -= 1\n",
    "\n",
    "    return lcs\n",
    "\n",
    "# Declaring values and checking for output\n",
    "\n",
    "string1 = \"AGGTAB\"\n",
    "string2 = \"GXTXAYB\"\n",
    "lcs = find_lcs(string1, string2)\n",
    "print(\"Longest Common Subsequence:\", lcs)"
   ]
  }
 ],
 "metadata": {
  "kernelspec": {
   "display_name": "Python 3 (ipykernel)",
   "language": "python",
   "name": "python3"
  },
  "language_info": {
   "codemirror_mode": {
    "name": "ipython",
    "version": 3
   },
   "file_extension": ".py",
   "mimetype": "text/x-python",
   "name": "python",
   "nbconvert_exporter": "python",
   "pygments_lexer": "ipython3",
   "version": "3.9.12"
  }
 },
 "nbformat": 4,
 "nbformat_minor": 5
}
