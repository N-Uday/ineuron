{
 "cells": [
  {
   "cell_type": "markdown",
   "id": "f3bfec14",
   "metadata": {},
   "source": [
    "1. Extraction:\n",
    "\n",
    "Read data from CSV files using the csv module or pandas library.\n",
    "\n",
    "2. Transformation:\n",
    "\n",
    "Apply business rules or calculations to manipulate and clean the data.\n",
    "Perform data validation, filtering, or aggregation based on specific requirements.\n",
    "Convert data types or handle missing values as needed.\n",
    "\n",
    "3. Loading:\n",
    "\n",
    "Connect to the data warehouse using appropriate libraries (e.g., psycopg2 for PostgreSQL).\n",
    "Create a table or collection in the data warehouse to store the transformed data.\n",
    "Insert or update the transformed data into the data warehouse."
   ]
  },
  {
   "cell_type": "code",
   "execution_count": null,
   "id": "4d0e3143",
   "metadata": {},
   "outputs": [],
   "source": [
    "import csv\n",
    "import psycopg2\n",
    "\n",
    "# Extraction\n",
    "data = []\n",
    "with open('data.csv', 'r') as file:\n",
    "    reader = csv.reader(file)\n",
    "    for row in reader:\n",
    "        data.append(row)\n",
    "\n",
    "# Transformation\n",
    "transformed_data = []\n",
    "for row in data:\n",
    "    # Apply business rules or calculations\n",
    "    transformed_row = [row[0], row[1].upper(), float(row[2]) * 1.1]\n",
    "    transformed_data.append(transformed_row)\n",
    "\n",
    "# Loading\n",
    "# Connect to the data warehouse (PostgreSQL example)\n",
    "conn = psycopg2.connect(\n",
    "    host='localhost',\n",
    "    port='5432',\n",
    "    database='your_database',\n",
    "    user='your_username',\n",
    "    password='your_password'\n",
    ")\n",
    "cursor = conn.cursor()\n",
    "\n",
    "# Create a table in the data warehouse if it doesn't exist\n",
    "create_table_query = '''\n",
    "CREATE TABLE IF NOT EXISTS transformed_data (\n",
    "    id INT,\n",
    "    name VARCHAR(100),\n",
    "    amount FLOAT\n",
    ");\n",
    "'''\n",
    "cursor.execute(create_table_query)\n",
    "conn.commit()\n",
    "\n",
    "# Insert the transformed data into the data warehouse\n",
    "for row in transformed_data:\n",
    "    insert_query = '''\n",
    "    INSERT INTO transformed_data (id, name, amount)\n",
    "    VALUES (%s, %s, %s);\n",
    "    '''\n",
    "    cursor.execute(insert_query, (row[0], row[1], row[2]))\n",
    "    conn.commit()\n",
    "\n",
    "# Close the database connection\n",
    "cursor.close()\n",
    "conn.close()\n"
   ]
  }
 ],
 "metadata": {
  "kernelspec": {
   "display_name": "Python 3 (ipykernel)",
   "language": "python",
   "name": "python3"
  },
  "language_info": {
   "codemirror_mode": {
    "name": "ipython",
    "version": 3
   },
   "file_extension": ".py",
   "mimetype": "text/x-python",
   "name": "python",
   "nbconvert_exporter": "python",
   "pygments_lexer": "ipython3",
   "version": "3.9.12"
  }
 },
 "nbformat": 4,
 "nbformat_minor": 5
}
