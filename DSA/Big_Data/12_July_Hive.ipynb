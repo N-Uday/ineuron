{
 "cells": [
  {
   "cell_type": "markdown",
   "id": "96f54c1d",
   "metadata": {},
   "source": [
    "## Question - 1"
   ]
  },
  {
   "cell_type": "code",
   "execution_count": null,
   "id": "da7bf4a0",
   "metadata": {},
   "outputs": [],
   "source": [
    "from pyhive import hive\n",
    "\n",
    "# Connection\n",
    "conn = hive.Connection(host=\"localhost\", port=10000, username=\"uday\")\n",
    "\n",
    "# Create table query\n",
    "create_table_query = \"\"\"\n",
    "    CREATE TABLE Employees (\n",
    "        id INT,\n",
    "        name STRING,\n",
    "        salary FLOAT\n",
    "    )\n",
    "\"\"\"\n",
    "\n",
    "# Execute the query\n",
    "with conn.cursor() as cursor:\n",
    "    cursor.execute(create_table_query)\n",
    "\n",
    "# Close connection\n",
    "conn.close()\n"
   ]
  },
  {
   "cell_type": "markdown",
   "id": "55d8a275",
   "metadata": {},
   "source": [
    "## Question - 2"
   ]
  },
  {
   "cell_type": "code",
   "execution_count": null,
   "id": "562f0428",
   "metadata": {},
   "outputs": [],
   "source": [
    "from pyhive import hive\n",
    "\n",
    "# Connection\n",
    "conn = hive.Connection(host=\"localhost\", port=10000, username=\"uday\")\n",
    "\n",
    "# Query to retrieve records\n",
    "query = \"\"\"\n",
    "    SELECT *\n",
    "    FROM Customers\n",
    "    WHERE age > 30\n",
    "\"\"\"\n",
    "\n",
    "# Execute query\n",
    "with conn.cursor() as cursor:\n",
    "    cursor.execute(query)\n",
    "    results = cursor.fetchall()\n",
    "\n",
    "# results\n",
    "for row in results:\n",
    "    print(row)\n",
    "\n",
    "# Close the connection\n",
    "conn.close()\n"
   ]
  },
  {
   "cell_type": "markdown",
   "id": "f9b02109",
   "metadata": {},
   "source": [
    "## Question - 3"
   ]
  },
  {
   "cell_type": "code",
   "execution_count": null,
   "id": "0b5f5e1b",
   "metadata": {},
   "outputs": [],
   "source": [
    "from pyhive import hive\n",
    "\n",
    "# Connect to Hive server\n",
    "conn = hive.Connection(host=\"localhost\", port=10000, username=\"uday\")\n",
    "\n",
    "# Query to sort records\n",
    "query = \"\"\"\n",
    "    SELECT *\n",
    "    FROM Logs\n",
    "    ORDER BY timestamp DESC\n",
    "\"\"\"\n",
    "\n",
    "# Execute the query\n",
    "with conn.cursor() as cursor:\n",
    "    cursor.execute(query)\n",
    "    results = cursor.fetchall()\n",
    "\n",
    "# Process the results\n",
    "for row in results:\n",
    "    print(row)\n",
    "\n",
    "# Close the connection\n",
    "conn.close()\n"
   ]
  },
  {
   "cell_type": "markdown",
   "id": "0208f724",
   "metadata": {},
   "source": [
    "## Question - 4"
   ]
  },
  {
   "cell_type": "code",
   "execution_count": null,
   "id": "a68d677b",
   "metadata": {},
   "outputs": [],
   "source": [
    "from pyhive import hive\n",
    "\n",
    "# Connect to Hive server\n",
    "conn = hive.Connection(host=\"localhost\", port=10000, username=\"uday\")\n",
    "\n",
    "# Query to retrieve all records\n",
    "query = \"\"\"\n",
    "    SELECT *\n",
    "    FROM Products\n",
    "\"\"\"\n",
    "\n",
    "# Execute the query\n",
    "with conn.cursor() as cursor:\n",
    "    cursor.execute(query)\n",
    "    results = cursor.fetchall()\n",
    "\n",
    "# Process the results\n",
    "for row in results:\n",
    "    print(row)\n",
    "\n",
    "# Close the connection\n",
    "conn.close()\n"
   ]
  },
  {
   "cell_type": "markdown",
   "id": "ffcc15e9",
   "metadata": {},
   "source": [
    "## Question - 5"
   ]
  },
  {
   "cell_type": "code",
   "execution_count": null,
   "id": "cac17366",
   "metadata": {},
   "outputs": [],
   "source": [
    "from pyhive import hive\n",
    "\n",
    "# Connect to Hive server\n",
    "conn = hive.Connection(host=\"localhost\", port=10000, username=\"uday\")\n",
    "\n",
    "# Query to calculate average salary\n",
    "query = \"\"\"\n",
    "    SELECT AVG(salary) AS average_salary\n",
    "    FROM Employees\n",
    "\"\"\"\n",
    "\n",
    "# Execute the query\n",
    "with conn.cursor() as cursor:\n",
    "    cursor.execute(query)\n",
    "    result = cursor.fetchone()\n",
    "\n",
    "# Process the result\n",
    "average_salary = result[0]\n",
    "print(\"Average Salary:\", average_salary)\n",
    "\n",
    "# Close the connection\n",
    "conn.close()\n"
   ]
  },
  {
   "cell_type": "markdown",
   "id": "3e499961",
   "metadata": {},
   "source": [
    "## Question - 6"
   ]
  },
  {
   "cell_type": "code",
   "execution_count": null,
   "id": "03d00756",
   "metadata": {},
   "outputs": [],
   "source": [
    "from pyhive import hive\n",
    "\n",
    "# Connect to Hive server\n",
    "conn = hive.Connection(host=\"localhost\", port=10000, username=\"uday\")\n",
    "\n",
    "# Create partitioned table query\n",
    "create_table_query = \"\"\"\n",
    "    CREATE TABLE Sales_Data (\n",
    "        prod_id int,\n",
    "        year int,\n",
    "        month int,\n",
    "        amount float\n",
    "    )\n",
    "    PARTITIONED BY (year INT, month INT)\n",
    "\"\"\"\n",
    "\n",
    "# Execute the query\n",
    "with conn.cursor() as cursor:\n",
    "    cursor.execute(create_table_query)\n",
    "\n",
    "# Close the connection\n",
    "conn.close()\n"
   ]
  },
  {
   "cell_type": "markdown",
   "id": "6f361662",
   "metadata": {},
   "source": [
    "## Question - 7"
   ]
  },
  {
   "cell_type": "code",
   "execution_count": null,
   "id": "76c19577",
   "metadata": {},
   "outputs": [],
   "source": [
    "from pyhive import hive\n",
    "\n",
    "# Connect to Hive server\n",
    "conn = hive.Connection(host=\"localhost\", port=10000, username=\"uday\")\n",
    "\n",
    "# Alter table query to add a new column\n",
    "alter_table_query = \"\"\"\n",
    "    ALTER TABLE Employees\n",
    "    ADD COLUMNS (email STRING)\n",
    "\"\"\"\n",
    "\n",
    "# Execute the query\n",
    "with conn.cursor() as cursor:\n",
    "    cursor.execute(alter_table_query)\n",
    "\n",
    "# Close the connection\n",
    "conn.close()\n"
   ]
  },
  {
   "cell_type": "markdown",
   "id": "9ef3c7fe",
   "metadata": {},
   "source": [
    "## Question - 8"
   ]
  },
  {
   "cell_type": "code",
   "execution_count": null,
   "id": "9dcd114d",
   "metadata": {},
   "outputs": [],
   "source": [
    "from pyhive import hive\n",
    "\n",
    "# Connect to Hive server\n",
    "conn = hive.Connection(host=\"localhost\", port=10000, username=\"uday\")\n",
    "\n",
    "# Query to perform inner join\n",
    "query = \"\"\"\n",
    "    SELECT *\n",
    "    FROM Orders\n",
    "    INNER JOIN Customers ON Orders.customer_id = Customers.customer_id\n",
    "\"\"\"\n",
    "\n",
    "# Execute the query\n",
    "with conn.cursor() as cursor:\n",
    "    cursor.execute(query)\n",
    "    results = cursor.fetchall()\n",
    "\n",
    "# Process the results\n",
    "for row in results:\n",
    "    print(row)\n",
    "\n",
    "# Close the connection\n",
    "conn.close()\n"
   ]
  },
  {
   "cell_type": "markdown",
   "id": "3b6b1237",
   "metadata": {},
   "source": [
    "## Question - 9"
   ]
  },
  {
   "cell_type": "code",
   "execution_count": null,
   "id": "69f29f13",
   "metadata": {},
   "outputs": [],
   "source": [
    "from pyhive import hive\n",
    "\n",
    "# Connect to Hive server\n",
    "conn = hive.Connection(host=\"localhost\", port=10000, username=\"uday\")\n",
    "\n",
    "# Query to retrieve JSON data\n",
    "query = \"\"\"\n",
    "    SELECT *\n",
    "    FROM User_Activity_Logs\n",
    "\"\"\"\n",
    "\n",
    "# Execute the query\n",
    "with conn.cursor() as cursor:\n",
    "    cursor.execute(query)\n",
    "    results = cursor.fetchall()\n",
    "\n",
    "# results\n",
    "for row in results:\n",
    "    json_data = row[0]\n",
    "\n",
    "    # Process the JSON data\n",
    "    for key, value in json_data.items():\n",
    "        print(f\"{key}: {value}\")\n",
    "\n",
    "    print()  \n",
    "# Close the connection\n",
    "conn.close()\n"
   ]
  }
 ],
 "metadata": {
  "kernelspec": {
   "display_name": "Python 3 (ipykernel)",
   "language": "python",
   "name": "python3"
  },
  "language_info": {
   "codemirror_mode": {
    "name": "ipython",
    "version": 3
   },
   "file_extension": ".py",
   "mimetype": "text/x-python",
   "name": "python",
   "nbconvert_exporter": "python",
   "pygments_lexer": "ipython3",
   "version": "3.9.12"
  }
 },
 "nbformat": 4,
 "nbformat_minor": 5
}
